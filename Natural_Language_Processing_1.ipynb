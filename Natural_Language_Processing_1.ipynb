{
  "nbformat": 4,
  "nbformat_minor": 0,
  "metadata": {
    "colab": {
      "provenance": [],
      "collapsed_sections": [
        "n779pB5esLi3",
        "zcJvc8JKg8te",
        "XHkYwrGyscWj",
        "vEiMZ4BsCBvY",
        "sDslLfAXS3br",
        "QRDsNM_WYdYe",
        "MWZiwWiKUUwW",
        "Fjblw3kJgzC8",
        "LoODAdwUSgl-",
        "dSFbr--61WTL",
        "DIOVP997JIH9"
      ],
      "mount_file_id": "1mFUJNYS7hwttef81EEUhZ6HxfmhtpB68",
      "authorship_tag": "ABX9TyMCBI49dxgy3HIWiYPOTaUU",
      "include_colab_link": true
    },
    "kernelspec": {
      "name": "python3",
      "display_name": "Python 3"
    },
    "language_info": {
      "name": "python"
    }
  },
  "cells": [
    {
      "cell_type": "markdown",
      "metadata": {
        "id": "view-in-github",
        "colab_type": "text"
      },
      "source": [
        "<a href=\"https://colab.research.google.com/github/EliasEconomou/AI2-Natural-Language-Processing/blob/main/Natural_Language_Processing_1.ipynb\" target=\"_parent\"><img src=\"https://colab.research.google.com/assets/colab-badge.svg\" alt=\"Open In Colab\"/></a>"
      ]
    },
    {
      "cell_type": "markdown",
      "source": [
        "# **Importing Libraries and Reading Datafile**"
      ],
      "metadata": {
        "id": "n779pB5esLi3"
      }
    },
    {
      "cell_type": "code",
      "execution_count": 1,
      "metadata": {
        "id": "cgRQrhtiAm52",
        "colab": {
          "base_uri": "https://localhost:8080/"
        },
        "outputId": "32dbf6b4-268f-4c6e-eb77-e502389013aa"
      },
      "outputs": [
        {
          "output_type": "stream",
          "name": "stderr",
          "text": [
            "[nltk_data] Downloading package punkt to /root/nltk_data...\n",
            "[nltk_data]   Unzipping tokenizers/punkt.zip.\n",
            "[nltk_data] Downloading package stopwords to /root/nltk_data...\n",
            "[nltk_data]   Unzipping corpora/stopwords.zip.\n",
            "[nltk_data] Downloading package wordnet to /root/nltk_data...\n",
            "[nltk_data] Downloading package omw-1.4 to /root/nltk_data...\n"
          ]
        }
      ],
      "source": [
        "import numpy as np\n",
        "import pandas as pd\n",
        "\n",
        "import sys\n",
        "import os.path\n",
        "import time\n",
        "\n",
        "import re\n",
        "import nltk\n",
        "nltk.download('punkt')\n",
        "nltk.download('stopwords')\n",
        "nltk.download('wordnet')\n",
        "nltk.download('omw-1.4')\n",
        "\n",
        "from nltk.corpus import stopwords\n",
        "from nltk.tokenize import word_tokenize\n",
        "from nltk.probability import FreqDist\n",
        "from nltk.stem import WordNetLemmatizer\n",
        "\n",
        "from itertools import chain\n",
        "from wordcloud import WordCloud\n",
        "\n",
        "import matplotlib.pyplot as plt\n",
        "\n",
        "from sklearn.model_selection import GridSearchCV\n",
        "from sklearn.model_selection import train_test_split\n",
        "from sklearn.feature_extraction.text import TfidfVectorizer\n",
        "from sklearn.linear_model import LogisticRegression\n",
        "from sklearn.metrics import classification_report\n",
        "from sklearn.metrics import make_scorer, accuracy_score, precision_score, recall_score, f1_score\n",
        "from sklearn import model_selection\n"
      ]
    },
    {
      "cell_type": "code",
      "source": [
        "# Read data files\n",
        "def read_csv_file(filePath,separator):\n",
        "  fileExists = os.path.exists(filePath)\n",
        "  if fileExists:\n",
        "    rFile = pd.read_csv(filePath,sep=separator)\n",
        "  else:\n",
        "    print('Enter data file path:')\n",
        "    filePath = input()\n",
        "    rFile = pd.read_csv(filePath,sep=separator)\n",
        "  return rFile"
      ],
      "metadata": {
        "id": "tKMH7eAxFroj"
      },
      "execution_count": 2,
      "outputs": []
    },
    {
      "cell_type": "code",
      "source": [
        "# Reading data file\n",
        "filePath = \"./drive/MyDrive/ColabNotebooks/Homework_1/imdb-reviews.csv\"\n",
        "initDF = read_csv_file(filePath,'\\t')\n",
        "initDF.head()"
      ],
      "metadata": {
        "colab": {
          "base_uri": "https://localhost:8080/",
          "height": 0
        },
        "id": "ujXkJjx9EJ6s",
        "outputId": "92f53fb3-fc9b-476b-ff40-45754bff3cac"
      },
      "execution_count": 3,
      "outputs": [
        {
          "output_type": "execute_result",
          "data": {
            "text/plain": [
              "                                                url  rating  \\\n",
              "0  http://www.imdb.com/title/tt0120623/usercomments    10.0   \n",
              "1  http://www.imdb.com/title/tt0043117/usercomments     9.0   \n",
              "2  http://www.imdb.com/title/tt0043117/usercomments    10.0   \n",
              "3  http://www.imdb.com/title/tt0835204/usercomments     4.0   \n",
              "4  http://www.imdb.com/title/tt0499603/usercomments    10.0   \n",
              "\n",
              "                                              review  \n",
              "0  I thought this was a quiet good movie. It was ...  \n",
              "1  Wagon Master is a very unique film amongst Joh...  \n",
              "2  This film has to be as near to perfect a film ...  \n",
              "3  I gave this 4 stars because it has a lot of in...  \n",
              "4  This movie is really genuine and random. It's ...  "
            ],
            "text/html": [
              "\n",
              "  <div id=\"df-be4fc666-b9d6-4c0f-8291-beac6866423b\">\n",
              "    <div class=\"colab-df-container\">\n",
              "      <div>\n",
              "<style scoped>\n",
              "    .dataframe tbody tr th:only-of-type {\n",
              "        vertical-align: middle;\n",
              "    }\n",
              "\n",
              "    .dataframe tbody tr th {\n",
              "        vertical-align: top;\n",
              "    }\n",
              "\n",
              "    .dataframe thead th {\n",
              "        text-align: right;\n",
              "    }\n",
              "</style>\n",
              "<table border=\"1\" class=\"dataframe\">\n",
              "  <thead>\n",
              "    <tr style=\"text-align: right;\">\n",
              "      <th></th>\n",
              "      <th>url</th>\n",
              "      <th>rating</th>\n",
              "      <th>review</th>\n",
              "    </tr>\n",
              "  </thead>\n",
              "  <tbody>\n",
              "    <tr>\n",
              "      <th>0</th>\n",
              "      <td>http://www.imdb.com/title/tt0120623/usercomments</td>\n",
              "      <td>10.0</td>\n",
              "      <td>I thought this was a quiet good movie. It was ...</td>\n",
              "    </tr>\n",
              "    <tr>\n",
              "      <th>1</th>\n",
              "      <td>http://www.imdb.com/title/tt0043117/usercomments</td>\n",
              "      <td>9.0</td>\n",
              "      <td>Wagon Master is a very unique film amongst Joh...</td>\n",
              "    </tr>\n",
              "    <tr>\n",
              "      <th>2</th>\n",
              "      <td>http://www.imdb.com/title/tt0043117/usercomments</td>\n",
              "      <td>10.0</td>\n",
              "      <td>This film has to be as near to perfect a film ...</td>\n",
              "    </tr>\n",
              "    <tr>\n",
              "      <th>3</th>\n",
              "      <td>http://www.imdb.com/title/tt0835204/usercomments</td>\n",
              "      <td>4.0</td>\n",
              "      <td>I gave this 4 stars because it has a lot of in...</td>\n",
              "    </tr>\n",
              "    <tr>\n",
              "      <th>4</th>\n",
              "      <td>http://www.imdb.com/title/tt0499603/usercomments</td>\n",
              "      <td>10.0</td>\n",
              "      <td>This movie is really genuine and random. It's ...</td>\n",
              "    </tr>\n",
              "  </tbody>\n",
              "</table>\n",
              "</div>\n",
              "      <button class=\"colab-df-convert\" onclick=\"convertToInteractive('df-be4fc666-b9d6-4c0f-8291-beac6866423b')\"\n",
              "              title=\"Convert this dataframe to an interactive table.\"\n",
              "              style=\"display:none;\">\n",
              "        \n",
              "  <svg xmlns=\"http://www.w3.org/2000/svg\" height=\"24px\"viewBox=\"0 0 24 24\"\n",
              "       width=\"24px\">\n",
              "    <path d=\"M0 0h24v24H0V0z\" fill=\"none\"/>\n",
              "    <path d=\"M18.56 5.44l.94 2.06.94-2.06 2.06-.94-2.06-.94-.94-2.06-.94 2.06-2.06.94zm-11 1L8.5 8.5l.94-2.06 2.06-.94-2.06-.94L8.5 2.5l-.94 2.06-2.06.94zm10 10l.94 2.06.94-2.06 2.06-.94-2.06-.94-.94-2.06-.94 2.06-2.06.94z\"/><path d=\"M17.41 7.96l-1.37-1.37c-.4-.4-.92-.59-1.43-.59-.52 0-1.04.2-1.43.59L10.3 9.45l-7.72 7.72c-.78.78-.78 2.05 0 2.83L4 21.41c.39.39.9.59 1.41.59.51 0 1.02-.2 1.41-.59l7.78-7.78 2.81-2.81c.8-.78.8-2.07 0-2.86zM5.41 20L4 18.59l7.72-7.72 1.47 1.35L5.41 20z\"/>\n",
              "  </svg>\n",
              "      </button>\n",
              "      \n",
              "  <style>\n",
              "    .colab-df-container {\n",
              "      display:flex;\n",
              "      flex-wrap:wrap;\n",
              "      gap: 12px;\n",
              "    }\n",
              "\n",
              "    .colab-df-convert {\n",
              "      background-color: #E8F0FE;\n",
              "      border: none;\n",
              "      border-radius: 50%;\n",
              "      cursor: pointer;\n",
              "      display: none;\n",
              "      fill: #1967D2;\n",
              "      height: 32px;\n",
              "      padding: 0 0 0 0;\n",
              "      width: 32px;\n",
              "    }\n",
              "\n",
              "    .colab-df-convert:hover {\n",
              "      background-color: #E2EBFA;\n",
              "      box-shadow: 0px 1px 2px rgba(60, 64, 67, 0.3), 0px 1px 3px 1px rgba(60, 64, 67, 0.15);\n",
              "      fill: #174EA6;\n",
              "    }\n",
              "\n",
              "    [theme=dark] .colab-df-convert {\n",
              "      background-color: #3B4455;\n",
              "      fill: #D2E3FC;\n",
              "    }\n",
              "\n",
              "    [theme=dark] .colab-df-convert:hover {\n",
              "      background-color: #434B5C;\n",
              "      box-shadow: 0px 1px 3px 1px rgba(0, 0, 0, 0.15);\n",
              "      filter: drop-shadow(0px 1px 2px rgba(0, 0, 0, 0.3));\n",
              "      fill: #FFFFFF;\n",
              "    }\n",
              "  </style>\n",
              "\n",
              "      <script>\n",
              "        const buttonEl =\n",
              "          document.querySelector('#df-be4fc666-b9d6-4c0f-8291-beac6866423b button.colab-df-convert');\n",
              "        buttonEl.style.display =\n",
              "          google.colab.kernel.accessAllowed ? 'block' : 'none';\n",
              "\n",
              "        async function convertToInteractive(key) {\n",
              "          const element = document.querySelector('#df-be4fc666-b9d6-4c0f-8291-beac6866423b');\n",
              "          const dataTable =\n",
              "            await google.colab.kernel.invokeFunction('convertToInteractive',\n",
              "                                                     [key], {});\n",
              "          if (!dataTable) return;\n",
              "\n",
              "          const docLinkHtml = 'Like what you see? Visit the ' +\n",
              "            '<a target=\"_blank\" href=https://colab.research.google.com/notebooks/data_table.ipynb>data table notebook</a>'\n",
              "            + ' to learn more about interactive tables.';\n",
              "          element.innerHTML = '';\n",
              "          dataTable['output_type'] = 'display_data';\n",
              "          await google.colab.output.renderOutput(dataTable, element);\n",
              "          const docLink = document.createElement('div');\n",
              "          docLink.innerHTML = docLinkHtml;\n",
              "          element.appendChild(docLink);\n",
              "        }\n",
              "      </script>\n",
              "    </div>\n",
              "  </div>\n",
              "  "
            ]
          },
          "metadata": {},
          "execution_count": 3
        }
      ]
    },
    {
      "cell_type": "code",
      "source": [],
      "metadata": {
        "id": "Ndd8YEgvsO7s"
      },
      "execution_count": 3,
      "outputs": []
    },
    {
      "cell_type": "markdown",
      "source": [
        "# **Preprocessing Functions**\n",
        "> Let's create some functions to help us clean and prepare a dataset with the above format for training/evaluating."
      ],
      "metadata": {
        "id": "zcJvc8JKg8te"
      }
    },
    {
      "cell_type": "code",
      "source": [
        "def preprocess_dataframe(df):\n",
        "  toBeCleanDF = df\n",
        "\n",
        "  # Let's remove any missing values\n",
        "  toBeCleanDF.dropna(inplace = True)\n",
        "\n",
        "  # We 're probably going to skip using the url column\n",
        "  toBeCleanDF = toBeCleanDF.drop([\"url\"], axis=1)\n",
        "\n",
        "  # Change the column order for simplicity\n",
        "  toBeCleanDF = toBeCleanDF[[\"review\",\"rating\"]]\n",
        "\n",
        "  # Remove punctuation, links, hashtags, new lines etc, using regular expressions\n",
        "  toBeCleanDF[\"review\"] = toBeCleanDF[\"review\"].replace('\\\"|\\'|\\.|,|\\?|!|:|\\(|\\)|%|\\$|;','', regex=True)\n",
        "  toBeCleanDF[\"review\"] = toBeCleanDF[\"review\"].replace('\\n|\\t','', regex=True)\n",
        "  toBeCleanDF[\"review\"] = toBeCleanDF[\"review\"].replace(r'(http\\S+)|(www\\S+)|(#\\S+)|(&\\S+)|(@\\S+)','', regex=True)\n",
        "  toBeCleanDF[\"review\"] = toBeCleanDF[\"review\"].replace('(\\s-\\s)','', regex=True)\n",
        "  toBeCleanDF[\"review\"] = toBeCleanDF[\"review\"].replace(r'\\b[0-9]+\\b', '', regex=True)\n",
        "  toBeCleanDF[\"review\"] = toBeCleanDF[\"review\"].replace(\"<br />\", ' ', regex=True)\n",
        "  toBeCleanDF[\"review\"] = toBeCleanDF[\"review\"].replace('/','', regex=True)\n",
        "\n",
        "  # Remove emojis by encoding - decoding into ascii, resulting in ignoring them\n",
        "  toBeCleanDF[\"review\"] = toBeCleanDF[\"review\"].apply(lambda x: x.encode('ascii', 'ignore').decode('ascii'))\n",
        "\n",
        "  # Convert review to lowercase\n",
        "  toBeCleanDF[\"review\"] = toBeCleanDF[\"review\"].str.lower()\n",
        "  \n",
        "  # We'll create a list of stopwords to remove, like 'i','is','you', etc\n",
        "  stopWords = list(stopwords.words('english'))\n",
        "  # Maybe remove or add some more\n",
        "  stopWords.remove(\"why\")\n",
        "  stopWords.remove(\"how\")\n",
        "  stopWords.remove(\"against\")\n",
        "  stopWords.remove(\"again\")\n",
        "  stopWords.remove(\"not\")\n",
        "  stopWords.append(\"'ve\")\n",
        "  stopWords.append(\"'re\")\n",
        "  stopWords.append(\"'s\")\n",
        "  stopWords.append(\"``\")\n",
        "  stopWords.append(\"''\")\n",
        "\n",
        "  # Let's also create a new column named evaluation to categorize reviews into positive, negative\n",
        "  # based on their rating (1-4 : negative as 'NEG' - 7-10 : positive as 'POS')\n",
        "  rating_ranges = [ (toBeCleanDF[\"rating\"] <= 4), (toBeCleanDF[\"rating\"] >=7) ]\n",
        "  sentiment = [\"NEG\", \"POS\"]\n",
        "\n",
        "  toBeCleanDF['sentiment'] = np.select(rating_ranges, sentiment)\n",
        "  \n",
        "  return toBeCleanDF,stopWords"
      ],
      "metadata": {
        "id": "Pykv7f-djJiL"
      },
      "execution_count": 4,
      "outputs": []
    },
    {
      "cell_type": "code",
      "source": [
        "# Tokenize the reviews\n",
        "def tokenize_dataframe(df,stopWords):\n",
        "  toBeTokenisedDF = df\n",
        "\n",
        "  toBeTokenisedDF[\"review\"] = toBeTokenisedDF[\"review\"].apply(word_tokenize)\n",
        "  toBeTokenisedDF[\"review\"] = toBeTokenisedDF[\"review\"].apply(lambda words: [word for word in words if word not in stopWords])\n",
        "\n",
        "  # Remove any unnecessary spaces that came up\n",
        "  toBeTokenisedDF[\"review\"] = toBeTokenisedDF[\"review\"].replace(' +', ' ', regex=True)\n",
        "\n",
        "  return toBeTokenisedDF"
      ],
      "metadata": {
        "id": "KRdGU4kGm2lU"
      },
      "execution_count": 5,
      "outputs": []
    },
    {
      "cell_type": "code",
      "source": [
        "def lemmatize_words(words):\n",
        "  lemmatizer = WordNetLemmatizer()\n",
        "  # We'll lematize nouns and verbs\n",
        "  words = [lemmatizer.lemmatize(noun, \"n\") for noun in words]\n",
        "  words = [lemmatizer.lemmatize(verb, \"v\") for verb in words]\n",
        "  \n",
        "  return words"
      ],
      "metadata": {
        "id": "raiZOcIloU9G"
      },
      "execution_count": 6,
      "outputs": []
    },
    {
      "cell_type": "code",
      "source": [
        "# Lemmatize the reviews\n",
        "def lemmatize_dataframe(df):\n",
        "  toBeLemmatisedDF = df.assign(review = df.review.apply(lambda x: lemmatize_words(x)))\n",
        "\n",
        "  return toBeLemmatisedDF"
      ],
      "metadata": {
        "id": "X24Mbb_moCm6"
      },
      "execution_count": 7,
      "outputs": []
    },
    {
      "cell_type": "markdown",
      "source": [
        "# **Preprocessing and Cleaning Data**\n",
        "> We start by cleaning the given dataset of missing values, stop words, links, emojis etc then tokenizing and lemmatizing the data."
      ],
      "metadata": {
        "id": "XHkYwrGyscWj"
      }
    },
    {
      "cell_type": "code",
      "source": [
        "cleanedDF,StopWords = preprocess_dataframe(initDF)\n",
        "cleanedDF = pd.DataFrame(cleanedDF)\n",
        "cleanedDF.head()"
      ],
      "metadata": {
        "id": "ih9FqYpqse2h",
        "colab": {
          "base_uri": "https://localhost:8080/",
          "height": 0
        },
        "outputId": "03e47da1-7aaa-4826-bb48-f6e9265e9ccd"
      },
      "execution_count": 8,
      "outputs": [
        {
          "output_type": "execute_result",
          "data": {
            "text/plain": [
              "                                              review  rating sentiment\n",
              "0  i thought this was a quiet good movie it was f...    10.0       POS\n",
              "1  wagon master is a very unique film amongst joh...     9.0       POS\n",
              "2  this film has to be as near to perfect a film ...    10.0       POS\n",
              "3  i gave this  stars because it has a lot of int...     4.0       NEG\n",
              "4  this movie is really genuine and random its re...    10.0       POS"
            ],
            "text/html": [
              "\n",
              "  <div id=\"df-1d10776d-534d-4bcc-bc35-e8d2b6180a57\">\n",
              "    <div class=\"colab-df-container\">\n",
              "      <div>\n",
              "<style scoped>\n",
              "    .dataframe tbody tr th:only-of-type {\n",
              "        vertical-align: middle;\n",
              "    }\n",
              "\n",
              "    .dataframe tbody tr th {\n",
              "        vertical-align: top;\n",
              "    }\n",
              "\n",
              "    .dataframe thead th {\n",
              "        text-align: right;\n",
              "    }\n",
              "</style>\n",
              "<table border=\"1\" class=\"dataframe\">\n",
              "  <thead>\n",
              "    <tr style=\"text-align: right;\">\n",
              "      <th></th>\n",
              "      <th>review</th>\n",
              "      <th>rating</th>\n",
              "      <th>sentiment</th>\n",
              "    </tr>\n",
              "  </thead>\n",
              "  <tbody>\n",
              "    <tr>\n",
              "      <th>0</th>\n",
              "      <td>i thought this was a quiet good movie it was f...</td>\n",
              "      <td>10.0</td>\n",
              "      <td>POS</td>\n",
              "    </tr>\n",
              "    <tr>\n",
              "      <th>1</th>\n",
              "      <td>wagon master is a very unique film amongst joh...</td>\n",
              "      <td>9.0</td>\n",
              "      <td>POS</td>\n",
              "    </tr>\n",
              "    <tr>\n",
              "      <th>2</th>\n",
              "      <td>this film has to be as near to perfect a film ...</td>\n",
              "      <td>10.0</td>\n",
              "      <td>POS</td>\n",
              "    </tr>\n",
              "    <tr>\n",
              "      <th>3</th>\n",
              "      <td>i gave this  stars because it has a lot of int...</td>\n",
              "      <td>4.0</td>\n",
              "      <td>NEG</td>\n",
              "    </tr>\n",
              "    <tr>\n",
              "      <th>4</th>\n",
              "      <td>this movie is really genuine and random its re...</td>\n",
              "      <td>10.0</td>\n",
              "      <td>POS</td>\n",
              "    </tr>\n",
              "  </tbody>\n",
              "</table>\n",
              "</div>\n",
              "      <button class=\"colab-df-convert\" onclick=\"convertToInteractive('df-1d10776d-534d-4bcc-bc35-e8d2b6180a57')\"\n",
              "              title=\"Convert this dataframe to an interactive table.\"\n",
              "              style=\"display:none;\">\n",
              "        \n",
              "  <svg xmlns=\"http://www.w3.org/2000/svg\" height=\"24px\"viewBox=\"0 0 24 24\"\n",
              "       width=\"24px\">\n",
              "    <path d=\"M0 0h24v24H0V0z\" fill=\"none\"/>\n",
              "    <path d=\"M18.56 5.44l.94 2.06.94-2.06 2.06-.94-2.06-.94-.94-2.06-.94 2.06-2.06.94zm-11 1L8.5 8.5l.94-2.06 2.06-.94-2.06-.94L8.5 2.5l-.94 2.06-2.06.94zm10 10l.94 2.06.94-2.06 2.06-.94-2.06-.94-.94-2.06-.94 2.06-2.06.94z\"/><path d=\"M17.41 7.96l-1.37-1.37c-.4-.4-.92-.59-1.43-.59-.52 0-1.04.2-1.43.59L10.3 9.45l-7.72 7.72c-.78.78-.78 2.05 0 2.83L4 21.41c.39.39.9.59 1.41.59.51 0 1.02-.2 1.41-.59l7.78-7.78 2.81-2.81c.8-.78.8-2.07 0-2.86zM5.41 20L4 18.59l7.72-7.72 1.47 1.35L5.41 20z\"/>\n",
              "  </svg>\n",
              "      </button>\n",
              "      \n",
              "  <style>\n",
              "    .colab-df-container {\n",
              "      display:flex;\n",
              "      flex-wrap:wrap;\n",
              "      gap: 12px;\n",
              "    }\n",
              "\n",
              "    .colab-df-convert {\n",
              "      background-color: #E8F0FE;\n",
              "      border: none;\n",
              "      border-radius: 50%;\n",
              "      cursor: pointer;\n",
              "      display: none;\n",
              "      fill: #1967D2;\n",
              "      height: 32px;\n",
              "      padding: 0 0 0 0;\n",
              "      width: 32px;\n",
              "    }\n",
              "\n",
              "    .colab-df-convert:hover {\n",
              "      background-color: #E2EBFA;\n",
              "      box-shadow: 0px 1px 2px rgba(60, 64, 67, 0.3), 0px 1px 3px 1px rgba(60, 64, 67, 0.15);\n",
              "      fill: #174EA6;\n",
              "    }\n",
              "\n",
              "    [theme=dark] .colab-df-convert {\n",
              "      background-color: #3B4455;\n",
              "      fill: #D2E3FC;\n",
              "    }\n",
              "\n",
              "    [theme=dark] .colab-df-convert:hover {\n",
              "      background-color: #434B5C;\n",
              "      box-shadow: 0px 1px 3px 1px rgba(0, 0, 0, 0.15);\n",
              "      filter: drop-shadow(0px 1px 2px rgba(0, 0, 0, 0.3));\n",
              "      fill: #FFFFFF;\n",
              "    }\n",
              "  </style>\n",
              "\n",
              "      <script>\n",
              "        const buttonEl =\n",
              "          document.querySelector('#df-1d10776d-534d-4bcc-bc35-e8d2b6180a57 button.colab-df-convert');\n",
              "        buttonEl.style.display =\n",
              "          google.colab.kernel.accessAllowed ? 'block' : 'none';\n",
              "\n",
              "        async function convertToInteractive(key) {\n",
              "          const element = document.querySelector('#df-1d10776d-534d-4bcc-bc35-e8d2b6180a57');\n",
              "          const dataTable =\n",
              "            await google.colab.kernel.invokeFunction('convertToInteractive',\n",
              "                                                     [key], {});\n",
              "          if (!dataTable) return;\n",
              "\n",
              "          const docLinkHtml = 'Like what you see? Visit the ' +\n",
              "            '<a target=\"_blank\" href=https://colab.research.google.com/notebooks/data_table.ipynb>data table notebook</a>'\n",
              "            + ' to learn more about interactive tables.';\n",
              "          element.innerHTML = '';\n",
              "          dataTable['output_type'] = 'display_data';\n",
              "          await google.colab.output.renderOutput(dataTable, element);\n",
              "          const docLink = document.createElement('div');\n",
              "          docLink.innerHTML = docLinkHtml;\n",
              "          element.appendChild(docLink);\n",
              "        }\n",
              "      </script>\n",
              "    </div>\n",
              "  </div>\n",
              "  "
            ]
          },
          "metadata": {},
          "execution_count": 8
        }
      ]
    },
    {
      "cell_type": "code",
      "source": [
        "tokenisedDF = tokenize_dataframe(cleanedDF,StopWords)\n",
        "tokenisedDF = pd.DataFrame(tokenisedDF)\n",
        "tokenisedDF.head()"
      ],
      "metadata": {
        "id": "Ghd-y8SSMfpa",
        "colab": {
          "base_uri": "https://localhost:8080/",
          "height": 0
        },
        "outputId": "f6cd7fa7-c58c-429d-ec77-08c0acf0c6d6"
      },
      "execution_count": 9,
      "outputs": [
        {
          "output_type": "execute_result",
          "data": {
            "text/plain": [
              "                                              review  rating sentiment\n",
              "0  [thought, quiet, good, movie, fun, watch, like...    10.0       POS\n",
              "1  [wagon, master, unique, film, amongst, john, f...     9.0       POS\n",
              "2  [film, near, perfect, film, john, ford, made, ...    10.0       POS\n",
              "3  [gave, stars, lot, interesting, themes, many, ...     4.0       NEG\n",
              "4  [movie, really, genuine, random, really, hard,...    10.0       POS"
            ],
            "text/html": [
              "\n",
              "  <div id=\"df-f5100e53-c443-4029-a43e-c7a2a376d19c\">\n",
              "    <div class=\"colab-df-container\">\n",
              "      <div>\n",
              "<style scoped>\n",
              "    .dataframe tbody tr th:only-of-type {\n",
              "        vertical-align: middle;\n",
              "    }\n",
              "\n",
              "    .dataframe tbody tr th {\n",
              "        vertical-align: top;\n",
              "    }\n",
              "\n",
              "    .dataframe thead th {\n",
              "        text-align: right;\n",
              "    }\n",
              "</style>\n",
              "<table border=\"1\" class=\"dataframe\">\n",
              "  <thead>\n",
              "    <tr style=\"text-align: right;\">\n",
              "      <th></th>\n",
              "      <th>review</th>\n",
              "      <th>rating</th>\n",
              "      <th>sentiment</th>\n",
              "    </tr>\n",
              "  </thead>\n",
              "  <tbody>\n",
              "    <tr>\n",
              "      <th>0</th>\n",
              "      <td>[thought, quiet, good, movie, fun, watch, like...</td>\n",
              "      <td>10.0</td>\n",
              "      <td>POS</td>\n",
              "    </tr>\n",
              "    <tr>\n",
              "      <th>1</th>\n",
              "      <td>[wagon, master, unique, film, amongst, john, f...</td>\n",
              "      <td>9.0</td>\n",
              "      <td>POS</td>\n",
              "    </tr>\n",
              "    <tr>\n",
              "      <th>2</th>\n",
              "      <td>[film, near, perfect, film, john, ford, made, ...</td>\n",
              "      <td>10.0</td>\n",
              "      <td>POS</td>\n",
              "    </tr>\n",
              "    <tr>\n",
              "      <th>3</th>\n",
              "      <td>[gave, stars, lot, interesting, themes, many, ...</td>\n",
              "      <td>4.0</td>\n",
              "      <td>NEG</td>\n",
              "    </tr>\n",
              "    <tr>\n",
              "      <th>4</th>\n",
              "      <td>[movie, really, genuine, random, really, hard,...</td>\n",
              "      <td>10.0</td>\n",
              "      <td>POS</td>\n",
              "    </tr>\n",
              "  </tbody>\n",
              "</table>\n",
              "</div>\n",
              "      <button class=\"colab-df-convert\" onclick=\"convertToInteractive('df-f5100e53-c443-4029-a43e-c7a2a376d19c')\"\n",
              "              title=\"Convert this dataframe to an interactive table.\"\n",
              "              style=\"display:none;\">\n",
              "        \n",
              "  <svg xmlns=\"http://www.w3.org/2000/svg\" height=\"24px\"viewBox=\"0 0 24 24\"\n",
              "       width=\"24px\">\n",
              "    <path d=\"M0 0h24v24H0V0z\" fill=\"none\"/>\n",
              "    <path d=\"M18.56 5.44l.94 2.06.94-2.06 2.06-.94-2.06-.94-.94-2.06-.94 2.06-2.06.94zm-11 1L8.5 8.5l.94-2.06 2.06-.94-2.06-.94L8.5 2.5l-.94 2.06-2.06.94zm10 10l.94 2.06.94-2.06 2.06-.94-2.06-.94-.94-2.06-.94 2.06-2.06.94z\"/><path d=\"M17.41 7.96l-1.37-1.37c-.4-.4-.92-.59-1.43-.59-.52 0-1.04.2-1.43.59L10.3 9.45l-7.72 7.72c-.78.78-.78 2.05 0 2.83L4 21.41c.39.39.9.59 1.41.59.51 0 1.02-.2 1.41-.59l7.78-7.78 2.81-2.81c.8-.78.8-2.07 0-2.86zM5.41 20L4 18.59l7.72-7.72 1.47 1.35L5.41 20z\"/>\n",
              "  </svg>\n",
              "      </button>\n",
              "      \n",
              "  <style>\n",
              "    .colab-df-container {\n",
              "      display:flex;\n",
              "      flex-wrap:wrap;\n",
              "      gap: 12px;\n",
              "    }\n",
              "\n",
              "    .colab-df-convert {\n",
              "      background-color: #E8F0FE;\n",
              "      border: none;\n",
              "      border-radius: 50%;\n",
              "      cursor: pointer;\n",
              "      display: none;\n",
              "      fill: #1967D2;\n",
              "      height: 32px;\n",
              "      padding: 0 0 0 0;\n",
              "      width: 32px;\n",
              "    }\n",
              "\n",
              "    .colab-df-convert:hover {\n",
              "      background-color: #E2EBFA;\n",
              "      box-shadow: 0px 1px 2px rgba(60, 64, 67, 0.3), 0px 1px 3px 1px rgba(60, 64, 67, 0.15);\n",
              "      fill: #174EA6;\n",
              "    }\n",
              "\n",
              "    [theme=dark] .colab-df-convert {\n",
              "      background-color: #3B4455;\n",
              "      fill: #D2E3FC;\n",
              "    }\n",
              "\n",
              "    [theme=dark] .colab-df-convert:hover {\n",
              "      background-color: #434B5C;\n",
              "      box-shadow: 0px 1px 3px 1px rgba(0, 0, 0, 0.15);\n",
              "      filter: drop-shadow(0px 1px 2px rgba(0, 0, 0, 0.3));\n",
              "      fill: #FFFFFF;\n",
              "    }\n",
              "  </style>\n",
              "\n",
              "      <script>\n",
              "        const buttonEl =\n",
              "          document.querySelector('#df-f5100e53-c443-4029-a43e-c7a2a376d19c button.colab-df-convert');\n",
              "        buttonEl.style.display =\n",
              "          google.colab.kernel.accessAllowed ? 'block' : 'none';\n",
              "\n",
              "        async function convertToInteractive(key) {\n",
              "          const element = document.querySelector('#df-f5100e53-c443-4029-a43e-c7a2a376d19c');\n",
              "          const dataTable =\n",
              "            await google.colab.kernel.invokeFunction('convertToInteractive',\n",
              "                                                     [key], {});\n",
              "          if (!dataTable) return;\n",
              "\n",
              "          const docLinkHtml = 'Like what you see? Visit the ' +\n",
              "            '<a target=\"_blank\" href=https://colab.research.google.com/notebooks/data_table.ipynb>data table notebook</a>'\n",
              "            + ' to learn more about interactive tables.';\n",
              "          element.innerHTML = '';\n",
              "          dataTable['output_type'] = 'display_data';\n",
              "          await google.colab.output.renderOutput(dataTable, element);\n",
              "          const docLink = document.createElement('div');\n",
              "          docLink.innerHTML = docLinkHtml;\n",
              "          element.appendChild(docLink);\n",
              "        }\n",
              "      </script>\n",
              "    </div>\n",
              "  </div>\n",
              "  "
            ]
          },
          "metadata": {},
          "execution_count": 9
        }
      ]
    },
    {
      "cell_type": "code",
      "source": [
        "lemmatisedDF = lemmatize_dataframe(tokenisedDF)\n",
        "lemmatisedDF = pd.DataFrame(lemmatisedDF)\n",
        "lemmatisedDF.head()"
      ],
      "metadata": {
        "id": "7asaErwoRbRW",
        "colab": {
          "base_uri": "https://localhost:8080/",
          "height": 0
        },
        "outputId": "86e11972-0d3e-45dd-ba51-d39ebfec3641"
      },
      "execution_count": 10,
      "outputs": [
        {
          "output_type": "execute_result",
          "data": {
            "text/plain": [
              "                                              review  rating sentiment\n",
              "0  [think, quiet, good, movie, fun, watch, like, ...    10.0       POS\n",
              "1  [wagon, master, unique, film, amongst, john, f...     9.0       POS\n",
              "2  [film, near, perfect, film, john, ford, make, ...    10.0       POS\n",
              "3  [give, star, lot, interest, theme, many, alrea...     4.0       NEG\n",
              "4  [movie, really, genuine, random, really, hard,...    10.0       POS"
            ],
            "text/html": [
              "\n",
              "  <div id=\"df-0eb032c0-250d-436f-a24e-3de2975df74a\">\n",
              "    <div class=\"colab-df-container\">\n",
              "      <div>\n",
              "<style scoped>\n",
              "    .dataframe tbody tr th:only-of-type {\n",
              "        vertical-align: middle;\n",
              "    }\n",
              "\n",
              "    .dataframe tbody tr th {\n",
              "        vertical-align: top;\n",
              "    }\n",
              "\n",
              "    .dataframe thead th {\n",
              "        text-align: right;\n",
              "    }\n",
              "</style>\n",
              "<table border=\"1\" class=\"dataframe\">\n",
              "  <thead>\n",
              "    <tr style=\"text-align: right;\">\n",
              "      <th></th>\n",
              "      <th>review</th>\n",
              "      <th>rating</th>\n",
              "      <th>sentiment</th>\n",
              "    </tr>\n",
              "  </thead>\n",
              "  <tbody>\n",
              "    <tr>\n",
              "      <th>0</th>\n",
              "      <td>[think, quiet, good, movie, fun, watch, like, ...</td>\n",
              "      <td>10.0</td>\n",
              "      <td>POS</td>\n",
              "    </tr>\n",
              "    <tr>\n",
              "      <th>1</th>\n",
              "      <td>[wagon, master, unique, film, amongst, john, f...</td>\n",
              "      <td>9.0</td>\n",
              "      <td>POS</td>\n",
              "    </tr>\n",
              "    <tr>\n",
              "      <th>2</th>\n",
              "      <td>[film, near, perfect, film, john, ford, make, ...</td>\n",
              "      <td>10.0</td>\n",
              "      <td>POS</td>\n",
              "    </tr>\n",
              "    <tr>\n",
              "      <th>3</th>\n",
              "      <td>[give, star, lot, interest, theme, many, alrea...</td>\n",
              "      <td>4.0</td>\n",
              "      <td>NEG</td>\n",
              "    </tr>\n",
              "    <tr>\n",
              "      <th>4</th>\n",
              "      <td>[movie, really, genuine, random, really, hard,...</td>\n",
              "      <td>10.0</td>\n",
              "      <td>POS</td>\n",
              "    </tr>\n",
              "  </tbody>\n",
              "</table>\n",
              "</div>\n",
              "      <button class=\"colab-df-convert\" onclick=\"convertToInteractive('df-0eb032c0-250d-436f-a24e-3de2975df74a')\"\n",
              "              title=\"Convert this dataframe to an interactive table.\"\n",
              "              style=\"display:none;\">\n",
              "        \n",
              "  <svg xmlns=\"http://www.w3.org/2000/svg\" height=\"24px\"viewBox=\"0 0 24 24\"\n",
              "       width=\"24px\">\n",
              "    <path d=\"M0 0h24v24H0V0z\" fill=\"none\"/>\n",
              "    <path d=\"M18.56 5.44l.94 2.06.94-2.06 2.06-.94-2.06-.94-.94-2.06-.94 2.06-2.06.94zm-11 1L8.5 8.5l.94-2.06 2.06-.94-2.06-.94L8.5 2.5l-.94 2.06-2.06.94zm10 10l.94 2.06.94-2.06 2.06-.94-2.06-.94-.94-2.06-.94 2.06-2.06.94z\"/><path d=\"M17.41 7.96l-1.37-1.37c-.4-.4-.92-.59-1.43-.59-.52 0-1.04.2-1.43.59L10.3 9.45l-7.72 7.72c-.78.78-.78 2.05 0 2.83L4 21.41c.39.39.9.59 1.41.59.51 0 1.02-.2 1.41-.59l7.78-7.78 2.81-2.81c.8-.78.8-2.07 0-2.86zM5.41 20L4 18.59l7.72-7.72 1.47 1.35L5.41 20z\"/>\n",
              "  </svg>\n",
              "      </button>\n",
              "      \n",
              "  <style>\n",
              "    .colab-df-container {\n",
              "      display:flex;\n",
              "      flex-wrap:wrap;\n",
              "      gap: 12px;\n",
              "    }\n",
              "\n",
              "    .colab-df-convert {\n",
              "      background-color: #E8F0FE;\n",
              "      border: none;\n",
              "      border-radius: 50%;\n",
              "      cursor: pointer;\n",
              "      display: none;\n",
              "      fill: #1967D2;\n",
              "      height: 32px;\n",
              "      padding: 0 0 0 0;\n",
              "      width: 32px;\n",
              "    }\n",
              "\n",
              "    .colab-df-convert:hover {\n",
              "      background-color: #E2EBFA;\n",
              "      box-shadow: 0px 1px 2px rgba(60, 64, 67, 0.3), 0px 1px 3px 1px rgba(60, 64, 67, 0.15);\n",
              "      fill: #174EA6;\n",
              "    }\n",
              "\n",
              "    [theme=dark] .colab-df-convert {\n",
              "      background-color: #3B4455;\n",
              "      fill: #D2E3FC;\n",
              "    }\n",
              "\n",
              "    [theme=dark] .colab-df-convert:hover {\n",
              "      background-color: #434B5C;\n",
              "      box-shadow: 0px 1px 3px 1px rgba(0, 0, 0, 0.15);\n",
              "      filter: drop-shadow(0px 1px 2px rgba(0, 0, 0, 0.3));\n",
              "      fill: #FFFFFF;\n",
              "    }\n",
              "  </style>\n",
              "\n",
              "      <script>\n",
              "        const buttonEl =\n",
              "          document.querySelector('#df-0eb032c0-250d-436f-a24e-3de2975df74a button.colab-df-convert');\n",
              "        buttonEl.style.display =\n",
              "          google.colab.kernel.accessAllowed ? 'block' : 'none';\n",
              "\n",
              "        async function convertToInteractive(key) {\n",
              "          const element = document.querySelector('#df-0eb032c0-250d-436f-a24e-3de2975df74a');\n",
              "          const dataTable =\n",
              "            await google.colab.kernel.invokeFunction('convertToInteractive',\n",
              "                                                     [key], {});\n",
              "          if (!dataTable) return;\n",
              "\n",
              "          const docLinkHtml = 'Like what you see? Visit the ' +\n",
              "            '<a target=\"_blank\" href=https://colab.research.google.com/notebooks/data_table.ipynb>data table notebook</a>'\n",
              "            + ' to learn more about interactive tables.';\n",
              "          element.innerHTML = '';\n",
              "          dataTable['output_type'] = 'display_data';\n",
              "          await google.colab.output.renderOutput(dataTable, element);\n",
              "          const docLink = document.createElement('div');\n",
              "          docLink.innerHTML = docLinkHtml;\n",
              "          element.appendChild(docLink);\n",
              "        }\n",
              "      </script>\n",
              "    </div>\n",
              "  </div>\n",
              "  "
            ]
          },
          "metadata": {},
          "execution_count": 10
        }
      ]
    },
    {
      "cell_type": "markdown",
      "source": [
        "# **Analyzing Data (optional)**\n",
        "\n",
        "\n",
        "> Let's do some basic analysis to extract usefull information about our reviews.\n",
        "\n"
      ],
      "metadata": {
        "id": "vEiMZ4BsCBvY"
      }
    },
    {
      "cell_type": "code",
      "source": [
        "ratingsDICT = {'1-2' : 0, '3-4' : 0, '7-8' : 0, '9-10' : 0}\n",
        "for rating in lemmatisedDF[\"rating\"]:\n",
        "  if rating == 1.0 or rating == 2.0:\n",
        "    ratingsDICT[\"1-2\"] += 1\n",
        "  elif rating == 3.0 or rating == 4.0:\n",
        "    ratingsDICT[\"3-4\"] += 1\n",
        "  elif rating == 7.0 or rating == 8.0:\n",
        "    ratingsDICT[\"7-8\"] += 1\n",
        "  elif rating == 9.0 or rating == 10.0:\n",
        "    ratingsDICT[\"9-10\"] += 1\n",
        "\n",
        "labels = ratingsDICT.keys()\n",
        "sizes = ratingsDICT.values()\n",
        "explode = [0, 0, 0, 0.07]\n",
        "\n",
        "fig1, ax1 = plt.subplots()\n",
        "ax1.pie(sizes, explode=explode, labels=labels, autopct='%1.1f%%',\n",
        "        shadow=True, startangle=0)\n",
        "ax1.axis('equal')\n",
        "plt.title(label=\"Ratings Distribution\",\n",
        "          loc=\"left\",\n",
        "          pad='20.0',\n",
        "          backgroundcolor='lime')\n",
        "plt.show()"
      ],
      "metadata": {
        "colab": {
          "base_uri": "https://localhost:8080/",
          "height": 278
        },
        "id": "yhAw4_P1CDcf",
        "outputId": "038bb562-e664-4f24-8427-fe23bad380c5"
      },
      "execution_count": 11,
      "outputs": [
        {
          "output_type": "display_data",
          "data": {
            "text/plain": [
              "<Figure size 432x288 with 1 Axes>"
            ],
            "image/png": "[encoded data removed]"
          },
          "metadata": {}
        }
      ]
    },
    {
      "cell_type": "markdown",
      "source": [
        "We see that there are almost equally numbered negative/positive reviews."
      ],
      "metadata": {
        "id": "tj5yUH-HMMuc"
      }
    },
    {
      "cell_type": "code",
      "source": [
        "# Group by sentiment and plot wordclouds for most used words in every sentiment\n",
        "groupBySent = lemmatisedDF.groupby('sentiment')\n",
        "\n",
        "POSgroup = groupBySent.get_group('POS')\n",
        "NEGgroup = groupBySent.get_group('NEG')"
      ],
      "metadata": {
        "id": "_Bq3sDNdMok7"
      },
      "execution_count": 12,
      "outputs": []
    },
    {
      "cell_type": "code",
      "source": [
        "POSList = list(chain.from_iterable(list(POSgroup[\"review\"])))\n",
        "POSfdist = FreqDist(POSList)\n",
        "NEGList = list(chain.from_iterable(list(NEGgroup[\"review\"])))\n",
        "NEGfdist = FreqDist(NEGList)"
      ],
      "metadata": {
        "id": "woXdwykHispx"
      },
      "execution_count": 13,
      "outputs": []
    },
    {
      "cell_type": "code",
      "source": [
        "POScloud = WordCloud(max_words=50,\n",
        "                      background_color='white',\n",
        "                      contour_color='black',\n",
        "                      contour_width=4).generate_from_frequencies(POSfdist)\n",
        "\n",
        "plt.imshow(POScloud, interpolation='bilinear')\n",
        "plt.axis('off')\n",
        "plt.title(label='Most used words - POSITIVE reviews',\n",
        "          loc=\"left\",\n",
        "          pad='25.0',\n",
        "          backgroundcolor='lime')\n",
        "plt.show()"
      ],
      "metadata": {
        "colab": {
          "base_uri": "https://localhost:8080/",
          "height": 233
        },
        "id": "iilPC6ldk2LO",
        "outputId": "f9966abe-65c6-4176-d52e-ebca316e487f"
      },
      "execution_count": 14,
      "outputs": [
        {
          "output_type": "display_data",
          "data": {
            "text/plain": [
              "<Figure size 432x288 with 1 Axes>"
            ],
            "image/png": "[encoded data removed]"
          },
          "metadata": {
            "needs_background": "light"
          }
        }
      ]
    },
    {
      "cell_type": "code",
      "source": [
        "NEGcloud = WordCloud(max_words=50,\n",
        "                      background_color='white',\n",
        "                      contour_color='black',\n",
        "                      contour_width=4).generate_from_frequencies(NEGfdist)\n",
        "\n",
        "plt.imshow(NEGcloud, interpolation='bilinear')\n",
        "plt.axis('off')\n",
        "plt.title(label='Most used words - NEGATIVE reviews',\n",
        "          loc=\"left\",\n",
        "          pad='25.0',\n",
        "          backgroundcolor='lime')\n",
        "plt.show()"
      ],
      "metadata": {
        "colab": {
          "base_uri": "https://localhost:8080/",
          "height": 233
        },
        "id": "7qqEhrmklRfY",
        "outputId": "c1754f4b-4968-4885-ed59-8fa75e42eb43"
      },
      "execution_count": 15,
      "outputs": [
        {
          "output_type": "display_data",
          "data": {
            "text/plain": [
              "<Figure size 432x288 with 1 Axes>"
            ],
            "image/png": "[encoded data removed]"
          },
          "metadata": {
            "needs_background": "light"
          }
        }
      ]
    },
    {
      "cell_type": "markdown",
      "source": [
        "# **Split data into train/validation sets**"
      ],
      "metadata": {
        "id": "sDslLfAXS3br"
      }
    },
    {
      "cell_type": "code",
      "source": [
        "DF = lemmatisedDF\n",
        "\n",
        "# Keep data in X and labels in y\n",
        "X, y = DF.drop(columns = [\"sentiment\",\"rating\"]), DF.drop(columns = [\"review\",\"rating\"])\n",
        "print(X.shape, y.shape)"
      ],
      "metadata": {
        "colab": {
          "base_uri": "https://localhost:8080/"
        },
        "id": "LBjAX8UotOK3",
        "outputId": "ea54dc4e-b411-4798-a556-f6e7e222f508"
      },
      "execution_count": 42,
      "outputs": [
        {
          "output_type": "stream",
          "name": "stdout",
          "text": [
            "(45008, 1) (45008, 1)\n"
          ]
        }
      ]
    },
    {
      "cell_type": "code",
      "source": [
        "# Split into train/test sets\n",
        "X_train, X_test, y_train, y_test = train_test_split(X, y, test_size=0.25, shuffle=False)\n",
        "print(X_train.shape, X_test.shape, y_train.shape, y_test.shape)"
      ],
      "metadata": {
        "colab": {
          "base_uri": "https://localhost:8080/"
        },
        "id": "VbgDp_aavJ1E",
        "outputId": "8c1ad4ae-3fc4-43a4-ad9d-c6d128945f53"
      },
      "execution_count": 43,
      "outputs": [
        {
          "output_type": "stream",
          "name": "stdout",
          "text": [
            "(33756, 1) (11252, 1) (33756, 1) (11252, 1)\n"
          ]
        }
      ]
    },
    {
      "cell_type": "markdown",
      "source": [
        "# **Use a test set (optional)**\n",
        "\n",
        "\n",
        "> Here we can use a different test set to test our model."
      ],
      "metadata": {
        "id": "QRDsNM_WYdYe"
      }
    },
    {
      "cell_type": "code",
      "source": [
        "# Reading test file\n",
        "testPath = \"./drive/MyDrive/ColabNotebooks/Homework_1/useAsTestSet.csv\"\n",
        "testDF = read_csv_file(testPath,'\\t')\n",
        "testDF.head()"
      ],
      "metadata": {
        "colab": {
          "base_uri": "https://localhost:8080/",
          "height": 206
        },
        "id": "3fkLZyoJYwdZ",
        "outputId": "4158985d-f1ca-453a-d942-8a3834470dc5"
      },
      "execution_count": 29,
      "outputs": [
        {
          "output_type": "execute_result",
          "data": {
            "text/plain": [
              "                                                url  rating  \\\n",
              "0  http://www.imdb.com/title/tt0120623/usercomments    10.0   \n",
              "1  http://www.imdb.com/title/tt0043117/usercomments     9.0   \n",
              "2  http://www.imdb.com/title/tt0043117/usercomments    10.0   \n",
              "3  http://www.imdb.com/title/tt0835204/usercomments     4.0   \n",
              "4  http://www.imdb.com/title/tt0499603/usercomments    10.0   \n",
              "\n",
              "                                              review  \n",
              "0  I thought this was a quiet good movie. It was ...  \n",
              "1  Wagon Master is a very unique film amongst Joh...  \n",
              "2  This film has to be as near to perfect a film ...  \n",
              "3  I gave this 4 stars because it has a lot of in...  \n",
              "4  This movie is really genuine and random. It's ...  "
            ],
            "text/html": [
              "\n",
              "  <div id=\"df-b080f0d8-0887-41c4-a94c-a54b85892414\">\n",
              "    <div class=\"colab-df-container\">\n",
              "      <div>\n",
              "<style scoped>\n",
              "    .dataframe tbody tr th:only-of-type {\n",
              "        vertical-align: middle;\n",
              "    }\n",
              "\n",
              "    .dataframe tbody tr th {\n",
              "        vertical-align: top;\n",
              "    }\n",
              "\n",
              "    .dataframe thead th {\n",
              "        text-align: right;\n",
              "    }\n",
              "</style>\n",
              "<table border=\"1\" class=\"dataframe\">\n",
              "  <thead>\n",
              "    <tr style=\"text-align: right;\">\n",
              "      <th></th>\n",
              "      <th>url</th>\n",
              "      <th>rating</th>\n",
              "      <th>review</th>\n",
              "    </tr>\n",
              "  </thead>\n",
              "  <tbody>\n",
              "    <tr>\n",
              "      <th>0</th>\n",
              "      <td>http://www.imdb.com/title/tt0120623/usercomments</td>\n",
              "      <td>10.0</td>\n",
              "      <td>I thought this was a quiet good movie. It was ...</td>\n",
              "    </tr>\n",
              "    <tr>\n",
              "      <th>1</th>\n",
              "      <td>http://www.imdb.com/title/tt0043117/usercomments</td>\n",
              "      <td>9.0</td>\n",
              "      <td>Wagon Master is a very unique film amongst Joh...</td>\n",
              "    </tr>\n",
              "    <tr>\n",
              "      <th>2</th>\n",
              "      <td>http://www.imdb.com/title/tt0043117/usercomments</td>\n",
              "      <td>10.0</td>\n",
              "      <td>This film has to be as near to perfect a film ...</td>\n",
              "    </tr>\n",
              "    <tr>\n",
              "      <th>3</th>\n",
              "      <td>http://www.imdb.com/title/tt0835204/usercomments</td>\n",
              "      <td>4.0</td>\n",
              "      <td>I gave this 4 stars because it has a lot of in...</td>\n",
              "    </tr>\n",
              "    <tr>\n",
              "      <th>4</th>\n",
              "      <td>http://www.imdb.com/title/tt0499603/usercomments</td>\n",
              "      <td>10.0</td>\n",
              "      <td>This movie is really genuine and random. It's ...</td>\n",
              "    </tr>\n",
              "  </tbody>\n",
              "</table>\n",
              "</div>\n",
              "      <button class=\"colab-df-convert\" onclick=\"convertToInteractive('df-b080f0d8-0887-41c4-a94c-a54b85892414')\"\n",
              "              title=\"Convert this dataframe to an interactive table.\"\n",
              "              style=\"display:none;\">\n",
              "        \n",
              "  <svg xmlns=\"http://www.w3.org/2000/svg\" height=\"24px\"viewBox=\"0 0 24 24\"\n",
              "       width=\"24px\">\n",
              "    <path d=\"M0 0h24v24H0V0z\" fill=\"none\"/>\n",
              "    <path d=\"M18.56 5.44l.94 2.06.94-2.06 2.06-.94-2.06-.94-.94-2.06-.94 2.06-2.06.94zm-11 1L8.5 8.5l.94-2.06 2.06-.94-2.06-.94L8.5 2.5l-.94 2.06-2.06.94zm10 10l.94 2.06.94-2.06 2.06-.94-2.06-.94-.94-2.06-.94 2.06-2.06.94z\"/><path d=\"M17.41 7.96l-1.37-1.37c-.4-.4-.92-.59-1.43-.59-.52 0-1.04.2-1.43.59L10.3 9.45l-7.72 7.72c-.78.78-.78 2.05 0 2.83L4 21.41c.39.39.9.59 1.41.59.51 0 1.02-.2 1.41-.59l7.78-7.78 2.81-2.81c.8-.78.8-2.07 0-2.86zM5.41 20L4 18.59l7.72-7.72 1.47 1.35L5.41 20z\"/>\n",
              "  </svg>\n",
              "      </button>\n",
              "      \n",
              "  <style>\n",
              "    .colab-df-container {\n",
              "      display:flex;\n",
              "      flex-wrap:wrap;\n",
              "      gap: 12px;\n",
              "    }\n",
              "\n",
              "    .colab-df-convert {\n",
              "      background-color: #E8F0FE;\n",
              "      border: none;\n",
              "      border-radius: 50%;\n",
              "      cursor: pointer;\n",
              "      display: none;\n",
              "      fill: #1967D2;\n",
              "      height: 32px;\n",
              "      padding: 0 0 0 0;\n",
              "      width: 32px;\n",
              "    }\n",
              "\n",
              "    .colab-df-convert:hover {\n",
              "      background-color: #E2EBFA;\n",
              "      box-shadow: 0px 1px 2px rgba(60, 64, 67, 0.3), 0px 1px 3px 1px rgba(60, 64, 67, 0.15);\n",
              "      fill: #174EA6;\n",
              "    }\n",
              "\n",
              "    [theme=dark] .colab-df-convert {\n",
              "      background-color: #3B4455;\n",
              "      fill: #D2E3FC;\n",
              "    }\n",
              "\n",
              "    [theme=dark] .colab-df-convert:hover {\n",
              "      background-color: #434B5C;\n",
              "      box-shadow: 0px 1px 3px 1px rgba(0, 0, 0, 0.15);\n",
              "      filter: drop-shadow(0px 1px 2px rgba(0, 0, 0, 0.3));\n",
              "      fill: #FFFFFF;\n",
              "    }\n",
              "  </style>\n",
              "\n",
              "      <script>\n",
              "        const buttonEl =\n",
              "          document.querySelector('#df-b080f0d8-0887-41c4-a94c-a54b85892414 button.colab-df-convert');\n",
              "        buttonEl.style.display =\n",
              "          google.colab.kernel.accessAllowed ? 'block' : 'none';\n",
              "\n",
              "        async function convertToInteractive(key) {\n",
              "          const element = document.querySelector('#df-b080f0d8-0887-41c4-a94c-a54b85892414');\n",
              "          const dataTable =\n",
              "            await google.colab.kernel.invokeFunction('convertToInteractive',\n",
              "                                                     [key], {});\n",
              "          if (!dataTable) return;\n",
              "\n",
              "          const docLinkHtml = 'Like what you see? Visit the ' +\n",
              "            '<a target=\"_blank\" href=https://colab.research.google.com/notebooks/data_table.ipynb>data table notebook</a>'\n",
              "            + ' to learn more about interactive tables.';\n",
              "          element.innerHTML = '';\n",
              "          dataTable['output_type'] = 'display_data';\n",
              "          await google.colab.output.renderOutput(dataTable, element);\n",
              "          const docLink = document.createElement('div');\n",
              "          docLink.innerHTML = docLinkHtml;\n",
              "          element.appendChild(docLink);\n",
              "        }\n",
              "      </script>\n",
              "    </div>\n",
              "  </div>\n",
              "  "
            ]
          },
          "metadata": {},
          "execution_count": 29
        }
      ]
    },
    {
      "cell_type": "code",
      "source": [
        "cleanedTestDF,StopWords = preprocess_dataframe(testDF)\n",
        "cleanedTestDF = pd.DataFrame(cleanedTestDF)\n",
        "cleanedTestDF.head()"
      ],
      "metadata": {
        "colab": {
          "base_uri": "https://localhost:8080/",
          "height": 206
        },
        "outputId": "eb87a444-2e6f-4776-be97-4883f82d14fe",
        "id": "kxvpII_X1blB"
      },
      "execution_count": 30,
      "outputs": [
        {
          "output_type": "execute_result",
          "data": {
            "text/plain": [
              "                                              review  rating sentiment\n",
              "0  i thought this was a quiet good movie it was f...    10.0       POS\n",
              "1  wagon master is a very unique film amongst joh...     9.0       POS\n",
              "2  this film has to be as near to perfect a film ...    10.0       POS\n",
              "3  i gave this  stars because it has a lot of int...     4.0       NEG\n",
              "4  this movie is really genuine and random its re...    10.0       POS"
            ],
            "text/html": [
              "\n",
              "  <div id=\"df-00497cf1-e7e4-4ff2-9a73-be94cd5f24a6\">\n",
              "    <div class=\"colab-df-container\">\n",
              "      <div>\n",
              "<style scoped>\n",
              "    .dataframe tbody tr th:only-of-type {\n",
              "        vertical-align: middle;\n",
              "    }\n",
              "\n",
              "    .dataframe tbody tr th {\n",
              "        vertical-align: top;\n",
              "    }\n",
              "\n",
              "    .dataframe thead th {\n",
              "        text-align: right;\n",
              "    }\n",
              "</style>\n",
              "<table border=\"1\" class=\"dataframe\">\n",
              "  <thead>\n",
              "    <tr style=\"text-align: right;\">\n",
              "      <th></th>\n",
              "      <th>review</th>\n",
              "      <th>rating</th>\n",
              "      <th>sentiment</th>\n",
              "    </tr>\n",
              "  </thead>\n",
              "  <tbody>\n",
              "    <tr>\n",
              "      <th>0</th>\n",
              "      <td>i thought this was a quiet good movie it was f...</td>\n",
              "      <td>10.0</td>\n",
              "      <td>POS</td>\n",
              "    </tr>\n",
              "    <tr>\n",
              "      <th>1</th>\n",
              "      <td>wagon master is a very unique film amongst joh...</td>\n",
              "      <td>9.0</td>\n",
              "      <td>POS</td>\n",
              "    </tr>\n",
              "    <tr>\n",
              "      <th>2</th>\n",
              "      <td>this film has to be as near to perfect a film ...</td>\n",
              "      <td>10.0</td>\n",
              "      <td>POS</td>\n",
              "    </tr>\n",
              "    <tr>\n",
              "      <th>3</th>\n",
              "      <td>i gave this  stars because it has a lot of int...</td>\n",
              "      <td>4.0</td>\n",
              "      <td>NEG</td>\n",
              "    </tr>\n",
              "    <tr>\n",
              "      <th>4</th>\n",
              "      <td>this movie is really genuine and random its re...</td>\n",
              "      <td>10.0</td>\n",
              "      <td>POS</td>\n",
              "    </tr>\n",
              "  </tbody>\n",
              "</table>\n",
              "</div>\n",
              "      <button class=\"colab-df-convert\" onclick=\"convertToInteractive('df-00497cf1-e7e4-4ff2-9a73-be94cd5f24a6')\"\n",
              "              title=\"Convert this dataframe to an interactive table.\"\n",
              "              style=\"display:none;\">\n",
              "        \n",
              "  <svg xmlns=\"http://www.w3.org/2000/svg\" height=\"24px\"viewBox=\"0 0 24 24\"\n",
              "       width=\"24px\">\n",
              "    <path d=\"M0 0h24v24H0V0z\" fill=\"none\"/>\n",
              "    <path d=\"M18.56 5.44l.94 2.06.94-2.06 2.06-.94-2.06-.94-.94-2.06-.94 2.06-2.06.94zm-11 1L8.5 8.5l.94-2.06 2.06-.94-2.06-.94L8.5 2.5l-.94 2.06-2.06.94zm10 10l.94 2.06.94-2.06 2.06-.94-2.06-.94-.94-2.06-.94 2.06-2.06.94z\"/><path d=\"M17.41 7.96l-1.37-1.37c-.4-.4-.92-.59-1.43-.59-.52 0-1.04.2-1.43.59L10.3 9.45l-7.72 7.72c-.78.78-.78 2.05 0 2.83L4 21.41c.39.39.9.59 1.41.59.51 0 1.02-.2 1.41-.59l7.78-7.78 2.81-2.81c.8-.78.8-2.07 0-2.86zM5.41 20L4 18.59l7.72-7.72 1.47 1.35L5.41 20z\"/>\n",
              "  </svg>\n",
              "      </button>\n",
              "      \n",
              "  <style>\n",
              "    .colab-df-container {\n",
              "      display:flex;\n",
              "      flex-wrap:wrap;\n",
              "      gap: 12px;\n",
              "    }\n",
              "\n",
              "    .colab-df-convert {\n",
              "      background-color: #E8F0FE;\n",
              "      border: none;\n",
              "      border-radius: 50%;\n",
              "      cursor: pointer;\n",
              "      display: none;\n",
              "      fill: #1967D2;\n",
              "      height: 32px;\n",
              "      padding: 0 0 0 0;\n",
              "      width: 32px;\n",
              "    }\n",
              "\n",
              "    .colab-df-convert:hover {\n",
              "      background-color: #E2EBFA;\n",
              "      box-shadow: 0px 1px 2px rgba(60, 64, 67, 0.3), 0px 1px 3px 1px rgba(60, 64, 67, 0.15);\n",
              "      fill: #174EA6;\n",
              "    }\n",
              "\n",
              "    [theme=dark] .colab-df-convert {\n",
              "      background-color: #3B4455;\n",
              "      fill: #D2E3FC;\n",
              "    }\n",
              "\n",
              "    [theme=dark] .colab-df-convert:hover {\n",
              "      background-color: #434B5C;\n",
              "      box-shadow: 0px 1px 3px 1px rgba(0, 0, 0, 0.15);\n",
              "      filter: drop-shadow(0px 1px 2px rgba(0, 0, 0, 0.3));\n",
              "      fill: #FFFFFF;\n",
              "    }\n",
              "  </style>\n",
              "\n",
              "      <script>\n",
              "        const buttonEl =\n",
              "          document.querySelector('#df-00497cf1-e7e4-4ff2-9a73-be94cd5f24a6 button.colab-df-convert');\n",
              "        buttonEl.style.display =\n",
              "          google.colab.kernel.accessAllowed ? 'block' : 'none';\n",
              "\n",
              "        async function convertToInteractive(key) {\n",
              "          const element = document.querySelector('#df-00497cf1-e7e4-4ff2-9a73-be94cd5f24a6');\n",
              "          const dataTable =\n",
              "            await google.colab.kernel.invokeFunction('convertToInteractive',\n",
              "                                                     [key], {});\n",
              "          if (!dataTable) return;\n",
              "\n",
              "          const docLinkHtml = 'Like what you see? Visit the ' +\n",
              "            '<a target=\"_blank\" href=https://colab.research.google.com/notebooks/data_table.ipynb>data table notebook</a>'\n",
              "            + ' to learn more about interactive tables.';\n",
              "          element.innerHTML = '';\n",
              "          dataTable['output_type'] = 'display_data';\n",
              "          await google.colab.output.renderOutput(dataTable, element);\n",
              "          const docLink = document.createElement('div');\n",
              "          docLink.innerHTML = docLinkHtml;\n",
              "          element.appendChild(docLink);\n",
              "        }\n",
              "      </script>\n",
              "    </div>\n",
              "  </div>\n",
              "  "
            ]
          },
          "metadata": {},
          "execution_count": 30
        }
      ]
    },
    {
      "cell_type": "code",
      "source": [
        "tokenisedTestDF = tokenize_dataframe(cleanedTestDF,StopWords)\n",
        "tokenisedTestDF = pd.DataFrame(tokenisedTestDF)\n",
        "tokenisedTestDF.head()"
      ],
      "metadata": {
        "colab": {
          "base_uri": "https://localhost:8080/",
          "height": 206
        },
        "outputId": "e05d7add-1ce1-4fbc-d41c-c30fe82d4fac",
        "id": "oFSST4O21blC"
      },
      "execution_count": 31,
      "outputs": [
        {
          "output_type": "execute_result",
          "data": {
            "text/plain": [
              "                                              review  rating sentiment\n",
              "0  [thought, quiet, good, movie, fun, watch, like...    10.0       POS\n",
              "1  [wagon, master, unique, film, amongst, john, f...     9.0       POS\n",
              "2  [film, near, perfect, film, john, ford, made, ...    10.0       POS\n",
              "3  [gave, stars, lot, interesting, themes, many, ...     4.0       NEG\n",
              "4  [movie, really, genuine, random, really, hard,...    10.0       POS"
            ],
            "text/html": [
              "\n",
              "  <div id=\"df-39977218-2eb9-4b8f-b9d6-96f8a8119442\">\n",
              "    <div class=\"colab-df-container\">\n",
              "      <div>\n",
              "<style scoped>\n",
              "    .dataframe tbody tr th:only-of-type {\n",
              "        vertical-align: middle;\n",
              "    }\n",
              "\n",
              "    .dataframe tbody tr th {\n",
              "        vertical-align: top;\n",
              "    }\n",
              "\n",
              "    .dataframe thead th {\n",
              "        text-align: right;\n",
              "    }\n",
              "</style>\n",
              "<table border=\"1\" class=\"dataframe\">\n",
              "  <thead>\n",
              "    <tr style=\"text-align: right;\">\n",
              "      <th></th>\n",
              "      <th>review</th>\n",
              "      <th>rating</th>\n",
              "      <th>sentiment</th>\n",
              "    </tr>\n",
              "  </thead>\n",
              "  <tbody>\n",
              "    <tr>\n",
              "      <th>0</th>\n",
              "      <td>[thought, quiet, good, movie, fun, watch, like...</td>\n",
              "      <td>10.0</td>\n",
              "      <td>POS</td>\n",
              "    </tr>\n",
              "    <tr>\n",
              "      <th>1</th>\n",
              "      <td>[wagon, master, unique, film, amongst, john, f...</td>\n",
              "      <td>9.0</td>\n",
              "      <td>POS</td>\n",
              "    </tr>\n",
              "    <tr>\n",
              "      <th>2</th>\n",
              "      <td>[film, near, perfect, film, john, ford, made, ...</td>\n",
              "      <td>10.0</td>\n",
              "      <td>POS</td>\n",
              "    </tr>\n",
              "    <tr>\n",
              "      <th>3</th>\n",
              "      <td>[gave, stars, lot, interesting, themes, many, ...</td>\n",
              "      <td>4.0</td>\n",
              "      <td>NEG</td>\n",
              "    </tr>\n",
              "    <tr>\n",
              "      <th>4</th>\n",
              "      <td>[movie, really, genuine, random, really, hard,...</td>\n",
              "      <td>10.0</td>\n",
              "      <td>POS</td>\n",
              "    </tr>\n",
              "  </tbody>\n",
              "</table>\n",
              "</div>\n",
              "      <button class=\"colab-df-convert\" onclick=\"convertToInteractive('df-39977218-2eb9-4b8f-b9d6-96f8a8119442')\"\n",
              "              title=\"Convert this dataframe to an interactive table.\"\n",
              "              style=\"display:none;\">\n",
              "        \n",
              "  <svg xmlns=\"http://www.w3.org/2000/svg\" height=\"24px\"viewBox=\"0 0 24 24\"\n",
              "       width=\"24px\">\n",
              "    <path d=\"M0 0h24v24H0V0z\" fill=\"none\"/>\n",
              "    <path d=\"M18.56 5.44l.94 2.06.94-2.06 2.06-.94-2.06-.94-.94-2.06-.94 2.06-2.06.94zm-11 1L8.5 8.5l.94-2.06 2.06-.94-2.06-.94L8.5 2.5l-.94 2.06-2.06.94zm10 10l.94 2.06.94-2.06 2.06-.94-2.06-.94-.94-2.06-.94 2.06-2.06.94z\"/><path d=\"M17.41 7.96l-1.37-1.37c-.4-.4-.92-.59-1.43-.59-.52 0-1.04.2-1.43.59L10.3 9.45l-7.72 7.72c-.78.78-.78 2.05 0 2.83L4 21.41c.39.39.9.59 1.41.59.51 0 1.02-.2 1.41-.59l7.78-7.78 2.81-2.81c.8-.78.8-2.07 0-2.86zM5.41 20L4 18.59l7.72-7.72 1.47 1.35L5.41 20z\"/>\n",
              "  </svg>\n",
              "      </button>\n",
              "      \n",
              "  <style>\n",
              "    .colab-df-container {\n",
              "      display:flex;\n",
              "      flex-wrap:wrap;\n",
              "      gap: 12px;\n",
              "    }\n",
              "\n",
              "    .colab-df-convert {\n",
              "      background-color: #E8F0FE;\n",
              "      border: none;\n",
              "      border-radius: 50%;\n",
              "      cursor: pointer;\n",
              "      display: none;\n",
              "      fill: #1967D2;\n",
              "      height: 32px;\n",
              "      padding: 0 0 0 0;\n",
              "      width: 32px;\n",
              "    }\n",
              "\n",
              "    .colab-df-convert:hover {\n",
              "      background-color: #E2EBFA;\n",
              "      box-shadow: 0px 1px 2px rgba(60, 64, 67, 0.3), 0px 1px 3px 1px rgba(60, 64, 67, 0.15);\n",
              "      fill: #174EA6;\n",
              "    }\n",
              "\n",
              "    [theme=dark] .colab-df-convert {\n",
              "      background-color: #3B4455;\n",
              "      fill: #D2E3FC;\n",
              "    }\n",
              "\n",
              "    [theme=dark] .colab-df-convert:hover {\n",
              "      background-color: #434B5C;\n",
              "      box-shadow: 0px 1px 3px 1px rgba(0, 0, 0, 0.15);\n",
              "      filter: drop-shadow(0px 1px 2px rgba(0, 0, 0, 0.3));\n",
              "      fill: #FFFFFF;\n",
              "    }\n",
              "  </style>\n",
              "\n",
              "      <script>\n",
              "        const buttonEl =\n",
              "          document.querySelector('#df-39977218-2eb9-4b8f-b9d6-96f8a8119442 button.colab-df-convert');\n",
              "        buttonEl.style.display =\n",
              "          google.colab.kernel.accessAllowed ? 'block' : 'none';\n",
              "\n",
              "        async function convertToInteractive(key) {\n",
              "          const element = document.querySelector('#df-39977218-2eb9-4b8f-b9d6-96f8a8119442');\n",
              "          const dataTable =\n",
              "            await google.colab.kernel.invokeFunction('convertToInteractive',\n",
              "                                                     [key], {});\n",
              "          if (!dataTable) return;\n",
              "\n",
              "          const docLinkHtml = 'Like what you see? Visit the ' +\n",
              "            '<a target=\"_blank\" href=https://colab.research.google.com/notebooks/data_table.ipynb>data table notebook</a>'\n",
              "            + ' to learn more about interactive tables.';\n",
              "          element.innerHTML = '';\n",
              "          dataTable['output_type'] = 'display_data';\n",
              "          await google.colab.output.renderOutput(dataTable, element);\n",
              "          const docLink = document.createElement('div');\n",
              "          docLink.innerHTML = docLinkHtml;\n",
              "          element.appendChild(docLink);\n",
              "        }\n",
              "      </script>\n",
              "    </div>\n",
              "  </div>\n",
              "  "
            ]
          },
          "metadata": {},
          "execution_count": 31
        }
      ]
    },
    {
      "cell_type": "code",
      "source": [
        "lemmatisedTestDF = lemmatize_dataframe(tokenisedTestDF)\n",
        "lemmatisedTestDF = pd.DataFrame(lemmatisedTestDF)\n",
        "lemmatisedTestDF.head()"
      ],
      "metadata": {
        "colab": {
          "base_uri": "https://localhost:8080/",
          "height": 206
        },
        "outputId": "4ee4f032-b256-4499-d387-f4793ae0991d",
        "id": "MoCzivJQ1blD"
      },
      "execution_count": 32,
      "outputs": [
        {
          "output_type": "execute_result",
          "data": {
            "text/plain": [
              "                                              review  rating sentiment\n",
              "0  [think, quiet, good, movie, fun, watch, like, ...    10.0       POS\n",
              "1  [wagon, master, unique, film, amongst, john, f...     9.0       POS\n",
              "2  [film, near, perfect, film, john, ford, make, ...    10.0       POS\n",
              "3  [give, star, lot, interest, theme, many, alrea...     4.0       NEG\n",
              "4  [movie, really, genuine, random, really, hard,...    10.0       POS"
            ],
            "text/html": [
              "\n",
              "  <div id=\"df-51283988-d98d-4779-9da0-ad1e6fd4855e\">\n",
              "    <div class=\"colab-df-container\">\n",
              "      <div>\n",
              "<style scoped>\n",
              "    .dataframe tbody tr th:only-of-type {\n",
              "        vertical-align: middle;\n",
              "    }\n",
              "\n",
              "    .dataframe tbody tr th {\n",
              "        vertical-align: top;\n",
              "    }\n",
              "\n",
              "    .dataframe thead th {\n",
              "        text-align: right;\n",
              "    }\n",
              "</style>\n",
              "<table border=\"1\" class=\"dataframe\">\n",
              "  <thead>\n",
              "    <tr style=\"text-align: right;\">\n",
              "      <th></th>\n",
              "      <th>review</th>\n",
              "      <th>rating</th>\n",
              "      <th>sentiment</th>\n",
              "    </tr>\n",
              "  </thead>\n",
              "  <tbody>\n",
              "    <tr>\n",
              "      <th>0</th>\n",
              "      <td>[think, quiet, good, movie, fun, watch, like, ...</td>\n",
              "      <td>10.0</td>\n",
              "      <td>POS</td>\n",
              "    </tr>\n",
              "    <tr>\n",
              "      <th>1</th>\n",
              "      <td>[wagon, master, unique, film, amongst, john, f...</td>\n",
              "      <td>9.0</td>\n",
              "      <td>POS</td>\n",
              "    </tr>\n",
              "    <tr>\n",
              "      <th>2</th>\n",
              "      <td>[film, near, perfect, film, john, ford, make, ...</td>\n",
              "      <td>10.0</td>\n",
              "      <td>POS</td>\n",
              "    </tr>\n",
              "    <tr>\n",
              "      <th>3</th>\n",
              "      <td>[give, star, lot, interest, theme, many, alrea...</td>\n",
              "      <td>4.0</td>\n",
              "      <td>NEG</td>\n",
              "    </tr>\n",
              "    <tr>\n",
              "      <th>4</th>\n",
              "      <td>[movie, really, genuine, random, really, hard,...</td>\n",
              "      <td>10.0</td>\n",
              "      <td>POS</td>\n",
              "    </tr>\n",
              "  </tbody>\n",
              "</table>\n",
              "</div>\n",
              "      <button class=\"colab-df-convert\" onclick=\"convertToInteractive('df-51283988-d98d-4779-9da0-ad1e6fd4855e')\"\n",
              "              title=\"Convert this dataframe to an interactive table.\"\n",
              "              style=\"display:none;\">\n",
              "        \n",
              "  <svg xmlns=\"http://www.w3.org/2000/svg\" height=\"24px\"viewBox=\"0 0 24 24\"\n",
              "       width=\"24px\">\n",
              "    <path d=\"M0 0h24v24H0V0z\" fill=\"none\"/>\n",
              "    <path d=\"M18.56 5.44l.94 2.06.94-2.06 2.06-.94-2.06-.94-.94-2.06-.94 2.06-2.06.94zm-11 1L8.5 8.5l.94-2.06 2.06-.94-2.06-.94L8.5 2.5l-.94 2.06-2.06.94zm10 10l.94 2.06.94-2.06 2.06-.94-2.06-.94-.94-2.06-.94 2.06-2.06.94z\"/><path d=\"M17.41 7.96l-1.37-1.37c-.4-.4-.92-.59-1.43-.59-.52 0-1.04.2-1.43.59L10.3 9.45l-7.72 7.72c-.78.78-.78 2.05 0 2.83L4 21.41c.39.39.9.59 1.41.59.51 0 1.02-.2 1.41-.59l7.78-7.78 2.81-2.81c.8-.78.8-2.07 0-2.86zM5.41 20L4 18.59l7.72-7.72 1.47 1.35L5.41 20z\"/>\n",
              "  </svg>\n",
              "      </button>\n",
              "      \n",
              "  <style>\n",
              "    .colab-df-container {\n",
              "      display:flex;\n",
              "      flex-wrap:wrap;\n",
              "      gap: 12px;\n",
              "    }\n",
              "\n",
              "    .colab-df-convert {\n",
              "      background-color: #E8F0FE;\n",
              "      border: none;\n",
              "      border-radius: 50%;\n",
              "      cursor: pointer;\n",
              "      display: none;\n",
              "      fill: #1967D2;\n",
              "      height: 32px;\n",
              "      padding: 0 0 0 0;\n",
              "      width: 32px;\n",
              "    }\n",
              "\n",
              "    .colab-df-convert:hover {\n",
              "      background-color: #E2EBFA;\n",
              "      box-shadow: 0px 1px 2px rgba(60, 64, 67, 0.3), 0px 1px 3px 1px rgba(60, 64, 67, 0.15);\n",
              "      fill: #174EA6;\n",
              "    }\n",
              "\n",
              "    [theme=dark] .colab-df-convert {\n",
              "      background-color: #3B4455;\n",
              "      fill: #D2E3FC;\n",
              "    }\n",
              "\n",
              "    [theme=dark] .colab-df-convert:hover {\n",
              "      background-color: #434B5C;\n",
              "      box-shadow: 0px 1px 3px 1px rgba(0, 0, 0, 0.15);\n",
              "      filter: drop-shadow(0px 1px 2px rgba(0, 0, 0, 0.3));\n",
              "      fill: #FFFFFF;\n",
              "    }\n",
              "  </style>\n",
              "\n",
              "      <script>\n",
              "        const buttonEl =\n",
              "          document.querySelector('#df-51283988-d98d-4779-9da0-ad1e6fd4855e button.colab-df-convert');\n",
              "        buttonEl.style.display =\n",
              "          google.colab.kernel.accessAllowed ? 'block' : 'none';\n",
              "\n",
              "        async function convertToInteractive(key) {\n",
              "          const element = document.querySelector('#df-51283988-d98d-4779-9da0-ad1e6fd4855e');\n",
              "          const dataTable =\n",
              "            await google.colab.kernel.invokeFunction('convertToInteractive',\n",
              "                                                     [key], {});\n",
              "          if (!dataTable) return;\n",
              "\n",
              "          const docLinkHtml = 'Like what you see? Visit the ' +\n",
              "            '<a target=\"_blank\" href=https://colab.research.google.com/notebooks/data_table.ipynb>data table notebook</a>'\n",
              "            + ' to learn more about interactive tables.';\n",
              "          element.innerHTML = '';\n",
              "          dataTable['output_type'] = 'display_data';\n",
              "          await google.colab.output.renderOutput(dataTable, element);\n",
              "          const docLink = document.createElement('div');\n",
              "          docLink.innerHTML = docLinkHtml;\n",
              "          element.appendChild(docLink);\n",
              "        }\n",
              "      </script>\n",
              "    </div>\n",
              "  </div>\n",
              "  "
            ]
          },
          "metadata": {},
          "execution_count": 32
        }
      ]
    },
    {
      "cell_type": "code",
      "source": [
        "X_test, y_test = lemmatisedTestDF.drop(columns = [\"sentiment\",\"rating\"]), lemmatisedTestDF.drop(columns = [\"review\",\"rating\"])\n",
        "print(X_test.shape, y_test.shape)"
      ],
      "metadata": {
        "colab": {
          "base_uri": "https://localhost:8080/"
        },
        "id": "HtYnxJ3UZwVg",
        "outputId": "7b594db9-75bb-486e-e81f-cc91c56fc15f"
      },
      "execution_count": 33,
      "outputs": [
        {
          "output_type": "stream",
          "name": "stdout",
          "text": [
            "(3167, 1) (3167, 1)\n"
          ]
        }
      ]
    },
    {
      "cell_type": "markdown",
      "source": [
        "# **TF-IDF Vectorizer**\n",
        "\n",
        "\n",
        "> Here we transform our Xtrain / Xtest text into vector space models using TF-IDF."
      ],
      "metadata": {
        "id": "MWZiwWiKUUwW"
      }
    },
    {
      "cell_type": "code",
      "source": [
        "tfidf_vectorizer = TfidfVectorizer(max_df=1.0, min_df=1, max_features=2000)\n",
        "\n",
        "# Create TF-IDF for train data\n",
        "tfidf_X_train = tfidf_vectorizer.fit_transform(X_train[\"review\"].astype(str))\n",
        "\n",
        "# Create TF-IDF for test data\n",
        "tfidf_X_test = tfidf_vectorizer.transform(X_test[\"review\"].astype(str))"
      ],
      "metadata": {
        "id": "Fre0Vqjp2n_a"
      },
      "execution_count": 44,
      "outputs": []
    },
    {
      "cell_type": "code",
      "source": [
        "# print(tfidf_vectorizer.vocabulary_)"
      ],
      "metadata": {
        "id": "4JgMtoBt-MCJ"
      },
      "execution_count": 45,
      "outputs": []
    },
    {
      "cell_type": "code",
      "source": [
        "# print(tfidf_X_train),print(X_train)"
      ],
      "metadata": {
        "id": "45wseKDH7aLO"
      },
      "execution_count": 46,
      "outputs": []
    },
    {
      "cell_type": "markdown",
      "source": [
        "# **Grid Search (optional)**\n",
        "\n",
        "\n",
        "> We'll try to find some good hyperparameter values with the Grid Search method."
      ],
      "metadata": {
        "id": "Fjblw3kJgzC8"
      }
    },
    {
      "cell_type": "code",
      "source": [
        "param_grid = [\n",
        "  {'penalty' : ['l1', 'l2'],\n",
        "  'C' : np.logspace(-4, 4, 20),\n",
        "  'solver' : ['lbfgs', \"newton-cg\", \"liblinear\", \"sag\", \"saga\"],\n",
        "   'max_iter' : [500, 1000, 1500, 2000, 2500, 3000]}\n",
        "]\n"
      ],
      "metadata": {
        "id": "vBqYBF_qybIK"
      },
      "execution_count": null,
      "outputs": []
    },
    {
      "cell_type": "code",
      "source": [
        "lr = LogisticRegression()\n",
        "\n",
        "grid_search = GridSearchCV(estimator = lr, param_grid = param_grid, \n",
        "                          cv = 2)"
      ],
      "metadata": {
        "id": "2X5EohYXybDs"
      },
      "execution_count": null,
      "outputs": []
    },
    {
      "cell_type": "code",
      "source": [
        "grid_search.fit(tfidf_X_train, y_train.sentiment)"
      ],
      "metadata": {
        "id": "S3CmYLOGya76"
      },
      "execution_count": null,
      "outputs": []
    },
    {
      "cell_type": "code",
      "source": [
        "bestPar = grid_search.best_params_\n",
        "bestPar"
      ],
      "metadata": {
        "id": "1UXWElGjSZtt",
        "colab": {
          "base_uri": "https://localhost:8080/"
        },
        "outputId": "87a19b5a-9407-4a4e-a088-92387e016dab"
      },
      "execution_count": null,
      "outputs": [
        {
          "output_type": "execute_result",
          "data": {
            "text/plain": [
              "{'C': 1.623776739188721, 'max_iter': 2000, 'penalty': 'l2', 'solver': 'saga'}"
            ]
          },
          "metadata": {},
          "execution_count": 107
        }
      ]
    },
    {
      "cell_type": "code",
      "source": [],
      "metadata": {
        "id": "QWc-J_-eSUOB"
      },
      "execution_count": null,
      "outputs": []
    },
    {
      "cell_type": "code",
      "source": [],
      "metadata": {
        "id": "EtCtUksSSViN"
      },
      "execution_count": null,
      "outputs": []
    },
    {
      "cell_type": "code",
      "source": [],
      "metadata": {
        "id": "N7mLxQlPSfqo"
      },
      "execution_count": null,
      "outputs": []
    },
    {
      "cell_type": "markdown",
      "source": [
        "# **Logistic Regression with TF-IDF Vectorizer**\n",
        "\n",
        "\n",
        "> Now let's train our data using the best hyperparameters found before and evaluate our model.\n",
        "\n"
      ],
      "metadata": {
        "id": "LoODAdwUSgl-"
      }
    },
    {
      "cell_type": "code",
      "source": [
        "# Training\n",
        "clf = LogisticRegression(C = 1.62, random_state=0, solver = \"saga\", penalty = 'l2', max_iter=2000)\n",
        "print(\"Training the dataset...\")\n",
        "clf.fit(tfidf_X_train, y_train.sentiment)\n",
        "print(\"Training Completed.\")"
      ],
      "metadata": {
        "colab": {
          "base_uri": "https://localhost:8080/"
        },
        "outputId": "83c729a3-406c-4aa2-c50e-eaada6dd860e",
        "id": "Y6bFmgodSgmD"
      },
      "execution_count": 47,
      "outputs": [
        {
          "output_type": "stream",
          "name": "stdout",
          "text": [
            "Training the dataset...\n",
            "Training Completed.\n"
          ]
        }
      ]
    },
    {
      "cell_type": "code",
      "source": [
        "# Testing\n",
        "print(\"Testing data...\")\n",
        "result = clf.predict(tfidf_X_test)\n",
        "print(\"Testing completed. Results are available.\")"
      ],
      "metadata": {
        "colab": {
          "base_uri": "https://localhost:8080/"
        },
        "outputId": "daa18a25-cb72-412f-dc19-db71373f1c9b",
        "id": "Dpc4pRWKSgmE"
      },
      "execution_count": 48,
      "outputs": [
        {
          "output_type": "stream",
          "name": "stdout",
          "text": [
            "Testing data...\n",
            "Testing completed. Results are available.\n"
          ]
        }
      ]
    },
    {
      "cell_type": "code",
      "source": [
        "accuracy = accuracy_score(y_test.sentiment, result)\n",
        "accuracy"
      ],
      "metadata": {
        "colab": {
          "base_uri": "https://localhost:8080/"
        },
        "id": "EhO_hH3fSgmF",
        "outputId": "6885e348-7443-4285-f587-236bb374fa39"
      },
      "execution_count": 49,
      "outputs": [
        {
          "output_type": "execute_result",
          "data": {
            "text/plain": [
              "0.8849093494489868"
            ]
          },
          "metadata": {},
          "execution_count": 49
        }
      ]
    },
    {
      "cell_type": "code",
      "source": [
        "# Let's see our metrics extensively \n",
        "print(classification_report(y_test.sentiment,result))"
      ],
      "metadata": {
        "colab": {
          "base_uri": "https://localhost:8080/"
        },
        "outputId": "b9458ecb-7aa6-4fb1-8c39-ba524bdee4f6",
        "id": "pkVlLRjASgmG"
      },
      "execution_count": 50,
      "outputs": [
        {
          "output_type": "stream",
          "name": "stdout",
          "text": [
            "              precision    recall  f1-score   support\n",
            "\n",
            "         NEG       0.90      0.87      0.88      5649\n",
            "         POS       0.87      0.90      0.89      5603\n",
            "\n",
            "    accuracy                           0.88     11252\n",
            "   macro avg       0.89      0.88      0.88     11252\n",
            "weighted avg       0.89      0.88      0.88     11252\n",
            "\n"
          ]
        }
      ]
    },
    {
      "cell_type": "markdown",
      "source": [
        "# **Cross Validation**\n",
        "We'll use the 10-fold cross validation method to evaluate our classifier."
      ],
      "metadata": {
        "id": "dSFbr--61WTL"
      }
    },
    {
      "cell_type": "code",
      "source": [
        "def create_metrics_list(classifierName,metricsList,cvResults):\n",
        "  metricsList.append(classifierName)\n",
        "  metricsList.append([\"Avg precision : \" + str(np.mean(cvResults.get(\"test_precision\")))])\n",
        "  metricsList.append([\"Avg recall : \" + str(np.mean(cvResults.get(\"test_recall\")))])\n",
        "  metricsList.append([\"Avg f1 score : \" + str(np.mean(cvResults.get(\"test_f1_score\")))])"
      ],
      "metadata": {
        "id": "4vrmZd7Q62XR"
      },
      "execution_count": 24,
      "outputs": []
    },
    {
      "cell_type": "code",
      "source": [
        "# Dictionary to hold metrics\n",
        "metrics_score = { 'precision' : make_scorer(precision_score,average='weighted'),\n",
        "                  'recall'    : make_scorer(recall_score,average='weighted'),\n",
        "                  'f1_score'  : make_scorer(f1_score,average='weighted')}\n",
        "\n",
        "crossValResults = model_selection.cross_validate(estimator=clf,\n",
        "                                          X=tfidf_X_train,\n",
        "                                          y=y_train.sentiment,\n",
        "                                          cv=10,\n",
        "                                          scoring=metrics_score)\n",
        "\n",
        "metricsResult = []\n",
        "create_metrics_list(\"Logistic Regression on tf-idf\",metricsResult,crossValResults)"
      ],
      "metadata": {
        "id": "AoruL2dC1Std"
      },
      "execution_count": 25,
      "outputs": []
    },
    {
      "cell_type": "code",
      "source": [
        "metricsResult"
      ],
      "metadata": {
        "colab": {
          "base_uri": "https://localhost:8080/"
        },
        "id": "QkiSc6Fy7MJV",
        "outputId": "051165d7-98c7-40dd-cc09-2790eee0fcf0"
      },
      "execution_count": 26,
      "outputs": [
        {
          "output_type": "execute_result",
          "data": {
            "text/plain": [
              "['Logistic Regression on tf-idf',\n",
              " ['Avg precision : 0.8807554827562981'],\n",
              " ['Avg recall : 0.8805842022116904'],\n",
              " ['Avg f1 score : 0.8805690162266601']]"
            ]
          },
          "metadata": {},
          "execution_count": 26
        }
      ]
    },
    {
      "cell_type": "code",
      "source": [
        "# valScore = cross_val_score(clf,tfidf_X_train, y_train.sentiment, cv = 10)\n"
      ],
      "metadata": {
        "id": "aFnMST1a23OZ"
      },
      "execution_count": 27,
      "outputs": []
    },
    {
      "cell_type": "markdown",
      "source": [
        "# **Learning Curve on F1 Score**\n"
      ],
      "metadata": {
        "id": "DIOVP997JIH9"
      }
    },
    {
      "cell_type": "code",
      "source": [
        "list_f1=[]\n",
        "list_f1_train=[]\n",
        "list_sample_size=[]\n",
        "\n",
        "for times in range(10):\n",
        "\n",
        "  # Training\n",
        "  X, X_unused, y, y_unused = train_test_split(tfidf_X_train, y_train.sentiment, test_size=1 - (times * 0.1 + 0.001))\n",
        "\n",
        "  classifier = LogisticRegression(C = 1.62, random_state=0, solver = \"saga\", penalty = 'l2', max_iter=2000)\n",
        "  classifier.fit(X, y)\n",
        "\n",
        "  results_train = classifier.predict(X)\n",
        "\n",
        "  # Validation\n",
        "  results = classifier.predict(tfidf_X_test)\n",
        "\n",
        "  # Score\n",
        "  f1_train = f1_score(y, results_train, pos_label=\"POS\")\n",
        "  print(\"F1 Score Train: \" + str(f1_train))\n",
        "\n",
        "  f1 = f1_score(y_test.sentiment, results, pos_label=\"POS\")\n",
        "  print(\"F1 Score Validation: \" + str(f1))\n",
        "\n",
        "  list_f1.append(f1)\n",
        "  list_f1_train.append(f1_train)\n",
        "  list_sample_size.append((times * 0.1 + 0.1))\n",
        "\n",
        "# Plot_data\n",
        "plt.plot(list_sample_size, list_f1)\n",
        "plt.plot(list_sample_size, list_f1_train)\n",
        "\n",
        "plt.ylim(ymin=0)\n",
        "plt.legend([\"Validation\", \"Training\"])"
      ],
      "metadata": {
        "colab": {
          "base_uri": "https://localhost:8080/",
          "height": 630
        },
        "id": "rf38m9e9LNFB",
        "outputId": "ae2bee7d-3e30-4ebf-d3d3-dd9b22b78188"
      },
      "execution_count": 51,
      "outputs": [
        {
          "output_type": "stream",
          "name": "stdout",
          "text": [
            "F1 Score Train: 1.0\n",
            "F1 Score Validation: 0.7007892115546702\n",
            "F1 Score Train: 0.9318514185434338\n",
            "F1 Score Validation: 0.8551186680835992\n",
            "F1 Score Train: 0.9206811235628002\n",
            "F1 Score Validation: 0.8664500834138203\n",
            "F1 Score Train: 0.9127924048155036\n",
            "F1 Score Validation: 0.8735309594807928\n",
            "F1 Score Train: 0.9152838427947597\n",
            "F1 Score Validation: 0.8774883802508112\n",
            "F1 Score Train: 0.9107278573516515\n",
            "F1 Score Validation: 0.8787157096233572\n",
            "F1 Score Train: 0.9060585432266849\n",
            "F1 Score Validation: 0.8810487418616927\n",
            "F1 Score Train: 0.9046520407735223\n",
            "F1 Score Validation: 0.8834183224898893\n",
            "F1 Score Train: 0.903944485025566\n",
            "F1 Score Validation: 0.8819022457067371\n",
            "F1 Score Train: 0.9015621936074254\n",
            "F1 Score Validation: 0.8837209302325582\n"
          ]
        },
        {
          "output_type": "execute_result",
          "data": {
            "text/plain": [
              "<matplotlib.legend.Legend at 0x7fdb541398d0>"
            ]
          },
          "metadata": {},
          "execution_count": 51
        },
        {
          "output_type": "display_data",
          "data": {
            "text/plain": [
              "<Figure size 432x288 with 1 Axes>"
            ],
            "image/png": "[encoded data removed]"
          },
          "metadata": {
            "needs_background": "light"
          }
        }
      ]
    },
    {
      "cell_type": "code",
      "source": [],
      "metadata": {
        "id": "QTXRq9C8T01Q"
      },
      "execution_count": 51,
      "outputs": []
    },
    {
      "cell_type": "code",
      "source": [],
      "metadata": {
        "id": "PxzJ4m8MUxB5"
      },
      "execution_count": 51,
      "outputs": []
    }
  ]
}