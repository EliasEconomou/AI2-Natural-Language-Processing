{
  "nbformat": 4,
  "nbformat_minor": 0,
  "metadata": {
    "colab": {
      "provenance": [],
      "collapsed_sections": [
        "n779pB5esLi3",
        "zcJvc8JKg8te",
        "XHkYwrGyscWj",
        "vEiMZ4BsCBvY",
        "sDslLfAXS3br",
        "QRDsNM_WYdYe",
        "U90H6qRd4aaY",
        "Ls_ENt--xt0A",
        "fjuUmQ9d0JIm",
        "jwB6b19TTvq-",
        "TVogKIiyiygQ"
      ],
      "mount_file_id": "1MCk1tSM5-EtpjhAMwrtaHf-nppR56FRe",
      "authorship_tag": "ABX9TyPcSAAjEju9YFfis+Re6X0z",
      "include_colab_link": true
    },
    "kernelspec": {
      "name": "python3",
      "display_name": "Python 3"
    },
    "language_info": {
      "name": "python"
    }
  },
  "cells": [
    {
      "cell_type": "markdown",
      "metadata": {
        "id": "view-in-github",
        "colab_type": "text"
      },
      "source": [
        "<a href=\"https://colab.research.google.com/github/EliasEconomou/AI2-Natural-Language-Processing/blob/main/Natural_Language_Processing_2.ipynb\" target=\"_parent\"><img src=\"https://colab.research.google.com/assets/colab-badge.svg\" alt=\"Open In Colab\"/></a>"
      ]
    },
    {
      "cell_type": "markdown",
      "source": [
        "# **Importing Libraries and Reading Datafile**"
      ],
      "metadata": {
        "id": "n779pB5esLi3"
      }
    },
    {
      "cell_type": "code",
      "execution_count": 1,
      "metadata": {
        "id": "cgRQrhtiAm52",
        "colab": {
          "base_uri": "https://localhost:8080/"
        },
        "outputId": "4dae83fc-a6b2-4c9d-d922-6874dff122a5"
      },
      "outputs": [
        {
          "output_type": "stream",
          "name": "stderr",
          "text": [
            "[nltk_data] Downloading package punkt to /root/nltk_data...\n",
            "[nltk_data]   Unzipping tokenizers/punkt.zip.\n",
            "[nltk_data] Downloading package stopwords to /root/nltk_data...\n",
            "[nltk_data]   Unzipping corpora/stopwords.zip.\n",
            "[nltk_data] Downloading package wordnet to /root/nltk_data...\n",
            "[nltk_data] Downloading package omw-1.4 to /root/nltk_data...\n"
          ]
        }
      ],
      "source": [
        "import numpy as np\n",
        "import pandas as pd\n",
        "import sys\n",
        "import os.path\n",
        "import time\n",
        "\n",
        "import re\n",
        "import nltk\n",
        "nltk.download('punkt')\n",
        "nltk.download('stopwords')\n",
        "nltk.download('wordnet')\n",
        "nltk.download('omw-1.4')\n",
        "from nltk.corpus import stopwords\n",
        "from nltk.tokenize import word_tokenize\n",
        "from nltk.probability import FreqDist\n",
        "from nltk.stem import WordNetLemmatizer\n",
        "\n",
        "from itertools import chain\n",
        "from wordcloud import WordCloud\n",
        "import matplotlib.pyplot as plt\n",
        "\n",
        "from sklearn.model_selection import train_test_split\n",
        "from sklearn.metrics import classification_report\n",
        "from sklearn.metrics import make_scorer, accuracy_score, precision_score, recall_score, f1_score\n",
        "from sklearn.metrics import roc_curve, auc\n",
        "from sklearn.preprocessing import label_binarize\n",
        "\n",
        "import torch\n",
        "import torch.nn as nn\n"
      ]
    },
    {
      "cell_type": "code",
      "source": [
        "# Read data files\n",
        "def read_csv_file(filePath,separator):\n",
        "  fileExists = os.path.exists(filePath)\n",
        "  if fileExists:\n",
        "    rFile = pd.read_csv(filePath,sep=separator)\n",
        "  else:\n",
        "    print('Enter data file path:')\n",
        "    filePath = input()\n",
        "    rFile = pd.read_csv(filePath,sep=separator)\n",
        "  return rFile"
      ],
      "metadata": {
        "id": "tKMH7eAxFroj"
      },
      "execution_count": 2,
      "outputs": []
    },
    {
      "cell_type": "code",
      "source": [
        "# Reading data file\n",
        "filePath = \"./drive/MyDrive/ColabNotebooks/Homework_2/imdb-reviews.csv\"\n",
        "initDF = read_csv_file(filePath,'\\t')\n",
        "initDF.head()"
      ],
      "metadata": {
        "colab": {
          "base_uri": "https://localhost:8080/",
          "height": 0
        },
        "id": "ujXkJjx9EJ6s",
        "outputId": "4bcb9ce3-e626-40f4-e7cc-be508a590821"
      },
      "execution_count": 3,
      "outputs": [
        {
          "output_type": "execute_result",
          "data": {
            "text/plain": [
              "                                                url  rating  \\\n",
              "0  http://www.imdb.com/title/tt0120623/usercomments    10.0   \n",
              "1  http://www.imdb.com/title/tt0043117/usercomments     9.0   \n",
              "2  http://www.imdb.com/title/tt0043117/usercomments    10.0   \n",
              "3  http://www.imdb.com/title/tt0835204/usercomments     4.0   \n",
              "4  http://www.imdb.com/title/tt0499603/usercomments    10.0   \n",
              "\n",
              "                                              review  \n",
              "0  I thought this was a quiet good movie. It was ...  \n",
              "1  Wagon Master is a very unique film amongst Joh...  \n",
              "2  This film has to be as near to perfect a film ...  \n",
              "3  I gave this 4 stars because it has a lot of in...  \n",
              "4  This movie is really genuine and random. It's ...  "
            ],
            "text/html": [
              "\n",
              "  <div id=\"df-219faef5-b20f-41b5-ba04-595f2ef7511b\">\n",
              "    <div class=\"colab-df-container\">\n",
              "      <div>\n",
              "<style scoped>\n",
              "    .dataframe tbody tr th:only-of-type {\n",
              "        vertical-align: middle;\n",
              "    }\n",
              "\n",
              "    .dataframe tbody tr th {\n",
              "        vertical-align: top;\n",
              "    }\n",
              "\n",
              "    .dataframe thead th {\n",
              "        text-align: right;\n",
              "    }\n",
              "</style>\n",
              "<table border=\"1\" class=\"dataframe\">\n",
              "  <thead>\n",
              "    <tr style=\"text-align: right;\">\n",
              "      <th></th>\n",
              "      <th>url</th>\n",
              "      <th>rating</th>\n",
              "      <th>review</th>\n",
              "    </tr>\n",
              "  </thead>\n",
              "  <tbody>\n",
              "    <tr>\n",
              "      <th>0</th>\n",
              "      <td>http://www.imdb.com/title/tt0120623/usercomments</td>\n",
              "      <td>10.0</td>\n",
              "      <td>I thought this was a quiet good movie. It was ...</td>\n",
              "    </tr>\n",
              "    <tr>\n",
              "      <th>1</th>\n",
              "      <td>http://www.imdb.com/title/tt0043117/usercomments</td>\n",
              "      <td>9.0</td>\n",
              "      <td>Wagon Master is a very unique film amongst Joh...</td>\n",
              "    </tr>\n",
              "    <tr>\n",
              "      <th>2</th>\n",
              "      <td>http://www.imdb.com/title/tt0043117/usercomments</td>\n",
              "      <td>10.0</td>\n",
              "      <td>This film has to be as near to perfect a film ...</td>\n",
              "    </tr>\n",
              "    <tr>\n",
              "      <th>3</th>\n",
              "      <td>http://www.imdb.com/title/tt0835204/usercomments</td>\n",
              "      <td>4.0</td>\n",
              "      <td>I gave this 4 stars because it has a lot of in...</td>\n",
              "    </tr>\n",
              "    <tr>\n",
              "      <th>4</th>\n",
              "      <td>http://www.imdb.com/title/tt0499603/usercomments</td>\n",
              "      <td>10.0</td>\n",
              "      <td>This movie is really genuine and random. It's ...</td>\n",
              "    </tr>\n",
              "  </tbody>\n",
              "</table>\n",
              "</div>\n",
              "      <button class=\"colab-df-convert\" onclick=\"convertToInteractive('df-219faef5-b20f-41b5-ba04-595f2ef7511b')\"\n",
              "              title=\"Convert this dataframe to an interactive table.\"\n",
              "              style=\"display:none;\">\n",
              "        \n",
              "  <svg xmlns=\"http://www.w3.org/2000/svg\" height=\"24px\"viewBox=\"0 0 24 24\"\n",
              "       width=\"24px\">\n",
              "    <path d=\"M0 0h24v24H0V0z\" fill=\"none\"/>\n",
              "    <path d=\"M18.56 5.44l.94 2.06.94-2.06 2.06-.94-2.06-.94-.94-2.06-.94 2.06-2.06.94zm-11 1L8.5 8.5l.94-2.06 2.06-.94-2.06-.94L8.5 2.5l-.94 2.06-2.06.94zm10 10l.94 2.06.94-2.06 2.06-.94-2.06-.94-.94-2.06-.94 2.06-2.06.94z\"/><path d=\"M17.41 7.96l-1.37-1.37c-.4-.4-.92-.59-1.43-.59-.52 0-1.04.2-1.43.59L10.3 9.45l-7.72 7.72c-.78.78-.78 2.05 0 2.83L4 21.41c.39.39.9.59 1.41.59.51 0 1.02-.2 1.41-.59l7.78-7.78 2.81-2.81c.8-.78.8-2.07 0-2.86zM5.41 20L4 18.59l7.72-7.72 1.47 1.35L5.41 20z\"/>\n",
              "  </svg>\n",
              "      </button>\n",
              "      \n",
              "  <style>\n",
              "    .colab-df-container {\n",
              "      display:flex;\n",
              "      flex-wrap:wrap;\n",
              "      gap: 12px;\n",
              "    }\n",
              "\n",
              "    .colab-df-convert {\n",
              "      background-color: #E8F0FE;\n",
              "      border: none;\n",
              "      border-radius: 50%;\n",
              "      cursor: pointer;\n",
              "      display: none;\n",
              "      fill: #1967D2;\n",
              "      height: 32px;\n",
              "      padding: 0 0 0 0;\n",
              "      width: 32px;\n",
              "    }\n",
              "\n",
              "    .colab-df-convert:hover {\n",
              "      background-color: #E2EBFA;\n",
              "      box-shadow: 0px 1px 2px rgba(60, 64, 67, 0.3), 0px 1px 3px 1px rgba(60, 64, 67, 0.15);\n",
              "      fill: #174EA6;\n",
              "    }\n",
              "\n",
              "    [theme=dark] .colab-df-convert {\n",
              "      background-color: #3B4455;\n",
              "      fill: #D2E3FC;\n",
              "    }\n",
              "\n",
              "    [theme=dark] .colab-df-convert:hover {\n",
              "      background-color: #434B5C;\n",
              "      box-shadow: 0px 1px 3px 1px rgba(0, 0, 0, 0.15);\n",
              "      filter: drop-shadow(0px 1px 2px rgba(0, 0, 0, 0.3));\n",
              "      fill: #FFFFFF;\n",
              "    }\n",
              "  </style>\n",
              "\n",
              "      <script>\n",
              "        const buttonEl =\n",
              "          document.querySelector('#df-219faef5-b20f-41b5-ba04-595f2ef7511b button.colab-df-convert');\n",
              "        buttonEl.style.display =\n",
              "          google.colab.kernel.accessAllowed ? 'block' : 'none';\n",
              "\n",
              "        async function convertToInteractive(key) {\n",
              "          const element = document.querySelector('#df-219faef5-b20f-41b5-ba04-595f2ef7511b');\n",
              "          const dataTable =\n",
              "            await google.colab.kernel.invokeFunction('convertToInteractive',\n",
              "                                                     [key], {});\n",
              "          if (!dataTable) return;\n",
              "\n",
              "          const docLinkHtml = 'Like what you see? Visit the ' +\n",
              "            '<a target=\"_blank\" href=https://colab.research.google.com/notebooks/data_table.ipynb>data table notebook</a>'\n",
              "            + ' to learn more about interactive tables.';\n",
              "          element.innerHTML = '';\n",
              "          dataTable['output_type'] = 'display_data';\n",
              "          await google.colab.output.renderOutput(dataTable, element);\n",
              "          const docLink = document.createElement('div');\n",
              "          docLink.innerHTML = docLinkHtml;\n",
              "          element.appendChild(docLink);\n",
              "        }\n",
              "      </script>\n",
              "    </div>\n",
              "  </div>\n",
              "  "
            ]
          },
          "metadata": {},
          "execution_count": 3
        }
      ]
    },
    {
      "cell_type": "markdown",
      "source": [
        "# **Preprocessing Functions**\n",
        "> Let's create some functions to help us clean and prepare a dataset with the above format for training/evaluating."
      ],
      "metadata": {
        "id": "zcJvc8JKg8te"
      }
    },
    {
      "cell_type": "code",
      "source": [
        "def preprocess_dataframe(df):\n",
        "  toBeCleanDF = df\n",
        "\n",
        "  # Let's remove any missing values\n",
        "  toBeCleanDF.dropna(inplace = True)\n",
        "\n",
        "  # We 're probably going to skip using the url column\n",
        "  toBeCleanDF = toBeCleanDF.drop([\"url\"], axis=1)\n",
        "\n",
        "  # Change the column order for simplicity\n",
        "  toBeCleanDF = toBeCleanDF[[\"review\",\"rating\"]]\n",
        "\n",
        "  # Remove punctuation, links, hashtags, new lines etc, using regular expressions\n",
        "  toBeCleanDF[\"review\"] = toBeCleanDF[\"review\"].replace('\\\"|\\'|\\.|,|\\?|!|:|\\(|\\)|%|\\$|;','', regex=True)\n",
        "  toBeCleanDF[\"review\"] = toBeCleanDF[\"review\"].replace('\\n|\\t','', regex=True)\n",
        "  toBeCleanDF[\"review\"] = toBeCleanDF[\"review\"].replace(r'(http\\S+)|(www\\S+)|(#\\S+)|(&\\S+)|(@\\S+)','', regex=True)\n",
        "  toBeCleanDF[\"review\"] = toBeCleanDF[\"review\"].replace('(\\s-\\s)','', regex=True)\n",
        "  toBeCleanDF[\"review\"] = toBeCleanDF[\"review\"].replace(r'\\b[0-9]+\\b', '', regex=True)\n",
        "  toBeCleanDF[\"review\"] = toBeCleanDF[\"review\"].replace(\"<br />\", ' ', regex=True)\n",
        "  toBeCleanDF[\"review\"] = toBeCleanDF[\"review\"].replace('/','', regex=True)\n",
        "\n",
        "  # Remove emojis by encoding - decoding into ascii, resulting in ignoring them\n",
        "  toBeCleanDF[\"review\"] = toBeCleanDF[\"review\"].apply(lambda x: x.encode('ascii', 'ignore').decode('ascii'))\n",
        "\n",
        "  # Convert review to lowercase\n",
        "  toBeCleanDF[\"review\"] = toBeCleanDF[\"review\"].str.lower()\n",
        "  \n",
        "  # We'll create a list of stopwords to remove, like 'i','is','you', etc\n",
        "  stopWords = list(stopwords.words('english'))\n",
        "  # Maybe remove or add some more words\n",
        "  stopWords.remove(\"why\")\n",
        "  stopWords.remove(\"how\")\n",
        "  stopWords.remove(\"against\")\n",
        "  stopWords.remove(\"again\")\n",
        "  stopWords.remove(\"not\")\n",
        "  stopWords.append(\"'ve\")\n",
        "  stopWords.append(\"'re\")\n",
        "  stopWords.append(\"'s\")\n",
        "  stopWords.append(\"``\")\n",
        "  stopWords.append(\"''\")\n",
        "\n",
        "  # Let's also create a new column named evaluation to categorize reviews into positive, negative\n",
        "  # based on their rating (1-4 : negative as 'NEG' - 7-10 : positive as 'POS')\n",
        "  rating_ranges = [ (toBeCleanDF[\"rating\"] <= 4), (toBeCleanDF[\"rating\"] >=7) ]\n",
        "  sentiment = [\"NEG\", \"POS\"]\n",
        "\n",
        "  toBeCleanDF['sentiment'] = np.select(rating_ranges, sentiment)\n",
        "  \n",
        "  return toBeCleanDF,stopWords"
      ],
      "metadata": {
        "id": "Pykv7f-djJiL"
      },
      "execution_count": 4,
      "outputs": []
    },
    {
      "cell_type": "code",
      "source": [
        "# Tokenize the reviews\n",
        "def tokenize_dataframe(df,stopWords):\n",
        "  toBeTokenisedDF = df\n",
        "\n",
        "  toBeTokenisedDF[\"review\"] = toBeTokenisedDF[\"review\"].apply(word_tokenize)\n",
        "  toBeTokenisedDF[\"review\"] = toBeTokenisedDF[\"review\"].apply(lambda words: [word for word in words if word not in stopWords])\n",
        "\n",
        "  # Remove any unnecessary spaces that came up\n",
        "  toBeTokenisedDF[\"review\"] = toBeTokenisedDF[\"review\"].replace(' +', ' ', regex=True)\n",
        "\n",
        "  return toBeTokenisedDF"
      ],
      "metadata": {
        "id": "KRdGU4kGm2lU"
      },
      "execution_count": 5,
      "outputs": []
    },
    {
      "cell_type": "code",
      "source": [
        "def lemmatize_words(words):\n",
        "  lemmatizer = WordNetLemmatizer()\n",
        "  # We'll lemmatize nouns and verbs\n",
        "  words = [lemmatizer.lemmatize(noun, \"n\") for noun in words]\n",
        "  words = [lemmatizer.lemmatize(verb, \"v\") for verb in words]\n",
        "  \n",
        "  return words"
      ],
      "metadata": {
        "id": "raiZOcIloU9G"
      },
      "execution_count": 6,
      "outputs": []
    },
    {
      "cell_type": "code",
      "source": [
        "# Lemmatize the reviews\n",
        "def lemmatize_dataframe(df):\n",
        "  toBeLemmatisedDF = df.assign(review = df.review.apply(lambda x: lemmatize_words(x)))\n",
        "\n",
        "  return toBeLemmatisedDF"
      ],
      "metadata": {
        "id": "X24Mbb_moCm6"
      },
      "execution_count": 7,
      "outputs": []
    },
    {
      "cell_type": "markdown",
      "source": [
        "# **Preprocessing and Cleaning Data**\n",
        "> We start by cleaning the given dataset of missing values, stop words, links, emojis etc then tokenizing and lemmatizing the data."
      ],
      "metadata": {
        "id": "XHkYwrGyscWj"
      }
    },
    {
      "cell_type": "code",
      "source": [
        "cleanedDF,StopWords = preprocess_dataframe(initDF)\n",
        "cleanedDF = pd.DataFrame(cleanedDF)\n",
        "cleanedDF.head()"
      ],
      "metadata": {
        "id": "ih9FqYpqse2h",
        "colab": {
          "base_uri": "https://localhost:8080/",
          "height": 0
        },
        "outputId": "e03d852b-bde9-431f-b59e-52492b954cad"
      },
      "execution_count": 8,
      "outputs": [
        {
          "output_type": "execute_result",
          "data": {
            "text/plain": [
              "                                              review  rating sentiment\n",
              "0  i thought this was a quiet good movie it was f...    10.0       POS\n",
              "1  wagon master is a very unique film amongst joh...     9.0       POS\n",
              "2  this film has to be as near to perfect a film ...    10.0       POS\n",
              "3  i gave this  stars because it has a lot of int...     4.0       NEG\n",
              "4  this movie is really genuine and random its re...    10.0       POS"
            ],
            "text/html": [
              "\n",
              "  <div id=\"df-f1ce004b-6b87-442a-b959-fd514c24ca6e\">\n",
              "    <div class=\"colab-df-container\">\n",
              "      <div>\n",
              "<style scoped>\n",
              "    .dataframe tbody tr th:only-of-type {\n",
              "        vertical-align: middle;\n",
              "    }\n",
              "\n",
              "    .dataframe tbody tr th {\n",
              "        vertical-align: top;\n",
              "    }\n",
              "\n",
              "    .dataframe thead th {\n",
              "        text-align: right;\n",
              "    }\n",
              "</style>\n",
              "<table border=\"1\" class=\"dataframe\">\n",
              "  <thead>\n",
              "    <tr style=\"text-align: right;\">\n",
              "      <th></th>\n",
              "      <th>review</th>\n",
              "      <th>rating</th>\n",
              "      <th>sentiment</th>\n",
              "    </tr>\n",
              "  </thead>\n",
              "  <tbody>\n",
              "    <tr>\n",
              "      <th>0</th>\n",
              "      <td>i thought this was a quiet good movie it was f...</td>\n",
              "      <td>10.0</td>\n",
              "      <td>POS</td>\n",
              "    </tr>\n",
              "    <tr>\n",
              "      <th>1</th>\n",
              "      <td>wagon master is a very unique film amongst joh...</td>\n",
              "      <td>9.0</td>\n",
              "      <td>POS</td>\n",
              "    </tr>\n",
              "    <tr>\n",
              "      <th>2</th>\n",
              "      <td>this film has to be as near to perfect a film ...</td>\n",
              "      <td>10.0</td>\n",
              "      <td>POS</td>\n",
              "    </tr>\n",
              "    <tr>\n",
              "      <th>3</th>\n",
              "      <td>i gave this  stars because it has a lot of int...</td>\n",
              "      <td>4.0</td>\n",
              "      <td>NEG</td>\n",
              "    </tr>\n",
              "    <tr>\n",
              "      <th>4</th>\n",
              "      <td>this movie is really genuine and random its re...</td>\n",
              "      <td>10.0</td>\n",
              "      <td>POS</td>\n",
              "    </tr>\n",
              "  </tbody>\n",
              "</table>\n",
              "</div>\n",
              "      <button class=\"colab-df-convert\" onclick=\"convertToInteractive('df-f1ce004b-6b87-442a-b959-fd514c24ca6e')\"\n",
              "              title=\"Convert this dataframe to an interactive table.\"\n",
              "              style=\"display:none;\">\n",
              "        \n",
              "  <svg xmlns=\"http://www.w3.org/2000/svg\" height=\"24px\"viewBox=\"0 0 24 24\"\n",
              "       width=\"24px\">\n",
              "    <path d=\"M0 0h24v24H0V0z\" fill=\"none\"/>\n",
              "    <path d=\"M18.56 5.44l.94 2.06.94-2.06 2.06-.94-2.06-.94-.94-2.06-.94 2.06-2.06.94zm-11 1L8.5 8.5l.94-2.06 2.06-.94-2.06-.94L8.5 2.5l-.94 2.06-2.06.94zm10 10l.94 2.06.94-2.06 2.06-.94-2.06-.94-.94-2.06-.94 2.06-2.06.94z\"/><path d=\"M17.41 7.96l-1.37-1.37c-.4-.4-.92-.59-1.43-.59-.52 0-1.04.2-1.43.59L10.3 9.45l-7.72 7.72c-.78.78-.78 2.05 0 2.83L4 21.41c.39.39.9.59 1.41.59.51 0 1.02-.2 1.41-.59l7.78-7.78 2.81-2.81c.8-.78.8-2.07 0-2.86zM5.41 20L4 18.59l7.72-7.72 1.47 1.35L5.41 20z\"/>\n",
              "  </svg>\n",
              "      </button>\n",
              "      \n",
              "  <style>\n",
              "    .colab-df-container {\n",
              "      display:flex;\n",
              "      flex-wrap:wrap;\n",
              "      gap: 12px;\n",
              "    }\n",
              "\n",
              "    .colab-df-convert {\n",
              "      background-color: #E8F0FE;\n",
              "      border: none;\n",
              "      border-radius: 50%;\n",
              "      cursor: pointer;\n",
              "      display: none;\n",
              "      fill: #1967D2;\n",
              "      height: 32px;\n",
              "      padding: 0 0 0 0;\n",
              "      width: 32px;\n",
              "    }\n",
              "\n",
              "    .colab-df-convert:hover {\n",
              "      background-color: #E2EBFA;\n",
              "      box-shadow: 0px 1px 2px rgba(60, 64, 67, 0.3), 0px 1px 3px 1px rgba(60, 64, 67, 0.15);\n",
              "      fill: #174EA6;\n",
              "    }\n",
              "\n",
              "    [theme=dark] .colab-df-convert {\n",
              "      background-color: #3B4455;\n",
              "      fill: #D2E3FC;\n",
              "    }\n",
              "\n",
              "    [theme=dark] .colab-df-convert:hover {\n",
              "      background-color: #434B5C;\n",
              "      box-shadow: 0px 1px 3px 1px rgba(0, 0, 0, 0.15);\n",
              "      filter: drop-shadow(0px 1px 2px rgba(0, 0, 0, 0.3));\n",
              "      fill: #FFFFFF;\n",
              "    }\n",
              "  </style>\n",
              "\n",
              "      <script>\n",
              "        const buttonEl =\n",
              "          document.querySelector('#df-f1ce004b-6b87-442a-b959-fd514c24ca6e button.colab-df-convert');\n",
              "        buttonEl.style.display =\n",
              "          google.colab.kernel.accessAllowed ? 'block' : 'none';\n",
              "\n",
              "        async function convertToInteractive(key) {\n",
              "          const element = document.querySelector('#df-f1ce004b-6b87-442a-b959-fd514c24ca6e');\n",
              "          const dataTable =\n",
              "            await google.colab.kernel.invokeFunction('convertToInteractive',\n",
              "                                                     [key], {});\n",
              "          if (!dataTable) return;\n",
              "\n",
              "          const docLinkHtml = 'Like what you see? Visit the ' +\n",
              "            '<a target=\"_blank\" href=https://colab.research.google.com/notebooks/data_table.ipynb>data table notebook</a>'\n",
              "            + ' to learn more about interactive tables.';\n",
              "          element.innerHTML = '';\n",
              "          dataTable['output_type'] = 'display_data';\n",
              "          await google.colab.output.renderOutput(dataTable, element);\n",
              "          const docLink = document.createElement('div');\n",
              "          docLink.innerHTML = docLinkHtml;\n",
              "          element.appendChild(docLink);\n",
              "        }\n",
              "      </script>\n",
              "    </div>\n",
              "  </div>\n",
              "  "
            ]
          },
          "metadata": {},
          "execution_count": 8
        }
      ]
    },
    {
      "cell_type": "code",
      "source": [
        "tokenisedDF = tokenize_dataframe(cleanedDF,StopWords)\n",
        "tokenisedDF = pd.DataFrame(tokenisedDF)\n",
        "tokenisedDF.head()"
      ],
      "metadata": {
        "id": "Ghd-y8SSMfpa",
        "colab": {
          "base_uri": "https://localhost:8080/",
          "height": 0
        },
        "outputId": "97461b9d-9407-4a4c-b2c5-c7fe5e679f50"
      },
      "execution_count": 9,
      "outputs": [
        {
          "output_type": "execute_result",
          "data": {
            "text/plain": [
              "                                              review  rating sentiment\n",
              "0  [thought, quiet, good, movie, fun, watch, like...    10.0       POS\n",
              "1  [wagon, master, unique, film, amongst, john, f...     9.0       POS\n",
              "2  [film, near, perfect, film, john, ford, made, ...    10.0       POS\n",
              "3  [gave, stars, lot, interesting, themes, many, ...     4.0       NEG\n",
              "4  [movie, really, genuine, random, really, hard,...    10.0       POS"
            ],
            "text/html": [
              "\n",
              "  <div id=\"df-10027b09-3dc7-4177-a513-ebb05f1fb2c2\">\n",
              "    <div class=\"colab-df-container\">\n",
              "      <div>\n",
              "<style scoped>\n",
              "    .dataframe tbody tr th:only-of-type {\n",
              "        vertical-align: middle;\n",
              "    }\n",
              "\n",
              "    .dataframe tbody tr th {\n",
              "        vertical-align: top;\n",
              "    }\n",
              "\n",
              "    .dataframe thead th {\n",
              "        text-align: right;\n",
              "    }\n",
              "</style>\n",
              "<table border=\"1\" class=\"dataframe\">\n",
              "  <thead>\n",
              "    <tr style=\"text-align: right;\">\n",
              "      <th></th>\n",
              "      <th>review</th>\n",
              "      <th>rating</th>\n",
              "      <th>sentiment</th>\n",
              "    </tr>\n",
              "  </thead>\n",
              "  <tbody>\n",
              "    <tr>\n",
              "      <th>0</th>\n",
              "      <td>[thought, quiet, good, movie, fun, watch, like...</td>\n",
              "      <td>10.0</td>\n",
              "      <td>POS</td>\n",
              "    </tr>\n",
              "    <tr>\n",
              "      <th>1</th>\n",
              "      <td>[wagon, master, unique, film, amongst, john, f...</td>\n",
              "      <td>9.0</td>\n",
              "      <td>POS</td>\n",
              "    </tr>\n",
              "    <tr>\n",
              "      <th>2</th>\n",
              "      <td>[film, near, perfect, film, john, ford, made, ...</td>\n",
              "      <td>10.0</td>\n",
              "      <td>POS</td>\n",
              "    </tr>\n",
              "    <tr>\n",
              "      <th>3</th>\n",
              "      <td>[gave, stars, lot, interesting, themes, many, ...</td>\n",
              "      <td>4.0</td>\n",
              "      <td>NEG</td>\n",
              "    </tr>\n",
              "    <tr>\n",
              "      <th>4</th>\n",
              "      <td>[movie, really, genuine, random, really, hard,...</td>\n",
              "      <td>10.0</td>\n",
              "      <td>POS</td>\n",
              "    </tr>\n",
              "  </tbody>\n",
              "</table>\n",
              "</div>\n",
              "      <button class=\"colab-df-convert\" onclick=\"convertToInteractive('df-10027b09-3dc7-4177-a513-ebb05f1fb2c2')\"\n",
              "              title=\"Convert this dataframe to an interactive table.\"\n",
              "              style=\"display:none;\">\n",
              "        \n",
              "  <svg xmlns=\"http://www.w3.org/2000/svg\" height=\"24px\"viewBox=\"0 0 24 24\"\n",
              "       width=\"24px\">\n",
              "    <path d=\"M0 0h24v24H0V0z\" fill=\"none\"/>\n",
              "    <path d=\"M18.56 5.44l.94 2.06.94-2.06 2.06-.94-2.06-.94-.94-2.06-.94 2.06-2.06.94zm-11 1L8.5 8.5l.94-2.06 2.06-.94-2.06-.94L8.5 2.5l-.94 2.06-2.06.94zm10 10l.94 2.06.94-2.06 2.06-.94-2.06-.94-.94-2.06-.94 2.06-2.06.94z\"/><path d=\"M17.41 7.96l-1.37-1.37c-.4-.4-.92-.59-1.43-.59-.52 0-1.04.2-1.43.59L10.3 9.45l-7.72 7.72c-.78.78-.78 2.05 0 2.83L4 21.41c.39.39.9.59 1.41.59.51 0 1.02-.2 1.41-.59l7.78-7.78 2.81-2.81c.8-.78.8-2.07 0-2.86zM5.41 20L4 18.59l7.72-7.72 1.47 1.35L5.41 20z\"/>\n",
              "  </svg>\n",
              "      </button>\n",
              "      \n",
              "  <style>\n",
              "    .colab-df-container {\n",
              "      display:flex;\n",
              "      flex-wrap:wrap;\n",
              "      gap: 12px;\n",
              "    }\n",
              "\n",
              "    .colab-df-convert {\n",
              "      background-color: #E8F0FE;\n",
              "      border: none;\n",
              "      border-radius: 50%;\n",
              "      cursor: pointer;\n",
              "      display: none;\n",
              "      fill: #1967D2;\n",
              "      height: 32px;\n",
              "      padding: 0 0 0 0;\n",
              "      width: 32px;\n",
              "    }\n",
              "\n",
              "    .colab-df-convert:hover {\n",
              "      background-color: #E2EBFA;\n",
              "      box-shadow: 0px 1px 2px rgba(60, 64, 67, 0.3), 0px 1px 3px 1px rgba(60, 64, 67, 0.15);\n",
              "      fill: #174EA6;\n",
              "    }\n",
              "\n",
              "    [theme=dark] .colab-df-convert {\n",
              "      background-color: #3B4455;\n",
              "      fill: #D2E3FC;\n",
              "    }\n",
              "\n",
              "    [theme=dark] .colab-df-convert:hover {\n",
              "      background-color: #434B5C;\n",
              "      box-shadow: 0px 1px 3px 1px rgba(0, 0, 0, 0.15);\n",
              "      filter: drop-shadow(0px 1px 2px rgba(0, 0, 0, 0.3));\n",
              "      fill: #FFFFFF;\n",
              "    }\n",
              "  </style>\n",
              "\n",
              "      <script>\n",
              "        const buttonEl =\n",
              "          document.querySelector('#df-10027b09-3dc7-4177-a513-ebb05f1fb2c2 button.colab-df-convert');\n",
              "        buttonEl.style.display =\n",
              "          google.colab.kernel.accessAllowed ? 'block' : 'none';\n",
              "\n",
              "        async function convertToInteractive(key) {\n",
              "          const element = document.querySelector('#df-10027b09-3dc7-4177-a513-ebb05f1fb2c2');\n",
              "          const dataTable =\n",
              "            await google.colab.kernel.invokeFunction('convertToInteractive',\n",
              "                                                     [key], {});\n",
              "          if (!dataTable) return;\n",
              "\n",
              "          const docLinkHtml = 'Like what you see? Visit the ' +\n",
              "            '<a target=\"_blank\" href=https://colab.research.google.com/notebooks/data_table.ipynb>data table notebook</a>'\n",
              "            + ' to learn more about interactive tables.';\n",
              "          element.innerHTML = '';\n",
              "          dataTable['output_type'] = 'display_data';\n",
              "          await google.colab.output.renderOutput(dataTable, element);\n",
              "          const docLink = document.createElement('div');\n",
              "          docLink.innerHTML = docLinkHtml;\n",
              "          element.appendChild(docLink);\n",
              "        }\n",
              "      </script>\n",
              "    </div>\n",
              "  </div>\n",
              "  "
            ]
          },
          "metadata": {},
          "execution_count": 9
        }
      ]
    },
    {
      "cell_type": "code",
      "source": [
        "lemmatisedDF = lemmatize_dataframe(tokenisedDF)\n",
        "lemmatisedDF = pd.DataFrame(lemmatisedDF)\n",
        "lemmatisedDF.head()"
      ],
      "metadata": {
        "id": "7asaErwoRbRW",
        "colab": {
          "base_uri": "https://localhost:8080/",
          "height": 0
        },
        "outputId": "15369fd2-4ddc-4ad3-9c2e-37278ce08220"
      },
      "execution_count": 10,
      "outputs": [
        {
          "output_type": "execute_result",
          "data": {
            "text/plain": [
              "                                              review  rating sentiment\n",
              "0  [think, quiet, good, movie, fun, watch, like, ...    10.0       POS\n",
              "1  [wagon, master, unique, film, amongst, john, f...     9.0       POS\n",
              "2  [film, near, perfect, film, john, ford, make, ...    10.0       POS\n",
              "3  [give, star, lot, interest, theme, many, alrea...     4.0       NEG\n",
              "4  [movie, really, genuine, random, really, hard,...    10.0       POS"
            ],
            "text/html": [
              "\n",
              "  <div id=\"df-d444d53a-326d-4f35-bc94-ad1eabf4dd3f\">\n",
              "    <div class=\"colab-df-container\">\n",
              "      <div>\n",
              "<style scoped>\n",
              "    .dataframe tbody tr th:only-of-type {\n",
              "        vertical-align: middle;\n",
              "    }\n",
              "\n",
              "    .dataframe tbody tr th {\n",
              "        vertical-align: top;\n",
              "    }\n",
              "\n",
              "    .dataframe thead th {\n",
              "        text-align: right;\n",
              "    }\n",
              "</style>\n",
              "<table border=\"1\" class=\"dataframe\">\n",
              "  <thead>\n",
              "    <tr style=\"text-align: right;\">\n",
              "      <th></th>\n",
              "      <th>review</th>\n",
              "      <th>rating</th>\n",
              "      <th>sentiment</th>\n",
              "    </tr>\n",
              "  </thead>\n",
              "  <tbody>\n",
              "    <tr>\n",
              "      <th>0</th>\n",
              "      <td>[think, quiet, good, movie, fun, watch, like, ...</td>\n",
              "      <td>10.0</td>\n",
              "      <td>POS</td>\n",
              "    </tr>\n",
              "    <tr>\n",
              "      <th>1</th>\n",
              "      <td>[wagon, master, unique, film, amongst, john, f...</td>\n",
              "      <td>9.0</td>\n",
              "      <td>POS</td>\n",
              "    </tr>\n",
              "    <tr>\n",
              "      <th>2</th>\n",
              "      <td>[film, near, perfect, film, john, ford, make, ...</td>\n",
              "      <td>10.0</td>\n",
              "      <td>POS</td>\n",
              "    </tr>\n",
              "    <tr>\n",
              "      <th>3</th>\n",
              "      <td>[give, star, lot, interest, theme, many, alrea...</td>\n",
              "      <td>4.0</td>\n",
              "      <td>NEG</td>\n",
              "    </tr>\n",
              "    <tr>\n",
              "      <th>4</th>\n",
              "      <td>[movie, really, genuine, random, really, hard,...</td>\n",
              "      <td>10.0</td>\n",
              "      <td>POS</td>\n",
              "    </tr>\n",
              "  </tbody>\n",
              "</table>\n",
              "</div>\n",
              "      <button class=\"colab-df-convert\" onclick=\"convertToInteractive('df-d444d53a-326d-4f35-bc94-ad1eabf4dd3f')\"\n",
              "              title=\"Convert this dataframe to an interactive table.\"\n",
              "              style=\"display:none;\">\n",
              "        \n",
              "  <svg xmlns=\"http://www.w3.org/2000/svg\" height=\"24px\"viewBox=\"0 0 24 24\"\n",
              "       width=\"24px\">\n",
              "    <path d=\"M0 0h24v24H0V0z\" fill=\"none\"/>\n",
              "    <path d=\"M18.56 5.44l.94 2.06.94-2.06 2.06-.94-2.06-.94-.94-2.06-.94 2.06-2.06.94zm-11 1L8.5 8.5l.94-2.06 2.06-.94-2.06-.94L8.5 2.5l-.94 2.06-2.06.94zm10 10l.94 2.06.94-2.06 2.06-.94-2.06-.94-.94-2.06-.94 2.06-2.06.94z\"/><path d=\"M17.41 7.96l-1.37-1.37c-.4-.4-.92-.59-1.43-.59-.52 0-1.04.2-1.43.59L10.3 9.45l-7.72 7.72c-.78.78-.78 2.05 0 2.83L4 21.41c.39.39.9.59 1.41.59.51 0 1.02-.2 1.41-.59l7.78-7.78 2.81-2.81c.8-.78.8-2.07 0-2.86zM5.41 20L4 18.59l7.72-7.72 1.47 1.35L5.41 20z\"/>\n",
              "  </svg>\n",
              "      </button>\n",
              "      \n",
              "  <style>\n",
              "    .colab-df-container {\n",
              "      display:flex;\n",
              "      flex-wrap:wrap;\n",
              "      gap: 12px;\n",
              "    }\n",
              "\n",
              "    .colab-df-convert {\n",
              "      background-color: #E8F0FE;\n",
              "      border: none;\n",
              "      border-radius: 50%;\n",
              "      cursor: pointer;\n",
              "      display: none;\n",
              "      fill: #1967D2;\n",
              "      height: 32px;\n",
              "      padding: 0 0 0 0;\n",
              "      width: 32px;\n",
              "    }\n",
              "\n",
              "    .colab-df-convert:hover {\n",
              "      background-color: #E2EBFA;\n",
              "      box-shadow: 0px 1px 2px rgba(60, 64, 67, 0.3), 0px 1px 3px 1px rgba(60, 64, 67, 0.15);\n",
              "      fill: #174EA6;\n",
              "    }\n",
              "\n",
              "    [theme=dark] .colab-df-convert {\n",
              "      background-color: #3B4455;\n",
              "      fill: #D2E3FC;\n",
              "    }\n",
              "\n",
              "    [theme=dark] .colab-df-convert:hover {\n",
              "      background-color: #434B5C;\n",
              "      box-shadow: 0px 1px 3px 1px rgba(0, 0, 0, 0.15);\n",
              "      filter: drop-shadow(0px 1px 2px rgba(0, 0, 0, 0.3));\n",
              "      fill: #FFFFFF;\n",
              "    }\n",
              "  </style>\n",
              "\n",
              "      <script>\n",
              "        const buttonEl =\n",
              "          document.querySelector('#df-d444d53a-326d-4f35-bc94-ad1eabf4dd3f button.colab-df-convert');\n",
              "        buttonEl.style.display =\n",
              "          google.colab.kernel.accessAllowed ? 'block' : 'none';\n",
              "\n",
              "        async function convertToInteractive(key) {\n",
              "          const element = document.querySelector('#df-d444d53a-326d-4f35-bc94-ad1eabf4dd3f');\n",
              "          const dataTable =\n",
              "            await google.colab.kernel.invokeFunction('convertToInteractive',\n",
              "                                                     [key], {});\n",
              "          if (!dataTable) return;\n",
              "\n",
              "          const docLinkHtml = 'Like what you see? Visit the ' +\n",
              "            '<a target=\"_blank\" href=https://colab.research.google.com/notebooks/data_table.ipynb>data table notebook</a>'\n",
              "            + ' to learn more about interactive tables.';\n",
              "          element.innerHTML = '';\n",
              "          dataTable['output_type'] = 'display_data';\n",
              "          await google.colab.output.renderOutput(dataTable, element);\n",
              "          const docLink = document.createElement('div');\n",
              "          docLink.innerHTML = docLinkHtml;\n",
              "          element.appendChild(docLink);\n",
              "        }\n",
              "      </script>\n",
              "    </div>\n",
              "  </div>\n",
              "  "
            ]
          },
          "metadata": {},
          "execution_count": 10
        }
      ]
    },
    {
      "cell_type": "code",
      "source": [
        "# Let's convert sentiments to numbers for later use\n",
        "lemmatisedDF['sentiment'] = lemmatisedDF['sentiment'].replace(['NEG','POS'],[0,1])\n",
        "lemmatisedDF.head()"
      ],
      "metadata": {
        "id": "i31CCl0T-I4Z",
        "colab": {
          "base_uri": "https://localhost:8080/",
          "height": 0
        },
        "outputId": "fb5aa3a5-5143-43ea-cf7d-cba77bf11756"
      },
      "execution_count": 11,
      "outputs": [
        {
          "output_type": "execute_result",
          "data": {
            "text/plain": [
              "                                              review  rating  sentiment\n",
              "0  [think, quiet, good, movie, fun, watch, like, ...    10.0          1\n",
              "1  [wagon, master, unique, film, amongst, john, f...     9.0          1\n",
              "2  [film, near, perfect, film, john, ford, make, ...    10.0          1\n",
              "3  [give, star, lot, interest, theme, many, alrea...     4.0          0\n",
              "4  [movie, really, genuine, random, really, hard,...    10.0          1"
            ],
            "text/html": [
              "\n",
              "  <div id=\"df-2f7cf82f-d87e-4de0-b071-895e83eeab4d\">\n",
              "    <div class=\"colab-df-container\">\n",
              "      <div>\n",
              "<style scoped>\n",
              "    .dataframe tbody tr th:only-of-type {\n",
              "        vertical-align: middle;\n",
              "    }\n",
              "\n",
              "    .dataframe tbody tr th {\n",
              "        vertical-align: top;\n",
              "    }\n",
              "\n",
              "    .dataframe thead th {\n",
              "        text-align: right;\n",
              "    }\n",
              "</style>\n",
              "<table border=\"1\" class=\"dataframe\">\n",
              "  <thead>\n",
              "    <tr style=\"text-align: right;\">\n",
              "      <th></th>\n",
              "      <th>review</th>\n",
              "      <th>rating</th>\n",
              "      <th>sentiment</th>\n",
              "    </tr>\n",
              "  </thead>\n",
              "  <tbody>\n",
              "    <tr>\n",
              "      <th>0</th>\n",
              "      <td>[think, quiet, good, movie, fun, watch, like, ...</td>\n",
              "      <td>10.0</td>\n",
              "      <td>1</td>\n",
              "    </tr>\n",
              "    <tr>\n",
              "      <th>1</th>\n",
              "      <td>[wagon, master, unique, film, amongst, john, f...</td>\n",
              "      <td>9.0</td>\n",
              "      <td>1</td>\n",
              "    </tr>\n",
              "    <tr>\n",
              "      <th>2</th>\n",
              "      <td>[film, near, perfect, film, john, ford, make, ...</td>\n",
              "      <td>10.0</td>\n",
              "      <td>1</td>\n",
              "    </tr>\n",
              "    <tr>\n",
              "      <th>3</th>\n",
              "      <td>[give, star, lot, interest, theme, many, alrea...</td>\n",
              "      <td>4.0</td>\n",
              "      <td>0</td>\n",
              "    </tr>\n",
              "    <tr>\n",
              "      <th>4</th>\n",
              "      <td>[movie, really, genuine, random, really, hard,...</td>\n",
              "      <td>10.0</td>\n",
              "      <td>1</td>\n",
              "    </tr>\n",
              "  </tbody>\n",
              "</table>\n",
              "</div>\n",
              "      <button class=\"colab-df-convert\" onclick=\"convertToInteractive('df-2f7cf82f-d87e-4de0-b071-895e83eeab4d')\"\n",
              "              title=\"Convert this dataframe to an interactive table.\"\n",
              "              style=\"display:none;\">\n",
              "        \n",
              "  <svg xmlns=\"http://www.w3.org/2000/svg\" height=\"24px\"viewBox=\"0 0 24 24\"\n",
              "       width=\"24px\">\n",
              "    <path d=\"M0 0h24v24H0V0z\" fill=\"none\"/>\n",
              "    <path d=\"M18.56 5.44l.94 2.06.94-2.06 2.06-.94-2.06-.94-.94-2.06-.94 2.06-2.06.94zm-11 1L8.5 8.5l.94-2.06 2.06-.94-2.06-.94L8.5 2.5l-.94 2.06-2.06.94zm10 10l.94 2.06.94-2.06 2.06-.94-2.06-.94-.94-2.06-.94 2.06-2.06.94z\"/><path d=\"M17.41 7.96l-1.37-1.37c-.4-.4-.92-.59-1.43-.59-.52 0-1.04.2-1.43.59L10.3 9.45l-7.72 7.72c-.78.78-.78 2.05 0 2.83L4 21.41c.39.39.9.59 1.41.59.51 0 1.02-.2 1.41-.59l7.78-7.78 2.81-2.81c.8-.78.8-2.07 0-2.86zM5.41 20L4 18.59l7.72-7.72 1.47 1.35L5.41 20z\"/>\n",
              "  </svg>\n",
              "      </button>\n",
              "      \n",
              "  <style>\n",
              "    .colab-df-container {\n",
              "      display:flex;\n",
              "      flex-wrap:wrap;\n",
              "      gap: 12px;\n",
              "    }\n",
              "\n",
              "    .colab-df-convert {\n",
              "      background-color: #E8F0FE;\n",
              "      border: none;\n",
              "      border-radius: 50%;\n",
              "      cursor: pointer;\n",
              "      display: none;\n",
              "      fill: #1967D2;\n",
              "      height: 32px;\n",
              "      padding: 0 0 0 0;\n",
              "      width: 32px;\n",
              "    }\n",
              "\n",
              "    .colab-df-convert:hover {\n",
              "      background-color: #E2EBFA;\n",
              "      box-shadow: 0px 1px 2px rgba(60, 64, 67, 0.3), 0px 1px 3px 1px rgba(60, 64, 67, 0.15);\n",
              "      fill: #174EA6;\n",
              "    }\n",
              "\n",
              "    [theme=dark] .colab-df-convert {\n",
              "      background-color: #3B4455;\n",
              "      fill: #D2E3FC;\n",
              "    }\n",
              "\n",
              "    [theme=dark] .colab-df-convert:hover {\n",
              "      background-color: #434B5C;\n",
              "      box-shadow: 0px 1px 3px 1px rgba(0, 0, 0, 0.15);\n",
              "      filter: drop-shadow(0px 1px 2px rgba(0, 0, 0, 0.3));\n",
              "      fill: #FFFFFF;\n",
              "    }\n",
              "  </style>\n",
              "\n",
              "      <script>\n",
              "        const buttonEl =\n",
              "          document.querySelector('#df-2f7cf82f-d87e-4de0-b071-895e83eeab4d button.colab-df-convert');\n",
              "        buttonEl.style.display =\n",
              "          google.colab.kernel.accessAllowed ? 'block' : 'none';\n",
              "\n",
              "        async function convertToInteractive(key) {\n",
              "          const element = document.querySelector('#df-2f7cf82f-d87e-4de0-b071-895e83eeab4d');\n",
              "          const dataTable =\n",
              "            await google.colab.kernel.invokeFunction('convertToInteractive',\n",
              "                                                     [key], {});\n",
              "          if (!dataTable) return;\n",
              "\n",
              "          const docLinkHtml = 'Like what you see? Visit the ' +\n",
              "            '<a target=\"_blank\" href=https://colab.research.google.com/notebooks/data_table.ipynb>data table notebook</a>'\n",
              "            + ' to learn more about interactive tables.';\n",
              "          element.innerHTML = '';\n",
              "          dataTable['output_type'] = 'display_data';\n",
              "          await google.colab.output.renderOutput(dataTable, element);\n",
              "          const docLink = document.createElement('div');\n",
              "          docLink.innerHTML = docLinkHtml;\n",
              "          element.appendChild(docLink);\n",
              "        }\n",
              "      </script>\n",
              "    </div>\n",
              "  </div>\n",
              "  "
            ]
          },
          "metadata": {},
          "execution_count": 11
        }
      ]
    },
    {
      "cell_type": "markdown",
      "source": [
        "# **Analyzing Data (optional)**\n",
        "\n",
        "\n",
        "> Let's do some basic analysis to extract usefull information about our reviews.\n",
        "\n"
      ],
      "metadata": {
        "id": "vEiMZ4BsCBvY"
      }
    },
    {
      "cell_type": "code",
      "source": [
        "ratingsDICT = {'1-2' : 0, '3-4' : 0, '7-8' : 0, '9-10' : 0}\n",
        "for rating in lemmatisedDF[\"rating\"]:\n",
        "  if rating == 1.0 or rating == 2.0:\n",
        "    ratingsDICT[\"1-2\"] += 1\n",
        "  elif rating == 3.0 or rating == 4.0:\n",
        "    ratingsDICT[\"3-4\"] += 1\n",
        "  elif rating == 7.0 or rating == 8.0:\n",
        "    ratingsDICT[\"7-8\"] += 1\n",
        "  elif rating == 9.0 or rating == 10.0:\n",
        "    ratingsDICT[\"9-10\"] += 1\n",
        "\n",
        "labels = ratingsDICT.keys()\n",
        "sizes = ratingsDICT.values()\n",
        "explode = [0, 0, 0, 0.07]\n",
        "\n",
        "fig1, ax1 = plt.subplots()\n",
        "ax1.pie(sizes, explode=explode, labels=labels, autopct='%1.1f%%',\n",
        "        shadow=True, startangle=0)\n",
        "ax1.axis('equal')\n",
        "plt.title(label=\"Ratings Distribution\",\n",
        "          loc=\"left\",\n",
        "          pad='20.0',\n",
        "          backgroundcolor='black',\n",
        "          color='white')\n",
        "plt.show()"
      ],
      "metadata": {
        "colab": {
          "base_uri": "https://localhost:8080/",
          "height": 278
        },
        "id": "yhAw4_P1CDcf",
        "outputId": "657b9dcc-fdf4-4b43-a4cd-93f60699fa56"
      },
      "execution_count": null,
      "outputs": [
        {
          "output_type": "display_data",
          "data": {
            "text/plain": [
              "<Figure size 432x288 with 1 Axes>"
            ],
            "image/png": "[encoded data removed]"
          },
          "metadata": {}
        }
      ]
    },
    {
      "cell_type": "markdown",
      "source": [
        "We see that there are almost equally numbered negative/positive reviews."
      ],
      "metadata": {
        "id": "tj5yUH-HMMuc"
      }
    },
    {
      "cell_type": "code",
      "source": [
        "# Group by sentiment and plot wordclouds for most used words in every sentiment\n",
        "groupBySent = lemmatisedDF.groupby('sentiment')\n",
        "\n",
        "POSgroup = groupBySent.get_group(1)\n",
        "NEGgroup = groupBySent.get_group(0)"
      ],
      "metadata": {
        "id": "_Bq3sDNdMok7"
      },
      "execution_count": null,
      "outputs": []
    },
    {
      "cell_type": "code",
      "source": [
        "POSList = list(chain.from_iterable(list(POSgroup[\"review\"])))\n",
        "POSfdist = FreqDist(POSList)\n",
        "NEGList = list(chain.from_iterable(list(NEGgroup[\"review\"])))\n",
        "NEGfdist = FreqDist(NEGList)"
      ],
      "metadata": {
        "id": "woXdwykHispx"
      },
      "execution_count": null,
      "outputs": []
    },
    {
      "cell_type": "code",
      "source": [
        "POScloud = WordCloud(max_words=50,\n",
        "                      background_color='white',\n",
        "                      contour_color='black',\n",
        "                      contour_width=4).generate_from_frequencies(POSfdist)\n",
        "\n",
        "plt.imshow(POScloud, interpolation='bilinear')\n",
        "plt.axis('off')\n",
        "plt.title(label='Most used words - POSITIVE reviews',\n",
        "          loc=\"left\",\n",
        "          pad='25.0',\n",
        "          backgroundcolor='black',\n",
        "          color='white')\n",
        "plt.show()"
      ],
      "metadata": {
        "colab": {
          "base_uri": "https://localhost:8080/",
          "height": 233
        },
        "id": "iilPC6ldk2LO",
        "outputId": "d1a43a45-fa72-42c9-b849-4797411e5f77"
      },
      "execution_count": null,
      "outputs": [
        {
          "output_type": "display_data",
          "data": {
            "text/plain": [
              "<Figure size 432x288 with 1 Axes>"
            ],
            "image/png": "[encoded data removed]"
          },
          "metadata": {
            "needs_background": "light"
          }
        }
      ]
    },
    {
      "cell_type": "code",
      "source": [
        "NEGcloud = WordCloud(max_words=50,\n",
        "                      background_color='white',\n",
        "                      contour_color='black',\n",
        "                      contour_width=4).generate_from_frequencies(NEGfdist)\n",
        "\n",
        "plt.imshow(NEGcloud, interpolation='bilinear')\n",
        "plt.axis('off')\n",
        "plt.title(label='Most used words - NEGATIVE reviews',\n",
        "          loc=\"left\",\n",
        "          pad='25.0',\n",
        "          backgroundcolor='black',\n",
        "          color='white')\n",
        "plt.show()"
      ],
      "metadata": {
        "colab": {
          "base_uri": "https://localhost:8080/",
          "height": 233
        },
        "id": "7qqEhrmklRfY",
        "outputId": "f29370e9-97f0-422e-dfb8-170e30afa696"
      },
      "execution_count": null,
      "outputs": [
        {
          "output_type": "display_data",
          "data": {
            "text/plain": [
              "<Figure size 432x288 with 1 Axes>"
            ],
            "image/png": "[encoded data removed]"
          },
          "metadata": {
            "needs_background": "light"
          }
        }
      ]
    },
    {
      "cell_type": "markdown",
      "source": [
        "# **Split data into train/validation sets**"
      ],
      "metadata": {
        "id": "sDslLfAXS3br"
      }
    },
    {
      "cell_type": "code",
      "source": [
        "DF = lemmatisedDF\n",
        "\n",
        "# Keep data in X and labels in y\n",
        "X, y = DF.drop(columns = [\"sentiment\",\"rating\"]), DF.drop(columns = [\"review\",\"rating\"])\n",
        "print(X.shape, y.shape)"
      ],
      "metadata": {
        "colab": {
          "base_uri": "https://localhost:8080/"
        },
        "id": "LBjAX8UotOK3",
        "outputId": "35a571ad-2fa1-40c5-85ef-0dddc2539e11"
      },
      "execution_count": 12,
      "outputs": [
        {
          "output_type": "stream",
          "name": "stdout",
          "text": [
            "(45008, 1) (45008, 1)\n"
          ]
        }
      ]
    },
    {
      "cell_type": "code",
      "source": [
        "# Split into train/test sets\n",
        "X_train, X_test, y_train, y_test = train_test_split(X, y, test_size=0.25, shuffle=False)\n",
        "print(X_train.shape, X_test.shape, y_train.shape, y_test.shape)"
      ],
      "metadata": {
        "colab": {
          "base_uri": "https://localhost:8080/"
        },
        "id": "VbgDp_aavJ1E",
        "outputId": "efa5c49e-255d-4140-a37f-891424a0974b"
      },
      "execution_count": 13,
      "outputs": [
        {
          "output_type": "stream",
          "name": "stdout",
          "text": [
            "(33756, 1) (11252, 1) (33756, 1) (11252, 1)\n"
          ]
        }
      ]
    },
    {
      "cell_type": "markdown",
      "source": [
        "# **Use a test set (optional)**\n",
        "\n",
        "\n",
        "> Here we can use a different test set to test our model."
      ],
      "metadata": {
        "id": "QRDsNM_WYdYe"
      }
    },
    {
      "cell_type": "code",
      "source": [
        "# Reading test file\n",
        "testPath = \" \"\n",
        "testDF = read_csv_file(testPath,'\\t')\n",
        "testDF.head()"
      ],
      "metadata": {
        "id": "3fkLZyoJYwdZ"
      },
      "execution_count": null,
      "outputs": []
    },
    {
      "cell_type": "code",
      "source": [
        "cleanedTestDF,StopWords = preprocess_dataframe(testDF)\n",
        "cleanedTestDF = pd.DataFrame(cleanedTestDF)\n",
        "cleanedTestDF.head()"
      ],
      "metadata": {
        "id": "kxvpII_X1blB"
      },
      "execution_count": null,
      "outputs": []
    },
    {
      "cell_type": "code",
      "source": [
        "tokenisedTestDF = tokenize_dataframe(cleanedTestDF,StopWords)\n",
        "tokenisedTestDF = pd.DataFrame(tokenisedTestDF)\n",
        "tokenisedTestDF.head()"
      ],
      "metadata": {
        "id": "oFSST4O21blC"
      },
      "execution_count": null,
      "outputs": []
    },
    {
      "cell_type": "code",
      "source": [
        "lemmatisedTestDF = lemmatize_dataframe(tokenisedTestDF)\n",
        "lemmatisedTestDF = pd.DataFrame(lemmatisedTestDF)\n",
        "lemmatisedTestDF.head()"
      ],
      "metadata": {
        "id": "MoCzivJQ1blD"
      },
      "execution_count": null,
      "outputs": []
    },
    {
      "cell_type": "code",
      "source": [
        "# Let's convert sentiments to numbers for later use\n",
        "lemmatisedTestDF['sentiment'] = lemmatisedTestDF['sentiment'].replace(['NEG','POS'],[0,1])\n",
        "lemmatisedTestDF.head()"
      ],
      "metadata": {
        "id": "T8wYNX-ubNeL"
      },
      "execution_count": null,
      "outputs": []
    },
    {
      "cell_type": "code",
      "source": [
        "X_test, y_test = lemmatisedTestDF.drop(columns = [\"sentiment\",\"rating\"]), lemmatisedTestDF.drop(columns = [\"review\",\"rating\"])\n",
        "print(X_test.shape, y_test.shape)"
      ],
      "metadata": {
        "id": "HtYnxJ3UZwVg"
      },
      "execution_count": null,
      "outputs": []
    },
    {
      "cell_type": "markdown",
      "source": [
        "# **Download Glove Embeddings**\n"
      ],
      "metadata": {
        "id": "U90H6qRd4aaY"
      }
    },
    {
      "cell_type": "code",
      "source": [
        "!wget http://nlp.stanford.edu/data/glove.6B.zip"
      ],
      "metadata": {
        "colab": {
          "base_uri": "https://localhost:8080/"
        },
        "id": "vjG3Oq8guE9-",
        "outputId": "f85ae62f-3bf1-40a1-89ba-63cf34db115d"
      },
      "execution_count": null,
      "outputs": [
        {
          "output_type": "stream",
          "name": "stdout",
          "text": [
            "--2022-12-19 17:04:37--  http://nlp.stanford.edu/data/glove.6B.zip\n",
            "Resolving nlp.stanford.edu (nlp.stanford.edu)... 171.64.67.140\n",
            "Connecting to nlp.stanford.edu (nlp.stanford.edu)|171.64.67.140|:80... connected.\n",
            "HTTP request sent, awaiting response... 302 Found\n",
            "Location: https://nlp.stanford.edu/data/glove.6B.zip [following]\n",
            "--2022-12-19 17:04:37--  https://nlp.stanford.edu/data/glove.6B.zip\n",
            "Connecting to nlp.stanford.edu (nlp.stanford.edu)|171.64.67.140|:443... connected.\n",
            "HTTP request sent, awaiting response... 301 Moved Permanently\n",
            "Location: https://downloads.cs.stanford.edu/nlp/data/glove.6B.zip [following]\n",
            "--2022-12-19 17:04:37--  https://downloads.cs.stanford.edu/nlp/data/glove.6B.zip\n",
            "Resolving downloads.cs.stanford.edu (downloads.cs.stanford.edu)... 171.64.64.22\n",
            "Connecting to downloads.cs.stanford.edu (downloads.cs.stanford.edu)|171.64.64.22|:443... connected.\n",
            "HTTP request sent, awaiting response... 200 OK\n",
            "Length: 862182613 (822M) [application/zip]\n",
            "Saving to: ‘glove.6B.zip’\n",
            "\n",
            "glove.6B.zip        100%[===================>] 822.24M  5.01MB/s    in 2m 39s  \n",
            "\n",
            "2022-12-19 17:07:17 (5.16 MB/s) - ‘glove.6B.zip’ saved [862182613/862182613]\n",
            "\n"
          ]
        }
      ]
    },
    {
      "cell_type": "code",
      "source": [
        "!unzip glove*.zip"
      ],
      "metadata": {
        "colab": {
          "base_uri": "https://localhost:8080/"
        },
        "id": "Q3FdI_hsvrTR",
        "outputId": "a2b5ab94-178f-4406-fbc9-cf1017034da0"
      },
      "execution_count": null,
      "outputs": [
        {
          "output_type": "stream",
          "name": "stdout",
          "text": [
            "Archive:  glove.6B.zip\n",
            "  inflating: glove.6B.50d.txt        \n",
            "  inflating: glove.6B.100d.txt       \n",
            "  inflating: glove.6B.200d.txt       \n",
            "  inflating: glove.6B.300d.txt       \n"
          ]
        }
      ]
    },
    {
      "cell_type": "code",
      "source": [
        "glove6B_txt_path = 'glove.6B.300d.txt'"
      ],
      "metadata": {
        "id": "xAuQIP6jxtFx"
      },
      "execution_count": null,
      "outputs": []
    },
    {
      "cell_type": "markdown",
      "source": [
        "# **Or Load Glove Embeddings from Drive (Optional)**\n",
        "\n",
        "\n",
        "> An option to load the embeddings if downloading them takes a lot of time."
      ],
      "metadata": {
        "id": "Ls_ENt--xt0A"
      }
    },
    {
      "cell_type": "code",
      "source": [
        "glove6B_txt_path = '/content/drive/MyDrive/ColabNotebooks/Homework_2/glove.6B.300d.txt'"
      ],
      "metadata": {
        "id": "18LP0pugyZun"
      },
      "execution_count": 14,
      "outputs": []
    },
    {
      "cell_type": "markdown",
      "source": [
        "# **Vectorize our Reviews-Data**\n",
        "\n",
        "\n",
        "> Here we'll convert our reviews-sentences of tokenized words into vectors to train our model later on."
      ],
      "metadata": {
        "id": "fjuUmQ9d0JIm"
      }
    },
    {
      "cell_type": "code",
      "source": [
        "glv = {}\n",
        "with open(glove6B_txt_path, 'r') as infile:\n",
        "  glv = infile.read().splitlines()\n"
      ],
      "metadata": {
        "id": "NXLHv7hY5fX9"
      },
      "execution_count": 15,
      "outputs": []
    },
    {
      "cell_type": "code",
      "source": [
        "# We'll create a dictionary to hold all word - vector pairs available\n",
        "tmp_glv_dict = {\n",
        "    'word': [],\n",
        "    'vector': []\n",
        "}\n",
        "\n",
        "for word_vector_pair in glv[0:]:\n",
        "    word_vector_pair = word_vector_pair.split()\n",
        "    word = word_vector_pair[0]\n",
        "    vector = word_vector_pair[1:]\n",
        "    float_vector = [float(x) for x in vector]\n",
        "    tmp_glv_dict['word'].append(word)\n",
        "    tmp_glv_dict['vector'].append(float_vector)\n",
        "\n",
        "glv_df = pd.DataFrame.from_dict(tmp_glv_dict)\n",
        "\n",
        "glv_dict = dict(zip(glv_df.word, glv_df.vector))\n",
        "\n",
        "dim = len(glv_df.vector[0])"
      ],
      "metadata": {
        "id": "UrkaqwXxGRBe"
      },
      "execution_count": 16,
      "outputs": []
    },
    {
      "cell_type": "code",
      "source": [
        "# Let's get the mean vector of every sentence by adding the its words (as vectors)\n",
        "# and dividing by its number of words\n",
        "\n",
        "def vectorize_data(review):\n",
        "  avgVectorizedReview = np.zeros(dim)\n",
        "  numOfWords = len(review)\n",
        "  x = 0\n",
        "  for word in review:  \n",
        "    if word in glv_dict:\n",
        "      vector = np.asarray(glv_dict.get(word))\n",
        "      avgVectorizedReview = np.add(avgVectorizedReview, vector)\n",
        "  avgVectorizedReview = avgVectorizedReview / numOfWords\n",
        "  return avgVectorizedReview"
      ],
      "metadata": {
        "id": "GAJxxqLWvRKi"
      },
      "execution_count": 17,
      "outputs": []
    },
    {
      "cell_type": "code",
      "source": [
        "# Create vectorized reviews for train data\n",
        "glv_X_train = []\n",
        "glv_X_train = ([vectorize_data(review) for review in X_train[\"review\"]])\n",
        "\n",
        "# Create vectorized reviews for test data\n",
        "glv_X_test = []\n",
        "glv_X_test = ([vectorize_data(review) for review in X_test[\"review\"]])"
      ],
      "metadata": {
        "id": "KeP0USND5dqT"
      },
      "execution_count": 18,
      "outputs": []
    },
    {
      "cell_type": "markdown",
      "source": [
        "# **Training a Sentiment Classifier**\n",
        "\n",
        "\n",
        "> Creating input tensors and training a classifier using feed forward neural networks."
      ],
      "metadata": {
        "id": "CO5T4lv9_WYs"
      }
    },
    {
      "cell_type": "markdown",
      "source": [
        "## Convert train/test sets to tensors"
      ],
      "metadata": {
        "id": "jwB6b19TTvq-"
      }
    },
    {
      "cell_type": "code",
      "source": [
        "X_train_tensor = torch.tensor(np.array(glv_X_train), dtype=torch.float)\n",
        "y_train_tensor = torch.tensor(np.array(y_train.sentiment), dtype=torch.long)\n",
        "\n",
        "X_test_tensor = torch.tensor(np.array(glv_X_test), dtype=torch.float)\n",
        "y_test_tensor = torch.tensor(np.array(y_test.sentiment), dtype=torch.long)\n",
        "\n",
        "print(f\"X_train_tensor: {X_train_tensor.shape}\")\n",
        "print(f\"y_train_tensor: {y_train_tensor.shape}\")\n",
        "print(f\"X_test_tensor: {X_test_tensor.shape}\")\n",
        "print(f\"y_test_tensor: {y_test_tensor.shape}\")"
      ],
      "metadata": {
        "id": "qsxfe8N-_nEH",
        "colab": {
          "base_uri": "https://localhost:8080/"
        },
        "outputId": "cc2d49bd-70ff-4ac1-ae20-1ba7cc2759e1"
      },
      "execution_count": 559,
      "outputs": [
        {
          "output_type": "stream",
          "name": "stdout",
          "text": [
            "X_train_tensor: torch.Size([33756, 300])\n",
            "y_train_tensor: torch.Size([33756])\n",
            "X_test_tensor: torch.Size([11252, 300])\n",
            "y_test_tensor: torch.Size([11252])\n"
          ]
        }
      ]
    },
    {
      "cell_type": "markdown",
      "source": [
        "## Define neural network and hyperparameters"
      ],
      "metadata": {
        "id": "VAbAJBRlT-uu"
      }
    },
    {
      "cell_type": "code",
      "source": [
        "# The dimension of the embeddings\n",
        "inputSize = X_train_tensor.shape[1]\n",
        "\n",
        "# The sizes of the hidden layers\n",
        "hLayer = [64, 32, 8]\n",
        "\n",
        "# The number of output classes\n",
        "numOfClasses = 2\n",
        "\n",
        "# Larger learning rate, means faster learning by the nn, but bigger jumps\n",
        "learningRate = 0.00008\n",
        "\n",
        "# The number of times the entire dataset is passed forward and backward through the nn\n",
        "numOfEpochs = 65\n",
        "\n",
        "# The number of training examples in a single batch\n",
        "batchSize = 512\n",
        "\n",
        "# The activation functions\n",
        "av = nn.LeakyReLU()\n",
        "sm = nn.Softmax(dim=1)\n"
      ],
      "metadata": {
        "id": "p0K0b9zVUWC_"
      },
      "execution_count": 560,
      "outputs": []
    },
    {
      "cell_type": "code",
      "source": [
        "class Net(nn.Module):\n",
        "  def __init__(self, inputSize, hLayer, numOfClasses):\n",
        "    super(Net, self).__init__()\n",
        "    \n",
        "    self.linear1 = nn.Linear(inputSize, hLayer[0])\n",
        "    self.av1 = av\n",
        "    self.linear2 = nn.Linear(hLayer[0], hLayer[1])\n",
        "    self.av2 = av\n",
        "    self.linear3 = nn.Linear(hLayer[1], hLayer[2])\n",
        "    self.av3 = av\n",
        "    self.linear4 = nn.Linear(hLayer[2], numOfClasses)\n",
        "    self.softmax = sm\n",
        "      \n",
        "  def forward(self, x):\n",
        "    out = self.linear1(x)\n",
        "    out = self.av1(out)\n",
        "    out = self.linear2(out)\n",
        "    out = self.av2(out)\n",
        "    out = self.linear3(out)\n",
        "    out = self.av3(out)\n",
        "    out = self.linear4(out)\n",
        "    out = self.softmax(out)\n",
        "    return out\n"
      ],
      "metadata": {
        "id": "WQLRvc-C_o0l"
      },
      "execution_count": 561,
      "outputs": []
    },
    {
      "cell_type": "code",
      "source": [
        "# Initialise model, loss and optimizer\n",
        "model = Net(inputSize, hLayer, numOfClasses)\n",
        "loss_func = nn.CrossEntropyLoss()\n",
        "optimizer = torch.optim.Adam(model.parameters(), lr=learningRate)\n",
        "\n",
        "\n",
        "# Initialise trainDataloader\n",
        "trainDataset = torch.utils.data.TensorDataset(X_train_tensor, y_train_tensor)\n",
        "trainDataloader = torch.utils.data.DataLoader(trainDataset, batch_size=batchSize, shuffle=True)\n",
        "\n",
        "# Initialise testDataloader\n",
        "testDataset = torch.utils.data.TensorDataset(X_test_tensor, y_test_tensor)\n",
        "testDataloader = torch.utils.data.DataLoader(testDataset, batch_size=batchSize, shuffle=False)"
      ],
      "metadata": {
        "id": "ui66sG7IQxeX"
      },
      "execution_count": 562,
      "outputs": []
    },
    {
      "cell_type": "code",
      "source": [
        "model"
      ],
      "metadata": {
        "colab": {
          "base_uri": "https://localhost:8080/"
        },
        "id": "eTIfA0pzQ8Bs",
        "outputId": "27a202d7-1267-4f0f-b3c5-fb4f8a2ccfb6"
      },
      "execution_count": 563,
      "outputs": [
        {
          "output_type": "execute_result",
          "data": {
            "text/plain": [
              "Net(\n",
              "  (linear1): Linear(in_features=300, out_features=64, bias=True)\n",
              "  (av1): LeakyReLU(negative_slope=0.01)\n",
              "  (linear2): Linear(in_features=64, out_features=32, bias=True)\n",
              "  (av2): LeakyReLU(negative_slope=0.01)\n",
              "  (linear3): Linear(in_features=32, out_features=8, bias=True)\n",
              "  (av3): LeakyReLU(negative_slope=0.01)\n",
              "  (linear4): Linear(in_features=8, out_features=2, bias=True)\n",
              "  (softmax): Softmax(dim=1)\n",
              ")"
            ]
          },
          "metadata": {},
          "execution_count": 563
        }
      ]
    },
    {
      "cell_type": "markdown",
      "source": [
        "## Train the model"
      ],
      "metadata": {
        "id": "TVogKIiyiygQ"
      }
    },
    {
      "cell_type": "code",
      "source": [
        "def train_model(epoch, train_losses, train_f1_scores):\n",
        "  train_batch_losses = []\n",
        "  train_batch_f1_scores = []\n",
        "\n",
        "  for x_train_batch, y_train_batch in trainDataloader:\n",
        "    y_train_pred = model(x_train_batch)\n",
        "    \n",
        "    loss = loss_func(y_train_pred, y_train_batch)\n",
        "    train_batch_losses.append(loss.item())\n",
        "\n",
        "    predicted_train_values = y_train_pred.max(1).indices\n",
        "    predicted_train_values = predicted_train_values.detach().numpy()\n",
        "    trainF1 = f1_score(y_train_batch, predicted_train_values, average=\"micro\")\n",
        "    train_batch_f1_scores.append(trainF1)\n",
        "    \n",
        "    # Delete previously stored gradients\n",
        "    optimizer.zero_grad()\n",
        "    # Perform backpropagation starting from the loss calculated in this epoch\n",
        "    loss.backward()\n",
        "    # Update model's weights based on the gradients calculated during backprop\n",
        "    optimizer.step()\n",
        "  \n",
        "  total_train_Loss = sum(train_batch_losses)/len(trainDataloader)\n",
        "  train_losses.append(total_train_Loss)\n",
        "\n",
        "  epoch_train_f1 = sum(train_batch_f1_scores)/len(trainDataloader)\n",
        "  train_f1_scores.append(epoch_train_f1)\n",
        "\n",
        "  print(f\"Epoch {epoch:3}: Loss = {total_train_Loss:.5f}\")"
      ],
      "metadata": {
        "id": "4pxpETqff606"
      },
      "execution_count": 564,
      "outputs": []
    },
    {
      "cell_type": "code",
      "source": [
        "def evaluate_model(epoch, test_losses, test_f1_scores):\n",
        "  model.eval()\n",
        "  test_batch_losses = []\n",
        "  test_batch_f1_scores = []\n",
        " \n",
        "  with torch.no_grad():\n",
        "    for x_test_batch, y_test_batch in testDataloader:\n",
        "      y_test_pred = model(x_test_batch)\n",
        " \n",
        "      loss = loss_func(y_test_pred, y_test_batch)\n",
        "      test_batch_losses.append(loss.item())\n",
        "\n",
        "      predicted_test_values = y_test_pred.max(1).indices\n",
        "      predicted_test_values = predicted_test_values.detach().numpy()\n",
        "      testF1 = f1_score(y_test_batch, predicted_test_values, average=\"micro\")\n",
        "      test_batch_f1_scores.append(testF1)\n",
        "      \n",
        "\n",
        "  total_test_Loss = sum(test_batch_losses)/len(testDataloader)\n",
        "  test_losses.append(total_test_Loss)\n",
        "\n",
        "  epoch_test_f1 = sum(test_batch_f1_scores)/len(testDataloader)\n",
        "  test_f1_scores.append(epoch_test_f1)"
      ],
      "metadata": {
        "id": "kf2jzrtQf6b2"
      },
      "execution_count": 565,
      "outputs": []
    },
    {
      "cell_type": "code",
      "source": [
        "start_time = time.time()\n",
        "# While training our model we'll be keeping the change in loss and f1-score\n",
        "# for each epoch\n",
        "train_losses = []\n",
        "test_losses = []\n",
        "train_f1_scores = []\n",
        "test_f1_scores = []\n",
        "for epoch in range(0, numOfEpochs):\n",
        "  train_model(epoch, train_losses, train_f1_scores)\n",
        "  evaluate_model(epoch, test_losses, test_f1_scores)\n",
        "print(f\"Total time to train the model: {str(time.time() - start_time)}.\")\n"
      ],
      "metadata": {
        "colab": {
          "base_uri": "https://localhost:8080/"
        },
        "id": "-O9R3epFQ73h",
        "outputId": "28ec3b81-523c-49a4-ecd3-c275fbf973da"
      },
      "execution_count": 566,
      "outputs": [
        {
          "output_type": "stream",
          "name": "stdout",
          "text": [
            "Epoch   0: Loss = 0.69285\n",
            "Epoch   1: Loss = 0.69160\n",
            "Epoch   2: Loss = 0.68881\n",
            "Epoch   3: Loss = 0.68280\n",
            "Epoch   4: Loss = 0.66917\n",
            "Epoch   5: Loss = 0.64669\n",
            "Epoch   6: Loss = 0.60735\n",
            "Epoch   7: Loss = 0.56946\n",
            "Epoch   8: Loss = 0.54682\n",
            "Epoch   9: Loss = 0.53183\n",
            "Epoch  10: Loss = 0.52099\n",
            "Epoch  11: Loss = 0.51297\n",
            "Epoch  12: Loss = 0.50654\n",
            "Epoch  13: Loss = 0.50169\n",
            "Epoch  14: Loss = 0.49751\n",
            "Epoch  15: Loss = 0.49419\n",
            "Epoch  16: Loss = 0.49155\n",
            "Epoch  17: Loss = 0.48915\n",
            "Epoch  18: Loss = 0.48711\n",
            "Epoch  19: Loss = 0.48522\n",
            "Epoch  20: Loss = 0.48378\n",
            "Epoch  21: Loss = 0.48235\n",
            "Epoch  22: Loss = 0.48143\n",
            "Epoch  23: Loss = 0.48024\n",
            "Epoch  24: Loss = 0.47943\n",
            "Epoch  25: Loss = 0.47832\n",
            "Epoch  26: Loss = 0.47761\n",
            "Epoch  27: Loss = 0.47706\n",
            "Epoch  28: Loss = 0.47638\n",
            "Epoch  29: Loss = 0.47582\n",
            "Epoch  30: Loss = 0.47526\n",
            "Epoch  31: Loss = 0.47496\n",
            "Epoch  32: Loss = 0.47431\n",
            "Epoch  33: Loss = 0.47390\n",
            "Epoch  34: Loss = 0.47356\n",
            "Epoch  35: Loss = 0.47309\n",
            "Epoch  36: Loss = 0.47272\n",
            "Epoch  37: Loss = 0.47254\n",
            "Epoch  38: Loss = 0.47237\n",
            "Epoch  39: Loss = 0.47195\n",
            "Epoch  40: Loss = 0.47154\n",
            "Epoch  41: Loss = 0.47138\n",
            "Epoch  42: Loss = 0.47115\n",
            "Epoch  43: Loss = 0.47086\n",
            "Epoch  44: Loss = 0.47066\n",
            "Epoch  45: Loss = 0.47046\n",
            "Epoch  46: Loss = 0.47036\n",
            "Epoch  47: Loss = 0.47016\n",
            "Epoch  48: Loss = 0.46991\n",
            "Epoch  49: Loss = 0.46982\n",
            "Epoch  50: Loss = 0.46968\n",
            "Epoch  51: Loss = 0.46949\n",
            "Epoch  52: Loss = 0.46961\n",
            "Epoch  53: Loss = 0.46916\n",
            "Epoch  54: Loss = 0.46902\n",
            "Epoch  55: Loss = 0.46894\n",
            "Epoch  56: Loss = 0.46867\n",
            "Epoch  57: Loss = 0.46854\n",
            "Epoch  58: Loss = 0.46865\n",
            "Epoch  59: Loss = 0.46834\n",
            "Epoch  60: Loss = 0.46838\n",
            "Epoch  61: Loss = 0.46821\n",
            "Epoch  62: Loss = 0.46828\n",
            "Epoch  63: Loss = 0.46803\n",
            "Epoch  64: Loss = 0.46780\n",
            "Total time to train the model: 57.90080380439758.\n"
          ]
        }
      ]
    },
    {
      "cell_type": "markdown",
      "source": [
        "# **Evaluation and Curves**\n",
        "\n",
        "\n",
        "> ..."
      ],
      "metadata": {
        "id": "atgvoyXjYhOE"
      }
    },
    {
      "cell_type": "markdown",
      "source": [
        "## Curve preparation and classification report"
      ],
      "metadata": {
        "id": "PRdwFg_Wi9UE"
      }
    },
    {
      "cell_type": "code",
      "source": [
        "# Get predicted values for test-dataset\n",
        "results = model(X_test_tensor)\n",
        "predicted_values = results.max(1).indices\n",
        "predicted_values = predicted_values.detach().numpy()\n",
        "y_test_values = y_test_tensor.detach().numpy()\n",
        "results = results.detach().numpy()\n",
        "\n",
        "# A list of the epochs required for plotting\n",
        "epochs_count_list = [e for e in range(0, epoch+1)]"
      ],
      "metadata": {
        "id": "5RTEykpRjRjY"
      },
      "execution_count": 567,
      "outputs": []
    },
    {
      "cell_type": "code",
      "source": [
        "print(classification_report(y_test_values,predicted_values, digits = 4))"
      ],
      "metadata": {
        "colab": {
          "base_uri": "https://localhost:8080/"
        },
        "id": "F-7RMuvC6GRI",
        "outputId": "d1db3a44-1b44-4866-9426-89995b138db9"
      },
      "execution_count": 568,
      "outputs": [
        {
          "output_type": "stream",
          "name": "stdout",
          "text": [
            "              precision    recall  f1-score   support\n",
            "\n",
            "           0     0.8428    0.8182    0.8303      5649\n",
            "           1     0.8219    0.8462    0.8339      5603\n",
            "\n",
            "    accuracy                         0.8321     11252\n",
            "   macro avg     0.8324    0.8322    0.8321     11252\n",
            "weighted avg     0.8324    0.8321    0.8321     11252\n",
            "\n"
          ]
        }
      ]
    },
    {
      "cell_type": "markdown",
      "source": [
        "## Loss Curves"
      ],
      "metadata": {
        "id": "zvyNKQtNrBek"
      }
    },
    {
      "cell_type": "code",
      "source": [
        "plt.grid()\n",
        "plt.title(label=\"Loss by Epochs\",\n",
        "          loc=\"left\",\n",
        "          pad='20.0',\n",
        "          backgroundcolor='black',\n",
        "          color='white')\n",
        "plt.plot(epochs_count_list, train_losses)\n",
        "plt.plot(epochs_count_list, test_losses)\n",
        "\n",
        "plt.legend([\"Train Loss\",\"Validation Loss\"])\n",
        "plt.show()"
      ],
      "metadata": {
        "colab": {
          "base_uri": "https://localhost:8080/",
          "height": 295
        },
        "id": "CkIRW7K7iEQP",
        "outputId": "cd6232bc-0c2f-4233-b149-816baf712bb9"
      },
      "execution_count": 569,
      "outputs": [
        {
          "output_type": "display_data",
          "data": {
            "text/plain": [
              "<Figure size 432x288 with 1 Axes>"
            ],
            "image/png": "[encoded data removed]"
          },
          "metadata": {
            "needs_background": "light"
          }
        }
      ]
    },
    {
      "cell_type": "markdown",
      "source": [
        "## F1 Learning Curves"
      ],
      "metadata": {
        "id": "vtE49o7is81w"
      }
    },
    {
      "cell_type": "code",
      "source": [
        "plt.grid()\n",
        "plt.title(label=\"F1-score by Epochs\",\n",
        "          loc=\"left\",\n",
        "          pad='20.0',\n",
        "          backgroundcolor='black',\n",
        "          color='white')\n",
        "plt.plot(epochs_count_list, train_f1_scores)\n",
        "plt.plot(epochs_count_list, test_f1_scores)\n",
        "\n",
        "plt.legend([\"Train f1-score\",\"Validation f1-score\"])\n",
        "plt.show()"
      ],
      "metadata": {
        "colab": {
          "base_uri": "https://localhost:8080/",
          "height": 295
        },
        "id": "-vEz19hUtDKw",
        "outputId": "894ab4d3-758e-4f44-df44-bb0f3985fd9f"
      },
      "execution_count": 570,
      "outputs": [
        {
          "output_type": "display_data",
          "data": {
            "text/plain": [
              "<Figure size 432x288 with 1 Axes>"
            ],
            "image/png": "[encoded data removed]"
          },
          "metadata": {
            "needs_background": "light"
          }
        }
      ]
    },
    {
      "cell_type": "markdown",
      "source": [
        "## Roc Curves"
      ],
      "metadata": {
        "id": "BIql6eVHdgho"
      }
    },
    {
      "cell_type": "code",
      "source": [
        "# Create an array of 2 columns - each for every class and assign 1 or 0\n",
        "# depending on the label of each instance\n",
        "y_test_valuesBin = label_binarize(y_test_values, classes=[0,1,2])\n",
        "y_test_valuesBin = np.delete(y_test_valuesBin, 2, 1)"
      ],
      "metadata": {
        "id": "S4m9SFZ6gtT5"
      },
      "execution_count": 571,
      "outputs": []
    },
    {
      "cell_type": "code",
      "source": [
        "from sklearn.preprocessing import label_binarize\n",
        "# Compute ROC curve and ROC area for each class\n",
        "fpr = dict()\n",
        "tpr = dict()\n",
        "roc_auc = dict()\n",
        "yLabelsBin = label_binarize(y_test_values, classes=[0,1])\n",
        "for i in range(2):\n",
        "    fpr[i], tpr[i], _ = roc_curve(y_test_valuesBin[:, i], results[:, i])\n",
        "    roc_auc[i] = auc(fpr[i], tpr[i])\n",
        "\n",
        "plt.grid()\n",
        "\n",
        "classes = ['Positive reviews','Negative reviews']\n",
        "for i in range(2):\n",
        "  plt.plot(fpr[i], tpr[i], label='{0} (area = {1:0.2f})'\n",
        "                                  ''.format(classes[i], roc_auc[i]))\n",
        "\n",
        "plt.plot([0, 1], [0, 1], \"k--\")\n",
        "plt.xlim([0.0, 1.0])\n",
        "plt.ylim([0.0, 1.05])\n",
        "plt.xlabel(\"False Positive Rate\")\n",
        "plt.ylabel(\"True Positive Rate\")\n",
        "plt.title(label=\"ROC Curves\",\n",
        "          loc=\"left\",\n",
        "          pad='20.0',\n",
        "          backgroundcolor='black',\n",
        "          color='white')\n",
        "plt.legend(loc=\"lower right\")\n",
        "plt.show()"
      ],
      "metadata": {
        "colab": {
          "base_uri": "https://localhost:8080/",
          "height": 309
        },
        "id": "6SfOhwExdgE3",
        "outputId": "9442bec6-c2de-4ad4-a5c4-693ec8af6573"
      },
      "execution_count": 572,
      "outputs": [
        {
          "output_type": "display_data",
          "data": {
            "text/plain": [
              "<Figure size 432x288 with 1 Axes>"
            ],
            "image/png": "[encoded data removed]"
          },
          "metadata": {
            "needs_background": "light"
          }
        }
      ]
    }
  ]
}