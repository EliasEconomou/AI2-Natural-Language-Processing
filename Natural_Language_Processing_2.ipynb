{
  "nbformat": 4,
  "nbformat_minor": 0,
  "metadata": {
    "colab": {
      "provenance": [],
      "collapsed_sections": [
        "n779pB5esLi3",
        "zcJvc8JKg8te",
        "XHkYwrGyscWj",
        "vEiMZ4BsCBvY",
        "sDslLfAXS3br",
        "QRDsNM_WYdYe",
        "U90H6qRd4aaY",
        "Ls_ENt--xt0A",
        "fjuUmQ9d0JIm"
      ],
      "mount_file_id": "1MCk1tSM5-EtpjhAMwrtaHf-nppR56FRe",
      "authorship_tag": "ABX9TyPrXt2Ee7ZnU+yYpB33X4xq",
      "include_colab_link": true
    },
    "kernelspec": {
      "name": "python3",
      "display_name": "Python 3"
    },
    "language_info": {
      "name": "python"
    }
  },
  "cells": [
    {
      "cell_type": "markdown",
      "metadata": {
        "id": "view-in-github",
        "colab_type": "text"
      },
      "source": [
        "<a href=\"https://colab.research.google.com/github/EliasEconomou/AI2-Natural-Language-Processing/blob/main/Natural_Language_Processing_2.ipynb\" target=\"_parent\"><img src=\"https://colab.research.google.com/assets/colab-badge.svg\" alt=\"Open In Colab\"/></a>"
      ]
    },
    {
      "cell_type": "markdown",
      "source": [
        "# **Importing Libraries and Reading Datafile**"
      ],
      "metadata": {
        "id": "n779pB5esLi3"
      }
    },
    {
      "cell_type": "code",
      "execution_count": 1,
      "metadata": {
        "id": "cgRQrhtiAm52",
        "colab": {
          "base_uri": "https://localhost:8080/"
        },
        "outputId": "3be9b913-94f9-4968-900a-95458f427c6f"
      },
      "outputs": [
        {
          "output_type": "stream",
          "name": "stderr",
          "text": [
            "[nltk_data] Downloading package punkt to /root/nltk_data...\n",
            "[nltk_data]   Unzipping tokenizers/punkt.zip.\n",
            "[nltk_data] Downloading package stopwords to /root/nltk_data...\n",
            "[nltk_data]   Unzipping corpora/stopwords.zip.\n",
            "[nltk_data] Downloading package wordnet to /root/nltk_data...\n",
            "[nltk_data] Downloading package omw-1.4 to /root/nltk_data...\n"
          ]
        }
      ],
      "source": [
        "import numpy as np\n",
        "import pandas as pd\n",
        "import sys\n",
        "import os.path\n",
        "import time\n",
        "\n",
        "import re\n",
        "import nltk\n",
        "nltk.download('punkt')\n",
        "nltk.download('stopwords')\n",
        "nltk.download('wordnet')\n",
        "nltk.download('omw-1.4')\n",
        "from nltk.corpus import stopwords\n",
        "from nltk.tokenize import word_tokenize\n",
        "from nltk.probability import FreqDist\n",
        "from nltk.stem import WordNetLemmatizer\n",
        "\n",
        "from itertools import chain\n",
        "from wordcloud import WordCloud\n",
        "import matplotlib.pyplot as plt\n",
        "\n",
        "from sklearn.model_selection import train_test_split\n",
        "from sklearn.metrics import classification_report\n",
        "from sklearn.metrics import make_scorer, accuracy_score, precision_score, recall_score, f1_score\n",
        "\n",
        "import torch\n",
        "import torch.nn as nn\n"
      ]
    },
    {
      "cell_type": "code",
      "source": [
        "# Read data files\n",
        "def read_csv_file(filePath,separator):\n",
        "  fileExists = os.path.exists(filePath)\n",
        "  if fileExists:\n",
        "    rFile = pd.read_csv(filePath,sep=separator)\n",
        "  else:\n",
        "    print('Enter data file path:')\n",
        "    filePath = input()\n",
        "    rFile = pd.read_csv(filePath,sep=separator)\n",
        "  return rFile"
      ],
      "metadata": {
        "id": "tKMH7eAxFroj"
      },
      "execution_count": 2,
      "outputs": []
    },
    {
      "cell_type": "code",
      "source": [
        "# Reading data file\n",
        "filePath = \"./drive/MyDrive/ColabNotebooks/Homework_2/imdb-reviews.csv\"\n",
        "initDF = read_csv_file(filePath,'\\t')\n",
        "initDF.head()"
      ],
      "metadata": {
        "colab": {
          "base_uri": "https://localhost:8080/",
          "height": 0
        },
        "id": "ujXkJjx9EJ6s",
        "outputId": "3d874ab2-fceb-4365-a3f2-8aeebdaabb6a"
      },
      "execution_count": 3,
      "outputs": [
        {
          "output_type": "execute_result",
          "data": {
            "text/plain": [
              "                                                url  rating  \\\n",
              "0  http://www.imdb.com/title/tt0120623/usercomments    10.0   \n",
              "1  http://www.imdb.com/title/tt0043117/usercomments     9.0   \n",
              "2  http://www.imdb.com/title/tt0043117/usercomments    10.0   \n",
              "3  http://www.imdb.com/title/tt0835204/usercomments     4.0   \n",
              "4  http://www.imdb.com/title/tt0499603/usercomments    10.0   \n",
              "\n",
              "                                              review  \n",
              "0  I thought this was a quiet good movie. It was ...  \n",
              "1  Wagon Master is a very unique film amongst Joh...  \n",
              "2  This film has to be as near to perfect a film ...  \n",
              "3  I gave this 4 stars because it has a lot of in...  \n",
              "4  This movie is really genuine and random. It's ...  "
            ],
            "text/html": [
              "\n",
              "  <div id=\"df-8ee6830b-061f-4bcb-894f-389237829f4e\">\n",
              "    <div class=\"colab-df-container\">\n",
              "      <div>\n",
              "<style scoped>\n",
              "    .dataframe tbody tr th:only-of-type {\n",
              "        vertical-align: middle;\n",
              "    }\n",
              "\n",
              "    .dataframe tbody tr th {\n",
              "        vertical-align: top;\n",
              "    }\n",
              "\n",
              "    .dataframe thead th {\n",
              "        text-align: right;\n",
              "    }\n",
              "</style>\n",
              "<table border=\"1\" class=\"dataframe\">\n",
              "  <thead>\n",
              "    <tr style=\"text-align: right;\">\n",
              "      <th></th>\n",
              "      <th>url</th>\n",
              "      <th>rating</th>\n",
              "      <th>review</th>\n",
              "    </tr>\n",
              "  </thead>\n",
              "  <tbody>\n",
              "    <tr>\n",
              "      <th>0</th>\n",
              "      <td>http://www.imdb.com/title/tt0120623/usercomments</td>\n",
              "      <td>10.0</td>\n",
              "      <td>I thought this was a quiet good movie. It was ...</td>\n",
              "    </tr>\n",
              "    <tr>\n",
              "      <th>1</th>\n",
              "      <td>http://www.imdb.com/title/tt0043117/usercomments</td>\n",
              "      <td>9.0</td>\n",
              "      <td>Wagon Master is a very unique film amongst Joh...</td>\n",
              "    </tr>\n",
              "    <tr>\n",
              "      <th>2</th>\n",
              "      <td>http://www.imdb.com/title/tt0043117/usercomments</td>\n",
              "      <td>10.0</td>\n",
              "      <td>This film has to be as near to perfect a film ...</td>\n",
              "    </tr>\n",
              "    <tr>\n",
              "      <th>3</th>\n",
              "      <td>http://www.imdb.com/title/tt0835204/usercomments</td>\n",
              "      <td>4.0</td>\n",
              "      <td>I gave this 4 stars because it has a lot of in...</td>\n",
              "    </tr>\n",
              "    <tr>\n",
              "      <th>4</th>\n",
              "      <td>http://www.imdb.com/title/tt0499603/usercomments</td>\n",
              "      <td>10.0</td>\n",
              "      <td>This movie is really genuine and random. It's ...</td>\n",
              "    </tr>\n",
              "  </tbody>\n",
              "</table>\n",
              "</div>\n",
              "      <button class=\"colab-df-convert\" onclick=\"convertToInteractive('df-8ee6830b-061f-4bcb-894f-389237829f4e')\"\n",
              "              title=\"Convert this dataframe to an interactive table.\"\n",
              "              style=\"display:none;\">\n",
              "        \n",
              "  <svg xmlns=\"http://www.w3.org/2000/svg\" height=\"24px\"viewBox=\"0 0 24 24\"\n",
              "       width=\"24px\">\n",
              "    <path d=\"M0 0h24v24H0V0z\" fill=\"none\"/>\n",
              "    <path d=\"M18.56 5.44l.94 2.06.94-2.06 2.06-.94-2.06-.94-.94-2.06-.94 2.06-2.06.94zm-11 1L8.5 8.5l.94-2.06 2.06-.94-2.06-.94L8.5 2.5l-.94 2.06-2.06.94zm10 10l.94 2.06.94-2.06 2.06-.94-2.06-.94-.94-2.06-.94 2.06-2.06.94z\"/><path d=\"M17.41 7.96l-1.37-1.37c-.4-.4-.92-.59-1.43-.59-.52 0-1.04.2-1.43.59L10.3 9.45l-7.72 7.72c-.78.78-.78 2.05 0 2.83L4 21.41c.39.39.9.59 1.41.59.51 0 1.02-.2 1.41-.59l7.78-7.78 2.81-2.81c.8-.78.8-2.07 0-2.86zM5.41 20L4 18.59l7.72-7.72 1.47 1.35L5.41 20z\"/>\n",
              "  </svg>\n",
              "      </button>\n",
              "      \n",
              "  <style>\n",
              "    .colab-df-container {\n",
              "      display:flex;\n",
              "      flex-wrap:wrap;\n",
              "      gap: 12px;\n",
              "    }\n",
              "\n",
              "    .colab-df-convert {\n",
              "      background-color: #E8F0FE;\n",
              "      border: none;\n",
              "      border-radius: 50%;\n",
              "      cursor: pointer;\n",
              "      display: none;\n",
              "      fill: #1967D2;\n",
              "      height: 32px;\n",
              "      padding: 0 0 0 0;\n",
              "      width: 32px;\n",
              "    }\n",
              "\n",
              "    .colab-df-convert:hover {\n",
              "      background-color: #E2EBFA;\n",
              "      box-shadow: 0px 1px 2px rgba(60, 64, 67, 0.3), 0px 1px 3px 1px rgba(60, 64, 67, 0.15);\n",
              "      fill: #174EA6;\n",
              "    }\n",
              "\n",
              "    [theme=dark] .colab-df-convert {\n",
              "      background-color: #3B4455;\n",
              "      fill: #D2E3FC;\n",
              "    }\n",
              "\n",
              "    [theme=dark] .colab-df-convert:hover {\n",
              "      background-color: #434B5C;\n",
              "      box-shadow: 0px 1px 3px 1px rgba(0, 0, 0, 0.15);\n",
              "      filter: drop-shadow(0px 1px 2px rgba(0, 0, 0, 0.3));\n",
              "      fill: #FFFFFF;\n",
              "    }\n",
              "  </style>\n",
              "\n",
              "      <script>\n",
              "        const buttonEl =\n",
              "          document.querySelector('#df-8ee6830b-061f-4bcb-894f-389237829f4e button.colab-df-convert');\n",
              "        buttonEl.style.display =\n",
              "          google.colab.kernel.accessAllowed ? 'block' : 'none';\n",
              "\n",
              "        async function convertToInteractive(key) {\n",
              "          const element = document.querySelector('#df-8ee6830b-061f-4bcb-894f-389237829f4e');\n",
              "          const dataTable =\n",
              "            await google.colab.kernel.invokeFunction('convertToInteractive',\n",
              "                                                     [key], {});\n",
              "          if (!dataTable) return;\n",
              "\n",
              "          const docLinkHtml = 'Like what you see? Visit the ' +\n",
              "            '<a target=\"_blank\" href=https://colab.research.google.com/notebooks/data_table.ipynb>data table notebook</a>'\n",
              "            + ' to learn more about interactive tables.';\n",
              "          element.innerHTML = '';\n",
              "          dataTable['output_type'] = 'display_data';\n",
              "          await google.colab.output.renderOutput(dataTable, element);\n",
              "          const docLink = document.createElement('div');\n",
              "          docLink.innerHTML = docLinkHtml;\n",
              "          element.appendChild(docLink);\n",
              "        }\n",
              "      </script>\n",
              "    </div>\n",
              "  </div>\n",
              "  "
            ]
          },
          "metadata": {},
          "execution_count": 3
        }
      ]
    },
    {
      "cell_type": "code",
      "source": [],
      "metadata": {
        "id": "Fot3bkhB9qh3"
      },
      "execution_count": 3,
      "outputs": []
    },
    {
      "cell_type": "markdown",
      "source": [
        "# **Preprocessing Functions**\n",
        "> Let's create some functions to help us clean and prepare a dataset with the above format for training/evaluating."
      ],
      "metadata": {
        "id": "zcJvc8JKg8te"
      }
    },
    {
      "cell_type": "code",
      "source": [
        "def preprocess_dataframe(df):\n",
        "  toBeCleanDF = df\n",
        "\n",
        "  # Let's remove any missing values\n",
        "  toBeCleanDF.dropna(inplace = True)\n",
        "\n",
        "  # We 're probably going to skip using the url column\n",
        "  toBeCleanDF = toBeCleanDF.drop([\"url\"], axis=1)\n",
        "\n",
        "  # Change the column order for simplicity\n",
        "  toBeCleanDF = toBeCleanDF[[\"review\",\"rating\"]]\n",
        "\n",
        "  # Remove punctuation, links, hashtags, new lines etc, using regular expressions\n",
        "  toBeCleanDF[\"review\"] = toBeCleanDF[\"review\"].replace('\\\"|\\'|\\.|,|\\?|!|:|\\(|\\)|%|\\$|;','', regex=True)\n",
        "  toBeCleanDF[\"review\"] = toBeCleanDF[\"review\"].replace('\\n|\\t','', regex=True)\n",
        "  toBeCleanDF[\"review\"] = toBeCleanDF[\"review\"].replace(r'(http\\S+)|(www\\S+)|(#\\S+)|(&\\S+)|(@\\S+)','', regex=True)\n",
        "  toBeCleanDF[\"review\"] = toBeCleanDF[\"review\"].replace('(\\s-\\s)','', regex=True)\n",
        "  toBeCleanDF[\"review\"] = toBeCleanDF[\"review\"].replace(r'\\b[0-9]+\\b', '', regex=True)\n",
        "  toBeCleanDF[\"review\"] = toBeCleanDF[\"review\"].replace(\"<br />\", ' ', regex=True)\n",
        "  toBeCleanDF[\"review\"] = toBeCleanDF[\"review\"].replace('/','', regex=True)\n",
        "\n",
        "  # Remove emojis by encoding - decoding into ascii, resulting in ignoring them\n",
        "  toBeCleanDF[\"review\"] = toBeCleanDF[\"review\"].apply(lambda x: x.encode('ascii', 'ignore').decode('ascii'))\n",
        "\n",
        "  # Convert review to lowercase\n",
        "  toBeCleanDF[\"review\"] = toBeCleanDF[\"review\"].str.lower()\n",
        "  \n",
        "  # We'll create a list of stopwords to remove, like 'i','is','you', etc\n",
        "  stopWords = list(stopwords.words('english'))\n",
        "  # Maybe remove or add some more words\n",
        "  stopWords.remove(\"why\")\n",
        "  stopWords.remove(\"how\")\n",
        "  stopWords.remove(\"against\")\n",
        "  stopWords.remove(\"again\")\n",
        "  stopWords.remove(\"not\")\n",
        "  stopWords.append(\"'ve\")\n",
        "  stopWords.append(\"'re\")\n",
        "  stopWords.append(\"'s\")\n",
        "  stopWords.append(\"``\")\n",
        "  stopWords.append(\"''\")\n",
        "\n",
        "  # Let's also create a new column named evaluation to categorize reviews into positive, negative\n",
        "  # based on their rating (1-4 : negative as 'NEG' - 7-10 : positive as 'POS')\n",
        "  rating_ranges = [ (toBeCleanDF[\"rating\"] <= 4), (toBeCleanDF[\"rating\"] >=7) ]\n",
        "  sentiment = [\"NEG\", \"POS\"]\n",
        "\n",
        "  toBeCleanDF['sentiment'] = np.select(rating_ranges, sentiment)\n",
        "  \n",
        "  return toBeCleanDF,stopWords"
      ],
      "metadata": {
        "id": "Pykv7f-djJiL"
      },
      "execution_count": 4,
      "outputs": []
    },
    {
      "cell_type": "code",
      "source": [
        "# Tokenize the reviews\n",
        "def tokenize_dataframe(df,stopWords):\n",
        "  toBeTokenisedDF = df\n",
        "\n",
        "  toBeTokenisedDF[\"review\"] = toBeTokenisedDF[\"review\"].apply(word_tokenize)\n",
        "  toBeTokenisedDF[\"review\"] = toBeTokenisedDF[\"review\"].apply(lambda words: [word for word in words if word not in stopWords])\n",
        "\n",
        "  # Remove any unnecessary spaces that came up\n",
        "  toBeTokenisedDF[\"review\"] = toBeTokenisedDF[\"review\"].replace(' +', ' ', regex=True)\n",
        "\n",
        "  return toBeTokenisedDF"
      ],
      "metadata": {
        "id": "KRdGU4kGm2lU"
      },
      "execution_count": 5,
      "outputs": []
    },
    {
      "cell_type": "code",
      "source": [
        "def lemmatize_words(words):\n",
        "  lemmatizer = WordNetLemmatizer()\n",
        "  # We'll lemmatize nouns and verbs\n",
        "  words = [lemmatizer.lemmatize(noun, \"n\") for noun in words]\n",
        "  words = [lemmatizer.lemmatize(verb, \"v\") for verb in words]\n",
        "  \n",
        "  return words"
      ],
      "metadata": {
        "id": "raiZOcIloU9G"
      },
      "execution_count": 6,
      "outputs": []
    },
    {
      "cell_type": "code",
      "source": [
        "# Lemmatize the reviews\n",
        "def lemmatize_dataframe(df):\n",
        "  toBeLemmatisedDF = df.assign(review = df.review.apply(lambda x: lemmatize_words(x)))\n",
        "\n",
        "  return toBeLemmatisedDF"
      ],
      "metadata": {
        "id": "X24Mbb_moCm6"
      },
      "execution_count": 7,
      "outputs": []
    },
    {
      "cell_type": "code",
      "source": [],
      "metadata": {
        "id": "__eBQxC296FQ"
      },
      "execution_count": 7,
      "outputs": []
    },
    {
      "cell_type": "code",
      "source": [],
      "metadata": {
        "id": "rv_TaVdv99Kq"
      },
      "execution_count": 7,
      "outputs": []
    },
    {
      "cell_type": "markdown",
      "source": [
        "# **Preprocessing and Cleaning Data**\n",
        "> We start by cleaning the given dataset of missing values, stop words, links, emojis etc then tokenizing and lemmatizing the data."
      ],
      "metadata": {
        "id": "XHkYwrGyscWj"
      }
    },
    {
      "cell_type": "code",
      "source": [
        "cleanedDF,StopWords = preprocess_dataframe(initDF)\n",
        "cleanedDF = pd.DataFrame(cleanedDF)\n",
        "cleanedDF.head()"
      ],
      "metadata": {
        "id": "ih9FqYpqse2h",
        "colab": {
          "base_uri": "https://localhost:8080/",
          "height": 0
        },
        "outputId": "de62d3c1-1baf-4bc6-e7ac-4cc1575bb82f"
      },
      "execution_count": 8,
      "outputs": [
        {
          "output_type": "execute_result",
          "data": {
            "text/plain": [
              "                                              review  rating sentiment\n",
              "0  i thought this was a quiet good movie it was f...    10.0       POS\n",
              "1  wagon master is a very unique film amongst joh...     9.0       POS\n",
              "2  this film has to be as near to perfect a film ...    10.0       POS\n",
              "3  i gave this  stars because it has a lot of int...     4.0       NEG\n",
              "4  this movie is really genuine and random its re...    10.0       POS"
            ],
            "text/html": [
              "\n",
              "  <div id=\"df-5fad6ee7-1804-4159-8b94-db5e59106ee7\">\n",
              "    <div class=\"colab-df-container\">\n",
              "      <div>\n",
              "<style scoped>\n",
              "    .dataframe tbody tr th:only-of-type {\n",
              "        vertical-align: middle;\n",
              "    }\n",
              "\n",
              "    .dataframe tbody tr th {\n",
              "        vertical-align: top;\n",
              "    }\n",
              "\n",
              "    .dataframe thead th {\n",
              "        text-align: right;\n",
              "    }\n",
              "</style>\n",
              "<table border=\"1\" class=\"dataframe\">\n",
              "  <thead>\n",
              "    <tr style=\"text-align: right;\">\n",
              "      <th></th>\n",
              "      <th>review</th>\n",
              "      <th>rating</th>\n",
              "      <th>sentiment</th>\n",
              "    </tr>\n",
              "  </thead>\n",
              "  <tbody>\n",
              "    <tr>\n",
              "      <th>0</th>\n",
              "      <td>i thought this was a quiet good movie it was f...</td>\n",
              "      <td>10.0</td>\n",
              "      <td>POS</td>\n",
              "    </tr>\n",
              "    <tr>\n",
              "      <th>1</th>\n",
              "      <td>wagon master is a very unique film amongst joh...</td>\n",
              "      <td>9.0</td>\n",
              "      <td>POS</td>\n",
              "    </tr>\n",
              "    <tr>\n",
              "      <th>2</th>\n",
              "      <td>this film has to be as near to perfect a film ...</td>\n",
              "      <td>10.0</td>\n",
              "      <td>POS</td>\n",
              "    </tr>\n",
              "    <tr>\n",
              "      <th>3</th>\n",
              "      <td>i gave this  stars because it has a lot of int...</td>\n",
              "      <td>4.0</td>\n",
              "      <td>NEG</td>\n",
              "    </tr>\n",
              "    <tr>\n",
              "      <th>4</th>\n",
              "      <td>this movie is really genuine and random its re...</td>\n",
              "      <td>10.0</td>\n",
              "      <td>POS</td>\n",
              "    </tr>\n",
              "  </tbody>\n",
              "</table>\n",
              "</div>\n",
              "      <button class=\"colab-df-convert\" onclick=\"convertToInteractive('df-5fad6ee7-1804-4159-8b94-db5e59106ee7')\"\n",
              "              title=\"Convert this dataframe to an interactive table.\"\n",
              "              style=\"display:none;\">\n",
              "        \n",
              "  <svg xmlns=\"http://www.w3.org/2000/svg\" height=\"24px\"viewBox=\"0 0 24 24\"\n",
              "       width=\"24px\">\n",
              "    <path d=\"M0 0h24v24H0V0z\" fill=\"none\"/>\n",
              "    <path d=\"M18.56 5.44l.94 2.06.94-2.06 2.06-.94-2.06-.94-.94-2.06-.94 2.06-2.06.94zm-11 1L8.5 8.5l.94-2.06 2.06-.94-2.06-.94L8.5 2.5l-.94 2.06-2.06.94zm10 10l.94 2.06.94-2.06 2.06-.94-2.06-.94-.94-2.06-.94 2.06-2.06.94z\"/><path d=\"M17.41 7.96l-1.37-1.37c-.4-.4-.92-.59-1.43-.59-.52 0-1.04.2-1.43.59L10.3 9.45l-7.72 7.72c-.78.78-.78 2.05 0 2.83L4 21.41c.39.39.9.59 1.41.59.51 0 1.02-.2 1.41-.59l7.78-7.78 2.81-2.81c.8-.78.8-2.07 0-2.86zM5.41 20L4 18.59l7.72-7.72 1.47 1.35L5.41 20z\"/>\n",
              "  </svg>\n",
              "      </button>\n",
              "      \n",
              "  <style>\n",
              "    .colab-df-container {\n",
              "      display:flex;\n",
              "      flex-wrap:wrap;\n",
              "      gap: 12px;\n",
              "    }\n",
              "\n",
              "    .colab-df-convert {\n",
              "      background-color: #E8F0FE;\n",
              "      border: none;\n",
              "      border-radius: 50%;\n",
              "      cursor: pointer;\n",
              "      display: none;\n",
              "      fill: #1967D2;\n",
              "      height: 32px;\n",
              "      padding: 0 0 0 0;\n",
              "      width: 32px;\n",
              "    }\n",
              "\n",
              "    .colab-df-convert:hover {\n",
              "      background-color: #E2EBFA;\n",
              "      box-shadow: 0px 1px 2px rgba(60, 64, 67, 0.3), 0px 1px 3px 1px rgba(60, 64, 67, 0.15);\n",
              "      fill: #174EA6;\n",
              "    }\n",
              "\n",
              "    [theme=dark] .colab-df-convert {\n",
              "      background-color: #3B4455;\n",
              "      fill: #D2E3FC;\n",
              "    }\n",
              "\n",
              "    [theme=dark] .colab-df-convert:hover {\n",
              "      background-color: #434B5C;\n",
              "      box-shadow: 0px 1px 3px 1px rgba(0, 0, 0, 0.15);\n",
              "      filter: drop-shadow(0px 1px 2px rgba(0, 0, 0, 0.3));\n",
              "      fill: #FFFFFF;\n",
              "    }\n",
              "  </style>\n",
              "\n",
              "      <script>\n",
              "        const buttonEl =\n",
              "          document.querySelector('#df-5fad6ee7-1804-4159-8b94-db5e59106ee7 button.colab-df-convert');\n",
              "        buttonEl.style.display =\n",
              "          google.colab.kernel.accessAllowed ? 'block' : 'none';\n",
              "\n",
              "        async function convertToInteractive(key) {\n",
              "          const element = document.querySelector('#df-5fad6ee7-1804-4159-8b94-db5e59106ee7');\n",
              "          const dataTable =\n",
              "            await google.colab.kernel.invokeFunction('convertToInteractive',\n",
              "                                                     [key], {});\n",
              "          if (!dataTable) return;\n",
              "\n",
              "          const docLinkHtml = 'Like what you see? Visit the ' +\n",
              "            '<a target=\"_blank\" href=https://colab.research.google.com/notebooks/data_table.ipynb>data table notebook</a>'\n",
              "            + ' to learn more about interactive tables.';\n",
              "          element.innerHTML = '';\n",
              "          dataTable['output_type'] = 'display_data';\n",
              "          await google.colab.output.renderOutput(dataTable, element);\n",
              "          const docLink = document.createElement('div');\n",
              "          docLink.innerHTML = docLinkHtml;\n",
              "          element.appendChild(docLink);\n",
              "        }\n",
              "      </script>\n",
              "    </div>\n",
              "  </div>\n",
              "  "
            ]
          },
          "metadata": {},
          "execution_count": 8
        }
      ]
    },
    {
      "cell_type": "code",
      "source": [
        "tokenisedDF = tokenize_dataframe(cleanedDF,StopWords)\n",
        "tokenisedDF = pd.DataFrame(tokenisedDF)\n",
        "tokenisedDF.head()"
      ],
      "metadata": {
        "id": "Ghd-y8SSMfpa",
        "colab": {
          "base_uri": "https://localhost:8080/",
          "height": 0
        },
        "outputId": "1eff1215-9e12-44fa-ed89-c7cfa7c1eaf0"
      },
      "execution_count": 9,
      "outputs": [
        {
          "output_type": "execute_result",
          "data": {
            "text/plain": [
              "                                              review  rating sentiment\n",
              "0  [thought, quiet, good, movie, fun, watch, like...    10.0       POS\n",
              "1  [wagon, master, unique, film, amongst, john, f...     9.0       POS\n",
              "2  [film, near, perfect, film, john, ford, made, ...    10.0       POS\n",
              "3  [gave, stars, lot, interesting, themes, many, ...     4.0       NEG\n",
              "4  [movie, really, genuine, random, really, hard,...    10.0       POS"
            ],
            "text/html": [
              "\n",
              "  <div id=\"df-9c94acf5-91dc-4b48-97f8-d68faaa88aa4\">\n",
              "    <div class=\"colab-df-container\">\n",
              "      <div>\n",
              "<style scoped>\n",
              "    .dataframe tbody tr th:only-of-type {\n",
              "        vertical-align: middle;\n",
              "    }\n",
              "\n",
              "    .dataframe tbody tr th {\n",
              "        vertical-align: top;\n",
              "    }\n",
              "\n",
              "    .dataframe thead th {\n",
              "        text-align: right;\n",
              "    }\n",
              "</style>\n",
              "<table border=\"1\" class=\"dataframe\">\n",
              "  <thead>\n",
              "    <tr style=\"text-align: right;\">\n",
              "      <th></th>\n",
              "      <th>review</th>\n",
              "      <th>rating</th>\n",
              "      <th>sentiment</th>\n",
              "    </tr>\n",
              "  </thead>\n",
              "  <tbody>\n",
              "    <tr>\n",
              "      <th>0</th>\n",
              "      <td>[thought, quiet, good, movie, fun, watch, like...</td>\n",
              "      <td>10.0</td>\n",
              "      <td>POS</td>\n",
              "    </tr>\n",
              "    <tr>\n",
              "      <th>1</th>\n",
              "      <td>[wagon, master, unique, film, amongst, john, f...</td>\n",
              "      <td>9.0</td>\n",
              "      <td>POS</td>\n",
              "    </tr>\n",
              "    <tr>\n",
              "      <th>2</th>\n",
              "      <td>[film, near, perfect, film, john, ford, made, ...</td>\n",
              "      <td>10.0</td>\n",
              "      <td>POS</td>\n",
              "    </tr>\n",
              "    <tr>\n",
              "      <th>3</th>\n",
              "      <td>[gave, stars, lot, interesting, themes, many, ...</td>\n",
              "      <td>4.0</td>\n",
              "      <td>NEG</td>\n",
              "    </tr>\n",
              "    <tr>\n",
              "      <th>4</th>\n",
              "      <td>[movie, really, genuine, random, really, hard,...</td>\n",
              "      <td>10.0</td>\n",
              "      <td>POS</td>\n",
              "    </tr>\n",
              "  </tbody>\n",
              "</table>\n",
              "</div>\n",
              "      <button class=\"colab-df-convert\" onclick=\"convertToInteractive('df-9c94acf5-91dc-4b48-97f8-d68faaa88aa4')\"\n",
              "              title=\"Convert this dataframe to an interactive table.\"\n",
              "              style=\"display:none;\">\n",
              "        \n",
              "  <svg xmlns=\"http://www.w3.org/2000/svg\" height=\"24px\"viewBox=\"0 0 24 24\"\n",
              "       width=\"24px\">\n",
              "    <path d=\"M0 0h24v24H0V0z\" fill=\"none\"/>\n",
              "    <path d=\"M18.56 5.44l.94 2.06.94-2.06 2.06-.94-2.06-.94-.94-2.06-.94 2.06-2.06.94zm-11 1L8.5 8.5l.94-2.06 2.06-.94-2.06-.94L8.5 2.5l-.94 2.06-2.06.94zm10 10l.94 2.06.94-2.06 2.06-.94-2.06-.94-.94-2.06-.94 2.06-2.06.94z\"/><path d=\"M17.41 7.96l-1.37-1.37c-.4-.4-.92-.59-1.43-.59-.52 0-1.04.2-1.43.59L10.3 9.45l-7.72 7.72c-.78.78-.78 2.05 0 2.83L4 21.41c.39.39.9.59 1.41.59.51 0 1.02-.2 1.41-.59l7.78-7.78 2.81-2.81c.8-.78.8-2.07 0-2.86zM5.41 20L4 18.59l7.72-7.72 1.47 1.35L5.41 20z\"/>\n",
              "  </svg>\n",
              "      </button>\n",
              "      \n",
              "  <style>\n",
              "    .colab-df-container {\n",
              "      display:flex;\n",
              "      flex-wrap:wrap;\n",
              "      gap: 12px;\n",
              "    }\n",
              "\n",
              "    .colab-df-convert {\n",
              "      background-color: #E8F0FE;\n",
              "      border: none;\n",
              "      border-radius: 50%;\n",
              "      cursor: pointer;\n",
              "      display: none;\n",
              "      fill: #1967D2;\n",
              "      height: 32px;\n",
              "      padding: 0 0 0 0;\n",
              "      width: 32px;\n",
              "    }\n",
              "\n",
              "    .colab-df-convert:hover {\n",
              "      background-color: #E2EBFA;\n",
              "      box-shadow: 0px 1px 2px rgba(60, 64, 67, 0.3), 0px 1px 3px 1px rgba(60, 64, 67, 0.15);\n",
              "      fill: #174EA6;\n",
              "    }\n",
              "\n",
              "    [theme=dark] .colab-df-convert {\n",
              "      background-color: #3B4455;\n",
              "      fill: #D2E3FC;\n",
              "    }\n",
              "\n",
              "    [theme=dark] .colab-df-convert:hover {\n",
              "      background-color: #434B5C;\n",
              "      box-shadow: 0px 1px 3px 1px rgba(0, 0, 0, 0.15);\n",
              "      filter: drop-shadow(0px 1px 2px rgba(0, 0, 0, 0.3));\n",
              "      fill: #FFFFFF;\n",
              "    }\n",
              "  </style>\n",
              "\n",
              "      <script>\n",
              "        const buttonEl =\n",
              "          document.querySelector('#df-9c94acf5-91dc-4b48-97f8-d68faaa88aa4 button.colab-df-convert');\n",
              "        buttonEl.style.display =\n",
              "          google.colab.kernel.accessAllowed ? 'block' : 'none';\n",
              "\n",
              "        async function convertToInteractive(key) {\n",
              "          const element = document.querySelector('#df-9c94acf5-91dc-4b48-97f8-d68faaa88aa4');\n",
              "          const dataTable =\n",
              "            await google.colab.kernel.invokeFunction('convertToInteractive',\n",
              "                                                     [key], {});\n",
              "          if (!dataTable) return;\n",
              "\n",
              "          const docLinkHtml = 'Like what you see? Visit the ' +\n",
              "            '<a target=\"_blank\" href=https://colab.research.google.com/notebooks/data_table.ipynb>data table notebook</a>'\n",
              "            + ' to learn more about interactive tables.';\n",
              "          element.innerHTML = '';\n",
              "          dataTable['output_type'] = 'display_data';\n",
              "          await google.colab.output.renderOutput(dataTable, element);\n",
              "          const docLink = document.createElement('div');\n",
              "          docLink.innerHTML = docLinkHtml;\n",
              "          element.appendChild(docLink);\n",
              "        }\n",
              "      </script>\n",
              "    </div>\n",
              "  </div>\n",
              "  "
            ]
          },
          "metadata": {},
          "execution_count": 9
        }
      ]
    },
    {
      "cell_type": "code",
      "source": [
        "lemmatisedDF = lemmatize_dataframe(tokenisedDF)\n",
        "lemmatisedDF = pd.DataFrame(lemmatisedDF)\n",
        "lemmatisedDF.head()"
      ],
      "metadata": {
        "id": "7asaErwoRbRW",
        "colab": {
          "base_uri": "https://localhost:8080/",
          "height": 0
        },
        "outputId": "0895cd4f-6fab-43d5-89cc-bd88526d2f67"
      },
      "execution_count": 10,
      "outputs": [
        {
          "output_type": "execute_result",
          "data": {
            "text/plain": [
              "                                              review  rating sentiment\n",
              "0  [think, quiet, good, movie, fun, watch, like, ...    10.0       POS\n",
              "1  [wagon, master, unique, film, amongst, john, f...     9.0       POS\n",
              "2  [film, near, perfect, film, john, ford, make, ...    10.0       POS\n",
              "3  [give, star, lot, interest, theme, many, alrea...     4.0       NEG\n",
              "4  [movie, really, genuine, random, really, hard,...    10.0       POS"
            ],
            "text/html": [
              "\n",
              "  <div id=\"df-db1e5835-9e3e-418c-a96a-92947794bd63\">\n",
              "    <div class=\"colab-df-container\">\n",
              "      <div>\n",
              "<style scoped>\n",
              "    .dataframe tbody tr th:only-of-type {\n",
              "        vertical-align: middle;\n",
              "    }\n",
              "\n",
              "    .dataframe tbody tr th {\n",
              "        vertical-align: top;\n",
              "    }\n",
              "\n",
              "    .dataframe thead th {\n",
              "        text-align: right;\n",
              "    }\n",
              "</style>\n",
              "<table border=\"1\" class=\"dataframe\">\n",
              "  <thead>\n",
              "    <tr style=\"text-align: right;\">\n",
              "      <th></th>\n",
              "      <th>review</th>\n",
              "      <th>rating</th>\n",
              "      <th>sentiment</th>\n",
              "    </tr>\n",
              "  </thead>\n",
              "  <tbody>\n",
              "    <tr>\n",
              "      <th>0</th>\n",
              "      <td>[think, quiet, good, movie, fun, watch, like, ...</td>\n",
              "      <td>10.0</td>\n",
              "      <td>POS</td>\n",
              "    </tr>\n",
              "    <tr>\n",
              "      <th>1</th>\n",
              "      <td>[wagon, master, unique, film, amongst, john, f...</td>\n",
              "      <td>9.0</td>\n",
              "      <td>POS</td>\n",
              "    </tr>\n",
              "    <tr>\n",
              "      <th>2</th>\n",
              "      <td>[film, near, perfect, film, john, ford, make, ...</td>\n",
              "      <td>10.0</td>\n",
              "      <td>POS</td>\n",
              "    </tr>\n",
              "    <tr>\n",
              "      <th>3</th>\n",
              "      <td>[give, star, lot, interest, theme, many, alrea...</td>\n",
              "      <td>4.0</td>\n",
              "      <td>NEG</td>\n",
              "    </tr>\n",
              "    <tr>\n",
              "      <th>4</th>\n",
              "      <td>[movie, really, genuine, random, really, hard,...</td>\n",
              "      <td>10.0</td>\n",
              "      <td>POS</td>\n",
              "    </tr>\n",
              "  </tbody>\n",
              "</table>\n",
              "</div>\n",
              "      <button class=\"colab-df-convert\" onclick=\"convertToInteractive('df-db1e5835-9e3e-418c-a96a-92947794bd63')\"\n",
              "              title=\"Convert this dataframe to an interactive table.\"\n",
              "              style=\"display:none;\">\n",
              "        \n",
              "  <svg xmlns=\"http://www.w3.org/2000/svg\" height=\"24px\"viewBox=\"0 0 24 24\"\n",
              "       width=\"24px\">\n",
              "    <path d=\"M0 0h24v24H0V0z\" fill=\"none\"/>\n",
              "    <path d=\"M18.56 5.44l.94 2.06.94-2.06 2.06-.94-2.06-.94-.94-2.06-.94 2.06-2.06.94zm-11 1L8.5 8.5l.94-2.06 2.06-.94-2.06-.94L8.5 2.5l-.94 2.06-2.06.94zm10 10l.94 2.06.94-2.06 2.06-.94-2.06-.94-.94-2.06-.94 2.06-2.06.94z\"/><path d=\"M17.41 7.96l-1.37-1.37c-.4-.4-.92-.59-1.43-.59-.52 0-1.04.2-1.43.59L10.3 9.45l-7.72 7.72c-.78.78-.78 2.05 0 2.83L4 21.41c.39.39.9.59 1.41.59.51 0 1.02-.2 1.41-.59l7.78-7.78 2.81-2.81c.8-.78.8-2.07 0-2.86zM5.41 20L4 18.59l7.72-7.72 1.47 1.35L5.41 20z\"/>\n",
              "  </svg>\n",
              "      </button>\n",
              "      \n",
              "  <style>\n",
              "    .colab-df-container {\n",
              "      display:flex;\n",
              "      flex-wrap:wrap;\n",
              "      gap: 12px;\n",
              "    }\n",
              "\n",
              "    .colab-df-convert {\n",
              "      background-color: #E8F0FE;\n",
              "      border: none;\n",
              "      border-radius: 50%;\n",
              "      cursor: pointer;\n",
              "      display: none;\n",
              "      fill: #1967D2;\n",
              "      height: 32px;\n",
              "      padding: 0 0 0 0;\n",
              "      width: 32px;\n",
              "    }\n",
              "\n",
              "    .colab-df-convert:hover {\n",
              "      background-color: #E2EBFA;\n",
              "      box-shadow: 0px 1px 2px rgba(60, 64, 67, 0.3), 0px 1px 3px 1px rgba(60, 64, 67, 0.15);\n",
              "      fill: #174EA6;\n",
              "    }\n",
              "\n",
              "    [theme=dark] .colab-df-convert {\n",
              "      background-color: #3B4455;\n",
              "      fill: #D2E3FC;\n",
              "    }\n",
              "\n",
              "    [theme=dark] .colab-df-convert:hover {\n",
              "      background-color: #434B5C;\n",
              "      box-shadow: 0px 1px 3px 1px rgba(0, 0, 0, 0.15);\n",
              "      filter: drop-shadow(0px 1px 2px rgba(0, 0, 0, 0.3));\n",
              "      fill: #FFFFFF;\n",
              "    }\n",
              "  </style>\n",
              "\n",
              "      <script>\n",
              "        const buttonEl =\n",
              "          document.querySelector('#df-db1e5835-9e3e-418c-a96a-92947794bd63 button.colab-df-convert');\n",
              "        buttonEl.style.display =\n",
              "          google.colab.kernel.accessAllowed ? 'block' : 'none';\n",
              "\n",
              "        async function convertToInteractive(key) {\n",
              "          const element = document.querySelector('#df-db1e5835-9e3e-418c-a96a-92947794bd63');\n",
              "          const dataTable =\n",
              "            await google.colab.kernel.invokeFunction('convertToInteractive',\n",
              "                                                     [key], {});\n",
              "          if (!dataTable) return;\n",
              "\n",
              "          const docLinkHtml = 'Like what you see? Visit the ' +\n",
              "            '<a target=\"_blank\" href=https://colab.research.google.com/notebooks/data_table.ipynb>data table notebook</a>'\n",
              "            + ' to learn more about interactive tables.';\n",
              "          element.innerHTML = '';\n",
              "          dataTable['output_type'] = 'display_data';\n",
              "          await google.colab.output.renderOutput(dataTable, element);\n",
              "          const docLink = document.createElement('div');\n",
              "          docLink.innerHTML = docLinkHtml;\n",
              "          element.appendChild(docLink);\n",
              "        }\n",
              "      </script>\n",
              "    </div>\n",
              "  </div>\n",
              "  "
            ]
          },
          "metadata": {},
          "execution_count": 10
        }
      ]
    },
    {
      "cell_type": "code",
      "source": [
        "# Let's convert sentiments to numbers for later use\n",
        "lemmatisedDF['sentiment'] = lemmatisedDF['sentiment'].replace(['NEG','POS'],[0,1])\n",
        "lemmatisedDF.head()"
      ],
      "metadata": {
        "id": "i31CCl0T-I4Z",
        "colab": {
          "base_uri": "https://localhost:8080/",
          "height": 0
        },
        "outputId": "ea4c86dc-cfa6-4503-cc83-0e903c02cea6"
      },
      "execution_count": 11,
      "outputs": [
        {
          "output_type": "execute_result",
          "data": {
            "text/plain": [
              "                                              review  rating  sentiment\n",
              "0  [think, quiet, good, movie, fun, watch, like, ...    10.0          1\n",
              "1  [wagon, master, unique, film, amongst, john, f...     9.0          1\n",
              "2  [film, near, perfect, film, john, ford, make, ...    10.0          1\n",
              "3  [give, star, lot, interest, theme, many, alrea...     4.0          0\n",
              "4  [movie, really, genuine, random, really, hard,...    10.0          1"
            ],
            "text/html": [
              "\n",
              "  <div id=\"df-0cb3b9d4-1e81-493f-ba44-087324276f6a\">\n",
              "    <div class=\"colab-df-container\">\n",
              "      <div>\n",
              "<style scoped>\n",
              "    .dataframe tbody tr th:only-of-type {\n",
              "        vertical-align: middle;\n",
              "    }\n",
              "\n",
              "    .dataframe tbody tr th {\n",
              "        vertical-align: top;\n",
              "    }\n",
              "\n",
              "    .dataframe thead th {\n",
              "        text-align: right;\n",
              "    }\n",
              "</style>\n",
              "<table border=\"1\" class=\"dataframe\">\n",
              "  <thead>\n",
              "    <tr style=\"text-align: right;\">\n",
              "      <th></th>\n",
              "      <th>review</th>\n",
              "      <th>rating</th>\n",
              "      <th>sentiment</th>\n",
              "    </tr>\n",
              "  </thead>\n",
              "  <tbody>\n",
              "    <tr>\n",
              "      <th>0</th>\n",
              "      <td>[think, quiet, good, movie, fun, watch, like, ...</td>\n",
              "      <td>10.0</td>\n",
              "      <td>1</td>\n",
              "    </tr>\n",
              "    <tr>\n",
              "      <th>1</th>\n",
              "      <td>[wagon, master, unique, film, amongst, john, f...</td>\n",
              "      <td>9.0</td>\n",
              "      <td>1</td>\n",
              "    </tr>\n",
              "    <tr>\n",
              "      <th>2</th>\n",
              "      <td>[film, near, perfect, film, john, ford, make, ...</td>\n",
              "      <td>10.0</td>\n",
              "      <td>1</td>\n",
              "    </tr>\n",
              "    <tr>\n",
              "      <th>3</th>\n",
              "      <td>[give, star, lot, interest, theme, many, alrea...</td>\n",
              "      <td>4.0</td>\n",
              "      <td>0</td>\n",
              "    </tr>\n",
              "    <tr>\n",
              "      <th>4</th>\n",
              "      <td>[movie, really, genuine, random, really, hard,...</td>\n",
              "      <td>10.0</td>\n",
              "      <td>1</td>\n",
              "    </tr>\n",
              "  </tbody>\n",
              "</table>\n",
              "</div>\n",
              "      <button class=\"colab-df-convert\" onclick=\"convertToInteractive('df-0cb3b9d4-1e81-493f-ba44-087324276f6a')\"\n",
              "              title=\"Convert this dataframe to an interactive table.\"\n",
              "              style=\"display:none;\">\n",
              "        \n",
              "  <svg xmlns=\"http://www.w3.org/2000/svg\" height=\"24px\"viewBox=\"0 0 24 24\"\n",
              "       width=\"24px\">\n",
              "    <path d=\"M0 0h24v24H0V0z\" fill=\"none\"/>\n",
              "    <path d=\"M18.56 5.44l.94 2.06.94-2.06 2.06-.94-2.06-.94-.94-2.06-.94 2.06-2.06.94zm-11 1L8.5 8.5l.94-2.06 2.06-.94-2.06-.94L8.5 2.5l-.94 2.06-2.06.94zm10 10l.94 2.06.94-2.06 2.06-.94-2.06-.94-.94-2.06-.94 2.06-2.06.94z\"/><path d=\"M17.41 7.96l-1.37-1.37c-.4-.4-.92-.59-1.43-.59-.52 0-1.04.2-1.43.59L10.3 9.45l-7.72 7.72c-.78.78-.78 2.05 0 2.83L4 21.41c.39.39.9.59 1.41.59.51 0 1.02-.2 1.41-.59l7.78-7.78 2.81-2.81c.8-.78.8-2.07 0-2.86zM5.41 20L4 18.59l7.72-7.72 1.47 1.35L5.41 20z\"/>\n",
              "  </svg>\n",
              "      </button>\n",
              "      \n",
              "  <style>\n",
              "    .colab-df-container {\n",
              "      display:flex;\n",
              "      flex-wrap:wrap;\n",
              "      gap: 12px;\n",
              "    }\n",
              "\n",
              "    .colab-df-convert {\n",
              "      background-color: #E8F0FE;\n",
              "      border: none;\n",
              "      border-radius: 50%;\n",
              "      cursor: pointer;\n",
              "      display: none;\n",
              "      fill: #1967D2;\n",
              "      height: 32px;\n",
              "      padding: 0 0 0 0;\n",
              "      width: 32px;\n",
              "    }\n",
              "\n",
              "    .colab-df-convert:hover {\n",
              "      background-color: #E2EBFA;\n",
              "      box-shadow: 0px 1px 2px rgba(60, 64, 67, 0.3), 0px 1px 3px 1px rgba(60, 64, 67, 0.15);\n",
              "      fill: #174EA6;\n",
              "    }\n",
              "\n",
              "    [theme=dark] .colab-df-convert {\n",
              "      background-color: #3B4455;\n",
              "      fill: #D2E3FC;\n",
              "    }\n",
              "\n",
              "    [theme=dark] .colab-df-convert:hover {\n",
              "      background-color: #434B5C;\n",
              "      box-shadow: 0px 1px 3px 1px rgba(0, 0, 0, 0.15);\n",
              "      filter: drop-shadow(0px 1px 2px rgba(0, 0, 0, 0.3));\n",
              "      fill: #FFFFFF;\n",
              "    }\n",
              "  </style>\n",
              "\n",
              "      <script>\n",
              "        const buttonEl =\n",
              "          document.querySelector('#df-0cb3b9d4-1e81-493f-ba44-087324276f6a button.colab-df-convert');\n",
              "        buttonEl.style.display =\n",
              "          google.colab.kernel.accessAllowed ? 'block' : 'none';\n",
              "\n",
              "        async function convertToInteractive(key) {\n",
              "          const element = document.querySelector('#df-0cb3b9d4-1e81-493f-ba44-087324276f6a');\n",
              "          const dataTable =\n",
              "            await google.colab.kernel.invokeFunction('convertToInteractive',\n",
              "                                                     [key], {});\n",
              "          if (!dataTable) return;\n",
              "\n",
              "          const docLinkHtml = 'Like what you see? Visit the ' +\n",
              "            '<a target=\"_blank\" href=https://colab.research.google.com/notebooks/data_table.ipynb>data table notebook</a>'\n",
              "            + ' to learn more about interactive tables.';\n",
              "          element.innerHTML = '';\n",
              "          dataTable['output_type'] = 'display_data';\n",
              "          await google.colab.output.renderOutput(dataTable, element);\n",
              "          const docLink = document.createElement('div');\n",
              "          docLink.innerHTML = docLinkHtml;\n",
              "          element.appendChild(docLink);\n",
              "        }\n",
              "      </script>\n",
              "    </div>\n",
              "  </div>\n",
              "  "
            ]
          },
          "metadata": {},
          "execution_count": 11
        }
      ]
    },
    {
      "cell_type": "code",
      "source": [],
      "metadata": {
        "id": "7h5WIdY8-Jlp"
      },
      "execution_count": 11,
      "outputs": []
    },
    {
      "cell_type": "markdown",
      "source": [
        "# **Analyzing Data (optional)**\n",
        "\n",
        "\n",
        "> Let's do some basic analysis to extract usefull information about our reviews.\n",
        "\n"
      ],
      "metadata": {
        "id": "vEiMZ4BsCBvY"
      }
    },
    {
      "cell_type": "code",
      "source": [
        "ratingsDICT = {'1-2' : 0, '3-4' : 0, '7-8' : 0, '9-10' : 0}\n",
        "for rating in lemmatisedDF[\"rating\"]:\n",
        "  if rating == 1.0 or rating == 2.0:\n",
        "    ratingsDICT[\"1-2\"] += 1\n",
        "  elif rating == 3.0 or rating == 4.0:\n",
        "    ratingsDICT[\"3-4\"] += 1\n",
        "  elif rating == 7.0 or rating == 8.0:\n",
        "    ratingsDICT[\"7-8\"] += 1\n",
        "  elif rating == 9.0 or rating == 10.0:\n",
        "    ratingsDICT[\"9-10\"] += 1\n",
        "\n",
        "labels = ratingsDICT.keys()\n",
        "sizes = ratingsDICT.values()\n",
        "explode = [0, 0, 0, 0.07]\n",
        "\n",
        "fig1, ax1 = plt.subplots()\n",
        "ax1.pie(sizes, explode=explode, labels=labels, autopct='%1.1f%%',\n",
        "        shadow=True, startangle=0)\n",
        "ax1.axis('equal')\n",
        "plt.title(label=\"Ratings Distribution\",\n",
        "          loc=\"left\",\n",
        "          pad='20.0',\n",
        "          backgroundcolor='black',\n",
        "          color='white')\n",
        "plt.show()"
      ],
      "metadata": {
        "colab": {
          "base_uri": "https://localhost:8080/",
          "height": 278
        },
        "id": "yhAw4_P1CDcf",
        "outputId": "f0da9868-da2e-44a5-be34-bf59d6d3abf4"
      },
      "execution_count": 12,
      "outputs": [
        {
          "output_type": "display_data",
          "data": {
            "text/plain": [
              "<Figure size 432x288 with 1 Axes>"
            ],
            "image/png": "[encoded data removed]"
          },
          "metadata": {}
        }
      ]
    },
    {
      "cell_type": "markdown",
      "source": [
        "We see that there are almost equally numbered negative/positive reviews."
      ],
      "metadata": {
        "id": "tj5yUH-HMMuc"
      }
    },
    {
      "cell_type": "code",
      "source": [
        "# Group by sentiment and plot wordclouds for most used words in every sentiment\n",
        "groupBySent = lemmatisedDF.groupby('sentiment')\n",
        "\n",
        "POSgroup = groupBySent.get_group(1)\n",
        "NEGgroup = groupBySent.get_group(0)"
      ],
      "metadata": {
        "id": "_Bq3sDNdMok7"
      },
      "execution_count": 16,
      "outputs": []
    },
    {
      "cell_type": "code",
      "source": [
        "POSList = list(chain.from_iterable(list(POSgroup[\"review\"])))\n",
        "POSfdist = FreqDist(POSList)\n",
        "NEGList = list(chain.from_iterable(list(NEGgroup[\"review\"])))\n",
        "NEGfdist = FreqDist(NEGList)"
      ],
      "metadata": {
        "id": "woXdwykHispx"
      },
      "execution_count": 17,
      "outputs": []
    },
    {
      "cell_type": "code",
      "source": [
        "POScloud = WordCloud(max_words=50,\n",
        "                      background_color='white',\n",
        "                      contour_color='black',\n",
        "                      contour_width=4).generate_from_frequencies(POSfdist)\n",
        "\n",
        "plt.imshow(POScloud, interpolation='bilinear')\n",
        "plt.axis('off')\n",
        "plt.title(label='Most used words - POSITIVE reviews',\n",
        "          loc=\"left\",\n",
        "          pad='25.0',\n",
        "          backgroundcolor='black',\n",
        "          color='white')\n",
        "plt.show()"
      ],
      "metadata": {
        "colab": {
          "base_uri": "https://localhost:8080/",
          "height": 233
        },
        "id": "iilPC6ldk2LO",
        "outputId": "1dfbb1b1-6d3a-4659-ab6d-ce6629f2d9a0"
      },
      "execution_count": 18,
      "outputs": [
        {
          "output_type": "display_data",
          "data": {
            "text/plain": [
              "<Figure size 432x288 with 1 Axes>"
            ],
            "image/png": "[encoded data removed]"
          },
          "metadata": {
            "needs_background": "light"
          }
        }
      ]
    },
    {
      "cell_type": "code",
      "source": [
        "NEGcloud = WordCloud(max_words=50,\n",
        "                      background_color='white',\n",
        "                      contour_color='black',\n",
        "                      contour_width=4).generate_from_frequencies(NEGfdist)\n",
        "\n",
        "plt.imshow(NEGcloud, interpolation='bilinear')\n",
        "plt.axis('off')\n",
        "plt.title(label='Most used words - NEGATIVE reviews',\n",
        "          loc=\"left\",\n",
        "          pad='25.0',\n",
        "          backgroundcolor='black',\n",
        "          color='white')\n",
        "plt.show()"
      ],
      "metadata": {
        "colab": {
          "base_uri": "https://localhost:8080/",
          "height": 233
        },
        "id": "7qqEhrmklRfY",
        "outputId": "72d8dc87-9773-44dd-baee-af506921aa9d"
      },
      "execution_count": 19,
      "outputs": [
        {
          "output_type": "display_data",
          "data": {
            "text/plain": [
              "<Figure size 432x288 with 1 Axes>"
            ],
            "image/png": "[encoded data removed]"
          },
          "metadata": {
            "needs_background": "light"
          }
        }
      ]
    },
    {
      "cell_type": "markdown",
      "source": [
        "# **Split data into train/validation sets**"
      ],
      "metadata": {
        "id": "sDslLfAXS3br"
      }
    },
    {
      "cell_type": "code",
      "source": [
        "DF = lemmatisedDF\n",
        "\n",
        "# Keep data in X and labels in y\n",
        "X, y = DF.drop(columns = [\"sentiment\",\"rating\"]), DF.drop(columns = [\"review\",\"rating\"])\n",
        "print(X.shape, y.shape)"
      ],
      "metadata": {
        "colab": {
          "base_uri": "https://localhost:8080/"
        },
        "id": "LBjAX8UotOK3",
        "outputId": "1f5e685a-bf7c-45c2-9983-036ca613cd22"
      },
      "execution_count": 12,
      "outputs": [
        {
          "output_type": "stream",
          "name": "stdout",
          "text": [
            "(45008, 1) (45008, 1)\n"
          ]
        }
      ]
    },
    {
      "cell_type": "code",
      "source": [
        "# Split into train/test sets\n",
        "X_train, X_test, y_train, y_test = train_test_split(X, y, test_size=0.25, shuffle=False)\n",
        "print(X_train.shape, X_test.shape, y_train.shape, y_test.shape)"
      ],
      "metadata": {
        "colab": {
          "base_uri": "https://localhost:8080/"
        },
        "id": "VbgDp_aavJ1E",
        "outputId": "f95371d1-0295-4170-89c5-194a0e676238"
      },
      "execution_count": 13,
      "outputs": [
        {
          "output_type": "stream",
          "name": "stdout",
          "text": [
            "(33756, 1) (11252, 1) (33756, 1) (11252, 1)\n"
          ]
        }
      ]
    },
    {
      "cell_type": "markdown",
      "source": [
        "# **Use a test set (optional)**\n",
        "\n",
        "\n",
        "> Here we can use a different test set to test our model."
      ],
      "metadata": {
        "id": "QRDsNM_WYdYe"
      }
    },
    {
      "cell_type": "code",
      "source": [
        "# Reading test file\n",
        "testPath = \" \"\n",
        "testDF = read_csv_file(testPath,'\\t')\n",
        "testDF.head()"
      ],
      "metadata": {
        "id": "3fkLZyoJYwdZ"
      },
      "execution_count": null,
      "outputs": []
    },
    {
      "cell_type": "code",
      "source": [
        "cleanedTestDF,StopWords = preprocess_dataframe(testDF)\n",
        "cleanedTestDF = pd.DataFrame(cleanedTestDF)\n",
        "cleanedTestDF.head()"
      ],
      "metadata": {
        "id": "kxvpII_X1blB"
      },
      "execution_count": null,
      "outputs": []
    },
    {
      "cell_type": "code",
      "source": [
        "tokenisedTestDF = tokenize_dataframe(cleanedTestDF,StopWords)\n",
        "tokenisedTestDF = pd.DataFrame(tokenisedTestDF)\n",
        "tokenisedTestDF.head()"
      ],
      "metadata": {
        "id": "oFSST4O21blC"
      },
      "execution_count": null,
      "outputs": []
    },
    {
      "cell_type": "code",
      "source": [
        "lemmatisedTestDF = lemmatize_dataframe(tokenisedTestDF)\n",
        "lemmatisedTestDF = pd.DataFrame(lemmatisedTestDF)\n",
        "lemmatisedTestDF.head()"
      ],
      "metadata": {
        "id": "MoCzivJQ1blD"
      },
      "execution_count": null,
      "outputs": []
    },
    {
      "cell_type": "code",
      "source": [
        "X_test, y_test = lemmatisedTestDF.drop(columns = [\"sentiment\",\"rating\"]), lemmatisedTestDF.drop(columns = [\"review\",\"rating\"])\n",
        "print(X_test.shape, y_test.shape)"
      ],
      "metadata": {
        "colab": {
          "base_uri": "https://localhost:8080/"
        },
        "id": "HtYnxJ3UZwVg",
        "outputId": "cbb15c32-0fb0-4e23-8cc0-f6afc8d559bb"
      },
      "execution_count": null,
      "outputs": [
        {
          "output_type": "stream",
          "name": "stdout",
          "text": [
            "(3167, 1) (3167, 1)\n"
          ]
        }
      ]
    },
    {
      "cell_type": "code",
      "source": [],
      "metadata": {
        "id": "8fJ-f5iW_OeP"
      },
      "execution_count": null,
      "outputs": []
    },
    {
      "cell_type": "code",
      "source": [
        "tfidf_vectorizer = TfidfVectorizer(max_df=1.0, min_df=1, max_features=2000)\n",
        "\n",
        "# Create TF-IDF for train data\n",
        "tfidf_X_train = tfidf_vectorizer.fit_transform(X_train[\"review\"].astype(str))\n",
        "\n",
        "# Create TF-IDF for test data\n",
        "tfidf_X_test = tfidf_vectorizer.transform(X_test[\"review\"].astype(str))\n",
        "\n",
        "# print(tfidf_vectorizer.vocabulary_)"
      ],
      "metadata": {
        "id": "Fre0Vqjp2n_a"
      },
      "execution_count": null,
      "outputs": []
    },
    {
      "cell_type": "code",
      "source": [],
      "metadata": {
        "id": "rSydSrbK_k6O"
      },
      "execution_count": null,
      "outputs": []
    },
    {
      "cell_type": "markdown",
      "source": [
        "# **Download Glove Embeddings**\n"
      ],
      "metadata": {
        "id": "U90H6qRd4aaY"
      }
    },
    {
      "cell_type": "code",
      "source": [
        "!wget http://nlp.stanford.edu/data/glove.6B.zip"
      ],
      "metadata": {
        "colab": {
          "base_uri": "https://localhost:8080/"
        },
        "id": "vjG3Oq8guE9-",
        "outputId": "8ff0ee0a-16b2-4ab7-f6e9-4ef938bbf6f7"
      },
      "execution_count": 22,
      "outputs": [
        {
          "output_type": "stream",
          "name": "stdout",
          "text": [
            "--2022-12-14 10:55:20--  http://nlp.stanford.edu/data/glove.6B.zip\n",
            "Resolving nlp.stanford.edu (nlp.stanford.edu)... 171.64.67.140\n",
            "Connecting to nlp.stanford.edu (nlp.stanford.edu)|171.64.67.140|:80... connected.\n",
            "HTTP request sent, awaiting response... 302 Found\n",
            "Location: https://nlp.stanford.edu/data/glove.6B.zip [following]\n",
            "--2022-12-14 10:55:20--  https://nlp.stanford.edu/data/glove.6B.zip\n",
            "Connecting to nlp.stanford.edu (nlp.stanford.edu)|171.64.67.140|:443... connected.\n",
            "HTTP request sent, awaiting response... 301 Moved Permanently\n",
            "Location: https://downloads.cs.stanford.edu/nlp/data/glove.6B.zip [following]\n",
            "--2022-12-14 10:55:21--  https://downloads.cs.stanford.edu/nlp/data/glove.6B.zip\n",
            "Resolving downloads.cs.stanford.edu (downloads.cs.stanford.edu)... 171.64.64.22\n",
            "Connecting to downloads.cs.stanford.edu (downloads.cs.stanford.edu)|171.64.64.22|:443... connected.\n",
            "HTTP request sent, awaiting response... 200 OK\n",
            "Length: 862182613 (822M) [application/zip]\n",
            "Saving to: ‘glove.6B.zip’\n",
            "\n",
            "glove.6B.zip        100%[===================>] 822.24M  5.10MB/s    in 2m 39s  \n",
            "\n",
            "2022-12-14 10:58:00 (5.18 MB/s) - ‘glove.6B.zip’ saved [862182613/862182613]\n",
            "\n"
          ]
        }
      ]
    },
    {
      "cell_type": "code",
      "source": [
        "!unzip glove*.zip"
      ],
      "metadata": {
        "colab": {
          "base_uri": "https://localhost:8080/"
        },
        "id": "Q3FdI_hsvrTR",
        "outputId": "4e407ed2-41df-4fff-d62a-7c5ab9ae0611"
      },
      "execution_count": 23,
      "outputs": [
        {
          "output_type": "stream",
          "name": "stdout",
          "text": [
            "Archive:  glove.6B.zip\n",
            "  inflating: glove.6B.50d.txt        \n",
            "  inflating: glove.6B.100d.txt       \n",
            "  inflating: glove.6B.200d.txt       \n",
            "  inflating: glove.6B.300d.txt       \n"
          ]
        }
      ]
    },
    {
      "cell_type": "code",
      "source": [
        "glove6B_txt_path = 'glove.6B.200d.txt'"
      ],
      "metadata": {
        "id": "xAuQIP6jxtFx"
      },
      "execution_count": 24,
      "outputs": []
    },
    {
      "cell_type": "markdown",
      "source": [
        "# **Or Load Glove Embeddings from Drive (Optional)**\n",
        "\n",
        "\n",
        "> An option to load the embeddings if downloading them takes a lot of time."
      ],
      "metadata": {
        "id": "Ls_ENt--xt0A"
      }
    },
    {
      "cell_type": "code",
      "source": [
        "glove6B_txt_path = '/content/drive/MyDrive/ColabNotebooks/Homework_2/glove.6B.200d.txt'"
      ],
      "metadata": {
        "id": "18LP0pugyZun"
      },
      "execution_count": 14,
      "outputs": []
    },
    {
      "cell_type": "markdown",
      "source": [
        "# **Vectorize our Reviews-Data**\n",
        "\n",
        "\n",
        "> An option to load the embeddings if downloading them takes a lot of time."
      ],
      "metadata": {
        "id": "fjuUmQ9d0JIm"
      }
    },
    {
      "cell_type": "code",
      "source": [
        "glv = {}\n",
        "with open(glove6B_txt_path, 'r') as infile:\n",
        "  glv = infile.read().splitlines()\n"
      ],
      "metadata": {
        "id": "NXLHv7hY5fX9"
      },
      "execution_count": 15,
      "outputs": []
    },
    {
      "cell_type": "code",
      "source": [
        "tmp_glv_dict = {\n",
        "    'word': [],\n",
        "    'vector': []\n",
        "}\n",
        "\n",
        "for word_vector_pair in glv[0:]:\n",
        "    word_vector_pair = word_vector_pair.split()\n",
        "    word = word_vector_pair[0]\n",
        "    vector = word_vector_pair[1:]\n",
        "    float_vector = [float(x) for x in vector]\n",
        "    tmp_glv_dict['word'].append(word)\n",
        "    tmp_glv_dict['vector'].append(float_vector)\n",
        "\n",
        "glv_df = pd.DataFrame.from_dict(tmp_glv_dict)\n",
        "\n",
        "glv_dict = dict(zip(glv_df.word, glv_df.vector))\n",
        "\n",
        "dim = len(glv_df.vector[0])"
      ],
      "metadata": {
        "id": "UrkaqwXxGRBe"
      },
      "execution_count": 16,
      "outputs": []
    },
    {
      "cell_type": "code",
      "source": [
        "def vectorize_data(review):\n",
        "  avgVectorizedReview = np.zeros(dim)\n",
        "  numOfWords = len(review)\n",
        "  x = 0\n",
        "  for word in review:  \n",
        "    if word in glv_dict:\n",
        "      vector = np.asarray(glv_dict.get(word))\n",
        "      avgVectorizedReview = np.add(avgVectorizedReview, vector)\n",
        "  avgVectorizedReview = avgVectorizedReview / numOfWords\n",
        "  return avgVectorizedReview"
      ],
      "metadata": {
        "id": "GAJxxqLWvRKi"
      },
      "execution_count": 17,
      "outputs": []
    },
    {
      "cell_type": "code",
      "source": [
        "# Create vectorized reviews for train data\n",
        "glv_X_train = []\n",
        "glv_X_train = ([vectorize_data(review) for review in X_train[\"review\"]])\n",
        "\n",
        "# Create vectorized reviews for test data\n",
        "glv_X_test = []\n",
        "glv_X_test = ([vectorize_data(review) for review in X_test[\"review\"]])"
      ],
      "metadata": {
        "id": "KeP0USND5dqT"
      },
      "execution_count": 18,
      "outputs": []
    },
    {
      "cell_type": "code",
      "source": [],
      "metadata": {
        "id": "MDbgK7Hm_VId"
      },
      "execution_count": 18,
      "outputs": []
    },
    {
      "cell_type": "code",
      "source": [],
      "metadata": {
        "id": "o2HL87N8L7BZ"
      },
      "execution_count": 18,
      "outputs": []
    },
    {
      "cell_type": "markdown",
      "source": [
        "# **Neural Network**\n",
        "\n",
        "\n",
        "> ..."
      ],
      "metadata": {
        "id": "CO5T4lv9_WYs"
      }
    },
    {
      "cell_type": "markdown",
      "source": [
        "## Convert train/test sets to tensors"
      ],
      "metadata": {
        "id": "jwB6b19TTvq-"
      }
    },
    {
      "cell_type": "code",
      "source": [
        "X_train_tensor = torch.tensor(np.array(glv_X_train), dtype=torch.float)\n",
        "y_train_tensor = torch.tensor(np.array(y_train.sentiment), dtype=torch.long)\n",
        "\n",
        "X_test_tensor = torch.tensor(np.array(glv_X_test), dtype=torch.float)\n",
        "y_test_tensor = torch.tensor(np.array(y_test.sentiment), dtype=torch.long)\n",
        "\n",
        "print(f\"X_train_tensor: {X_train_tensor.shape}\")\n",
        "print(f\"y_train_tensor: {y_train_tensor.shape}\")\n",
        "print(f\"X_test_tensor: {X_test_tensor.shape}\")\n",
        "print(f\"y_test_tensor: {y_test_tensor.shape}\")"
      ],
      "metadata": {
        "id": "qsxfe8N-_nEH",
        "colab": {
          "base_uri": "https://localhost:8080/"
        },
        "outputId": "0647674a-dacc-4abf-9538-5db03363349b"
      },
      "execution_count": 297,
      "outputs": [
        {
          "output_type": "stream",
          "name": "stdout",
          "text": [
            "X_train_tensor: torch.Size([33756, 200])\n",
            "y_train_tensor: torch.Size([33756])\n",
            "X_test_tensor: torch.Size([11252, 200])\n",
            "y_test_tensor: torch.Size([11252])\n"
          ]
        }
      ]
    },
    {
      "cell_type": "markdown",
      "source": [
        "## Define neural network and hyperparameters"
      ],
      "metadata": {
        "id": "VAbAJBRlT-uu"
      }
    },
    {
      "cell_type": "code",
      "source": [
        "# The dimension of the embeddings\n",
        "inputSize = X_train_tensor.shape[1]\n",
        "\n",
        "# The sizes of the hidden layers\n",
        "hLayer = [64, 32, 8]\n",
        "\n",
        "# The number of output classes\n",
        "numOfClasses = 2\n",
        "\n",
        "# Larger learning rate, means faster learning by the nn, but bigger jumps\n",
        "learningRate = 1e-4\n",
        "\n",
        "# The number of times the entire dataset is passed forward and backward through the nn\n",
        "numOfEpochs = 120\n",
        "\n",
        "# The number of training examples in a single batch.\n",
        "batchSize = 64"
      ],
      "metadata": {
        "id": "p0K0b9zVUWC_"
      },
      "execution_count": 298,
      "outputs": []
    },
    {
      "cell_type": "code",
      "source": [
        "class Net(nn.Module):\n",
        "  def __init__(self, inputSize, hLayer, numOfClasses):\n",
        "    super(Net, self).__init__()\n",
        "    \n",
        "    self.linear1 = nn.Linear(inputSize, hLayer[0])\n",
        "    self.linear2 = nn.Linear(hLayer[0], hLayer[1])\n",
        "    self.linear3 = nn.Linear(hLayer[1], hLayer[2])\n",
        "    self.linear4 = nn.Linear(hLayer[2], numOfClasses)\n",
        "      \n",
        "  def forward(self, x):\n",
        "    out = self.linear1(x)\n",
        "    out = self.linear2(out)\n",
        "    out = self.linear3(out)\n",
        "    out = self.linear4(out)\n",
        "    return out\n"
      ],
      "metadata": {
        "id": "WQLRvc-C_o0l"
      },
      "execution_count": 299,
      "outputs": []
    },
    {
      "cell_type": "code",
      "source": [
        "# Initialise model, loss and optimizer\n",
        "model = Net(inputSize, hLayer, numOfClasses)\n",
        "loss_func = nn.CrossEntropyLoss()\n",
        "optimizer = torch.optim.Adam(model.parameters(), lr=learningRate)\n",
        "\n",
        "\n",
        "# Initialise trainDataloader\n",
        "trainDataset = torch.utils.data.TensorDataset(X_train_tensor, y_train_tensor)\n",
        "trainDataloader = torch.utils.data.DataLoader(trainDataset, batch_size=batchSize, shuffle=True)"
      ],
      "metadata": {
        "id": "ui66sG7IQxeX"
      },
      "execution_count": 300,
      "outputs": []
    },
    {
      "cell_type": "code",
      "source": [
        "model"
      ],
      "metadata": {
        "colab": {
          "base_uri": "https://localhost:8080/"
        },
        "id": "eTIfA0pzQ8Bs",
        "outputId": "77f2117c-4bb4-42a0-9c9d-65ff98aa3542"
      },
      "execution_count": 301,
      "outputs": [
        {
          "output_type": "execute_result",
          "data": {
            "text/plain": [
              "Net(\n",
              "  (linear1): Linear(in_features=200, out_features=64, bias=True)\n",
              "  (linear2): Linear(in_features=64, out_features=32, bias=True)\n",
              "  (linear3): Linear(in_features=32, out_features=8, bias=True)\n",
              "  (linear4): Linear(in_features=8, out_features=2, bias=True)\n",
              ")"
            ]
          },
          "metadata": {},
          "execution_count": 301
        }
      ]
    },
    {
      "cell_type": "markdown",
      "source": [
        "## Train the model"
      ],
      "metadata": {
        "id": "TVogKIiyiygQ"
      }
    },
    {
      "cell_type": "code",
      "source": [
        "start_time = time.time()\n",
        "for epoch in range(numOfEpochs):\n",
        "  batch_losses = []\n",
        "\n",
        "  for x_batch, y_batch in trainDataloader:\n",
        "    y_pred = model(x_batch)\n",
        "    \n",
        "    loss = loss_func(y_pred, y_batch)\n",
        "    batch_losses.append(loss.item())\n",
        "    \n",
        "    # Delete previously stored gradients\n",
        "    optimizer.zero_grad()\n",
        "    # Perform backpropagation starting from the loss calculated in this epoch\n",
        "    loss.backward()\n",
        "    # Update model's weights based on the gradients calculated during backprop\n",
        "    optimizer.step()\n",
        "  \n",
        "  print(f\"Epoch {epoch:3}: Loss = {sum(batch_losses)/len(trainDataloader):.5f}\")\n",
        "print(f\"Total time to train the model: {str(time.time() - start_time)}.\")\n"
      ],
      "metadata": {
        "colab": {
          "base_uri": "https://localhost:8080/"
        },
        "id": "-O9R3epFQ73h",
        "outputId": "7fd2ec5a-2850-45db-9630-2c07b42c29c9"
      },
      "execution_count": 302,
      "outputs": [
        {
          "output_type": "stream",
          "name": "stdout",
          "text": [
            "Epoch   0: Loss = 0.60021\n",
            "Epoch   1: Loss = 0.45004\n",
            "Epoch   2: Loss = 0.41867\n",
            "Epoch   3: Loss = 0.40926\n",
            "Epoch   4: Loss = 0.40431\n",
            "Epoch   5: Loss = 0.40244\n",
            "Epoch   6: Loss = 0.40031\n",
            "Epoch   7: Loss = 0.39902\n",
            "Epoch   8: Loss = 0.39868\n",
            "Epoch   9: Loss = 0.39764\n",
            "Epoch  10: Loss = 0.39753\n",
            "Epoch  11: Loss = 0.39630\n",
            "Epoch  12: Loss = 0.39606\n",
            "Epoch  13: Loss = 0.39662\n",
            "Epoch  14: Loss = 0.39549\n",
            "Epoch  15: Loss = 0.39503\n",
            "Epoch  16: Loss = 0.39492\n",
            "Epoch  17: Loss = 0.39447\n",
            "Epoch  18: Loss = 0.39501\n",
            "Epoch  19: Loss = 0.39415\n",
            "Epoch  20: Loss = 0.39467\n",
            "Epoch  21: Loss = 0.39427\n",
            "Epoch  22: Loss = 0.39367\n",
            "Epoch  23: Loss = 0.39365\n",
            "Epoch  24: Loss = 0.39376\n",
            "Epoch  25: Loss = 0.39330\n",
            "Epoch  26: Loss = 0.39373\n",
            "Epoch  27: Loss = 0.39342\n",
            "Epoch  28: Loss = 0.39297\n",
            "Epoch  29: Loss = 0.39295\n",
            "Epoch  30: Loss = 0.39351\n",
            "Epoch  31: Loss = 0.39294\n",
            "Epoch  32: Loss = 0.39352\n",
            "Epoch  33: Loss = 0.39294\n",
            "Epoch  34: Loss = 0.39350\n",
            "Epoch  35: Loss = 0.39298\n",
            "Epoch  36: Loss = 0.39242\n",
            "Epoch  37: Loss = 0.39251\n",
            "Epoch  38: Loss = 0.39231\n",
            "Epoch  39: Loss = 0.39259\n",
            "Epoch  40: Loss = 0.39256\n",
            "Epoch  41: Loss = 0.39251\n",
            "Epoch  42: Loss = 0.39241\n",
            "Epoch  43: Loss = 0.39286\n",
            "Epoch  44: Loss = 0.39224\n",
            "Epoch  45: Loss = 0.39218\n",
            "Epoch  46: Loss = 0.39220\n",
            "Epoch  47: Loss = 0.39229\n",
            "Epoch  48: Loss = 0.39265\n",
            "Epoch  49: Loss = 0.39198\n",
            "Epoch  50: Loss = 0.39196\n",
            "Epoch  51: Loss = 0.39176\n",
            "Epoch  52: Loss = 0.39234\n",
            "Epoch  53: Loss = 0.39187\n",
            "Epoch  54: Loss = 0.39219\n",
            "Epoch  55: Loss = 0.39151\n",
            "Epoch  56: Loss = 0.39203\n",
            "Epoch  57: Loss = 0.39206\n",
            "Epoch  58: Loss = 0.39132\n",
            "Epoch  59: Loss = 0.39144\n",
            "Epoch  60: Loss = 0.39176\n",
            "Epoch  61: Loss = 0.39123\n",
            "Epoch  62: Loss = 0.39149\n",
            "Epoch  63: Loss = 0.39215\n",
            "Epoch  64: Loss = 0.39133\n",
            "Epoch  65: Loss = 0.39166\n",
            "Epoch  66: Loss = 0.39122\n",
            "Epoch  67: Loss = 0.39120\n",
            "Epoch  68: Loss = 0.39099\n",
            "Epoch  69: Loss = 0.39142\n",
            "Epoch  70: Loss = 0.39139\n",
            "Epoch  71: Loss = 0.39041\n",
            "Epoch  72: Loss = 0.39105\n",
            "Epoch  73: Loss = 0.39138\n",
            "Epoch  74: Loss = 0.39030\n",
            "Epoch  75: Loss = 0.39100\n",
            "Epoch  76: Loss = 0.39114\n",
            "Epoch  77: Loss = 0.39141\n",
            "Epoch  78: Loss = 0.39106\n",
            "Epoch  79: Loss = 0.39079\n",
            "Epoch  80: Loss = 0.39035\n",
            "Epoch  81: Loss = 0.39078\n",
            "Epoch  82: Loss = 0.39122\n",
            "Epoch  83: Loss = 0.39037\n",
            "Epoch  84: Loss = 0.39097\n",
            "Epoch  85: Loss = 0.39096\n",
            "Epoch  86: Loss = 0.39071\n",
            "Epoch  87: Loss = 0.39054\n",
            "Epoch  88: Loss = 0.39057\n",
            "Epoch  89: Loss = 0.39053\n",
            "Epoch  90: Loss = 0.39071\n",
            "Epoch  91: Loss = 0.39036\n",
            "Epoch  92: Loss = 0.39036\n",
            "Epoch  93: Loss = 0.39026\n",
            "Epoch  94: Loss = 0.39057\n",
            "Epoch  95: Loss = 0.39125\n",
            "Epoch  96: Loss = 0.39030\n",
            "Epoch  97: Loss = 0.39035\n",
            "Epoch  98: Loss = 0.39029\n",
            "Epoch  99: Loss = 0.38986\n",
            "Epoch 100: Loss = 0.39020\n",
            "Epoch 101: Loss = 0.39033\n",
            "Epoch 102: Loss = 0.39029\n",
            "Epoch 103: Loss = 0.38984\n",
            "Epoch 104: Loss = 0.39094\n",
            "Epoch 105: Loss = 0.39053\n",
            "Epoch 106: Loss = 0.39002\n",
            "Epoch 107: Loss = 0.39112\n",
            "Epoch 108: Loss = 0.39027\n",
            "Epoch 109: Loss = 0.39020\n",
            "Epoch 110: Loss = 0.38952\n",
            "Epoch 111: Loss = 0.39039\n",
            "Epoch 112: Loss = 0.38964\n",
            "Epoch 113: Loss = 0.39000\n",
            "Epoch 114: Loss = 0.39014\n",
            "Epoch 115: Loss = 0.38997\n",
            "Epoch 116: Loss = 0.38999\n",
            "Epoch 117: Loss = 0.38937\n",
            "Epoch 118: Loss = 0.39008\n",
            "Epoch 119: Loss = 0.38929\n",
            "Total time to train the model: 114.70229482650757.\n"
          ]
        }
      ]
    },
    {
      "cell_type": "code",
      "source": [],
      "metadata": {
        "id": "Wu9VdQKySkaz"
      },
      "execution_count": 303,
      "outputs": []
    },
    {
      "cell_type": "markdown",
      "source": [
        "## Evaluate the model"
      ],
      "metadata": {
        "id": "PRdwFg_Wi9UE"
      }
    },
    {
      "cell_type": "code",
      "source": [
        "results = model(X_test_tensor)\n",
        "\n",
        "predicted_values = results.max(1).indices\n",
        "predicted_values = predicted_values.detach().numpy()\n",
        "y_test_values = y_test_tensor.detach().numpy()\n",
        "\n",
        "print(predicted_values)\n",
        "print(y_test_values)"
      ],
      "metadata": {
        "colab": {
          "base_uri": "https://localhost:8080/"
        },
        "id": "5RTEykpRjRjY",
        "outputId": "cee8a3c6-3db2-4776-8ed4-f8d10746292b"
      },
      "execution_count": 304,
      "outputs": [
        {
          "output_type": "stream",
          "name": "stdout",
          "text": [
            "[0 0 0 ... 0 0 1]\n",
            "[0 0 0 ... 0 0 1]\n"
          ]
        }
      ]
    },
    {
      "cell_type": "code",
      "source": [
        "accuracy = accuracy_score(y_test_values, predicted_values)\n",
        "accuracy"
      ],
      "metadata": {
        "colab": {
          "base_uri": "https://localhost:8080/"
        },
        "id": "F-7RMuvC6GRI",
        "outputId": "d98bfcd7-bc43-495c-c62a-3ddf07db31c2"
      },
      "execution_count": 305,
      "outputs": [
        {
          "output_type": "execute_result",
          "data": {
            "text/plain": [
              "0.8239424102381799"
            ]
          },
          "metadata": {},
          "execution_count": 305
        }
      ]
    }
  ]
}